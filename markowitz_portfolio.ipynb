{
 "cells": [
  {
   "cell_type": "code",
   "execution_count": 52,
   "metadata": {},
   "outputs": [],
   "source": [
    "from scipy.optimize import minimize\n",
    "import pandas as pd\n",
    "import matplotlib.pyplot as plt\n",
    "import numpy as np\n",
    "\n",
    "%run functions.py"
   ]
  },
  {
   "cell_type": "code",
   "execution_count": 53,
   "metadata": {},
   "outputs": [],
   "source": [
    "num_days = 252"
   ]
  },
  {
   "cell_type": "code",
   "execution_count": 54,
   "metadata": {},
   "outputs": [],
   "source": [
    "wanted_stocks = ['GOOG', 'SPG', 'GOOGL', 'MSFT', 'GD', 'ACN', 'COP', 'F', 'BAC', 'GS',\n",
    "       'NVDA', 'AIG', 'MS', 'WFC', 'ORCL', 'XOM', 'TGT', 'LOW', 'EXC', 'COST',\n",
    "       'AXP', 'BK', 'JPM', 'COF', 'CSCO', 'DHR', 'UNH', 'CVS', 'LLY', 'CVX',\n",
    "       'MET', 'AMT', 'CRM', 'BLK', 'RTX', 'MCD', 'TMO', 'LIN', 'ADBE', 'EMR',\n",
    "       'USB', 'UPS', 'TSLA', 'PFE', 'PM']"
   ]
  },
  {
   "cell_type": "code",
   "execution_count": 55,
   "metadata": {},
   "outputs": [
    {
     "data": {
      "text/html": [
       "<div>\n",
       "<style scoped>\n",
       "    .dataframe tbody tr th:only-of-type {\n",
       "        vertical-align: middle;\n",
       "    }\n",
       "\n",
       "    .dataframe tbody tr th {\n",
       "        vertical-align: top;\n",
       "    }\n",
       "\n",
       "    .dataframe thead th {\n",
       "        text-align: right;\n",
       "    }\n",
       "</style>\n",
       "<table border=\"1\" class=\"dataframe\">\n",
       "  <thead>\n",
       "    <tr style=\"text-align: right;\">\n",
       "      <th></th>\n",
       "      <th>GOOG</th>\n",
       "      <th>SPG</th>\n",
       "      <th>GOOGL</th>\n",
       "      <th>MSFT</th>\n",
       "      <th>GD</th>\n",
       "      <th>ACN</th>\n",
       "      <th>COP</th>\n",
       "      <th>F</th>\n",
       "      <th>BAC</th>\n",
       "      <th>GS</th>\n",
       "      <th>...</th>\n",
       "      <th>MCD</th>\n",
       "      <th>TMO</th>\n",
       "      <th>LIN</th>\n",
       "      <th>ADBE</th>\n",
       "      <th>EMR</th>\n",
       "      <th>USB</th>\n",
       "      <th>UPS</th>\n",
       "      <th>TSLA</th>\n",
       "      <th>PFE</th>\n",
       "      <th>PM</th>\n",
       "    </tr>\n",
       "    <tr>\n",
       "      <th>Date</th>\n",
       "      <th></th>\n",
       "      <th></th>\n",
       "      <th></th>\n",
       "      <th></th>\n",
       "      <th></th>\n",
       "      <th></th>\n",
       "      <th></th>\n",
       "      <th></th>\n",
       "      <th></th>\n",
       "      <th></th>\n",
       "      <th></th>\n",
       "      <th></th>\n",
       "      <th></th>\n",
       "      <th></th>\n",
       "      <th></th>\n",
       "      <th></th>\n",
       "      <th></th>\n",
       "      <th></th>\n",
       "      <th></th>\n",
       "      <th></th>\n",
       "      <th></th>\n",
       "    </tr>\n",
       "  </thead>\n",
       "  <tbody>\n",
       "    <tr>\n",
       "      <th>2021-01-04</th>\n",
       "      <td>1728.239990</td>\n",
       "      <td>80.108383</td>\n",
       "      <td>1726.130005</td>\n",
       "      <td>216.689423</td>\n",
       "      <td>142.191360</td>\n",
       "      <td>253.328720</td>\n",
       "      <td>38.381340</td>\n",
       "      <td>8.52</td>\n",
       "      <td>29.604614</td>\n",
       "      <td>261.802551</td>\n",
       "      <td>...</td>\n",
       "      <td>206.653915</td>\n",
       "      <td>471.064941</td>\n",
       "      <td>255.930817</td>\n",
       "      <td>485.339996</td>\n",
       "      <td>76.753830</td>\n",
       "      <td>45.091583</td>\n",
       "      <td>161.141953</td>\n",
       "      <td>729.770020</td>\n",
       "      <td>35.423965</td>\n",
       "      <td>78.486618</td>\n",
       "    </tr>\n",
       "    <tr>\n",
       "      <th>2021-01-05</th>\n",
       "      <td>1740.920044</td>\n",
       "      <td>80.456642</td>\n",
       "      <td>1740.050049</td>\n",
       "      <td>216.898438</td>\n",
       "      <td>142.259567</td>\n",
       "      <td>254.770905</td>\n",
       "      <td>40.583153</td>\n",
       "      <td>8.65</td>\n",
       "      <td>29.831354</td>\n",
       "      <td>267.660980</td>\n",
       "      <td>...</td>\n",
       "      <td>207.892548</td>\n",
       "      <td>476.955505</td>\n",
       "      <td>259.945679</td>\n",
       "      <td>485.690002</td>\n",
       "      <td>78.082092</td>\n",
       "      <td>45.238235</td>\n",
       "      <td>158.898941</td>\n",
       "      <td>735.109985</td>\n",
       "      <td>35.789654</td>\n",
       "      <td>79.343712</td>\n",
       "    </tr>\n",
       "    <tr>\n",
       "      <th>2021-01-06</th>\n",
       "      <td>1735.290039</td>\n",
       "      <td>82.294655</td>\n",
       "      <td>1722.880005</td>\n",
       "      <td>211.274414</td>\n",
       "      <td>145.893768</td>\n",
       "      <td>257.556427</td>\n",
       "      <td>42.202988</td>\n",
       "      <td>8.84</td>\n",
       "      <td>31.694584</td>\n",
       "      <td>282.104553</td>\n",
       "      <td>...</td>\n",
       "      <td>207.420670</td>\n",
       "      <td>484.433533</td>\n",
       "      <td>268.479645</td>\n",
       "      <td>466.309998</td>\n",
       "      <td>80.709106</td>\n",
       "      <td>47.917137</td>\n",
       "      <td>158.426727</td>\n",
       "      <td>755.979980</td>\n",
       "      <td>35.481701</td>\n",
       "      <td>79.449646</td>\n",
       "    </tr>\n",
       "    <tr>\n",
       "      <th>2021-01-07</th>\n",
       "      <td>1787.250000</td>\n",
       "      <td>82.352692</td>\n",
       "      <td>1774.339966</td>\n",
       "      <td>217.286652</td>\n",
       "      <td>147.822922</td>\n",
       "      <td>259.986450</td>\n",
       "      <td>43.357246</td>\n",
       "      <td>9.06</td>\n",
       "      <td>32.394527</td>\n",
       "      <td>288.130981</td>\n",
       "      <td>...</td>\n",
       "      <td>208.384064</td>\n",
       "      <td>499.529297</td>\n",
       "      <td>267.708313</td>\n",
       "      <td>477.739990</td>\n",
       "      <td>80.748459</td>\n",
       "      <td>48.875290</td>\n",
       "      <td>156.419815</td>\n",
       "      <td>816.039978</td>\n",
       "      <td>35.664547</td>\n",
       "      <td>79.911911</td>\n",
       "    </tr>\n",
       "    <tr>\n",
       "      <th>2021-01-08</th>\n",
       "      <td>1807.209961</td>\n",
       "      <td>83.668327</td>\n",
       "      <td>1797.829956</td>\n",
       "      <td>218.610550</td>\n",
       "      <td>146.897308</td>\n",
       "      <td>260.934753</td>\n",
       "      <td>43.357246</td>\n",
       "      <td>9.00</td>\n",
       "      <td>32.069199</td>\n",
       "      <td>286.579926</td>\n",
       "      <td>...</td>\n",
       "      <td>212.208069</td>\n",
       "      <td>511.480133</td>\n",
       "      <td>267.391876</td>\n",
       "      <td>485.100006</td>\n",
       "      <td>80.502480</td>\n",
       "      <td>48.220222</td>\n",
       "      <td>155.819717</td>\n",
       "      <td>880.020020</td>\n",
       "      <td>35.731911</td>\n",
       "      <td>80.017830</td>\n",
       "    </tr>\n",
       "  </tbody>\n",
       "</table>\n",
       "<p>5 rows × 45 columns</p>\n",
       "</div>"
      ],
      "text/plain": [
       "                   GOOG        SPG        GOOGL        MSFT          GD  \\\n",
       "Date                                                                      \n",
       "2021-01-04  1728.239990  80.108383  1726.130005  216.689423  142.191360   \n",
       "2021-01-05  1740.920044  80.456642  1740.050049  216.898438  142.259567   \n",
       "2021-01-06  1735.290039  82.294655  1722.880005  211.274414  145.893768   \n",
       "2021-01-07  1787.250000  82.352692  1774.339966  217.286652  147.822922   \n",
       "2021-01-08  1807.209961  83.668327  1797.829956  218.610550  146.897308   \n",
       "\n",
       "                   ACN        COP     F        BAC          GS  ...  \\\n",
       "Date                                                            ...   \n",
       "2021-01-04  253.328720  38.381340  8.52  29.604614  261.802551  ...   \n",
       "2021-01-05  254.770905  40.583153  8.65  29.831354  267.660980  ...   \n",
       "2021-01-06  257.556427  42.202988  8.84  31.694584  282.104553  ...   \n",
       "2021-01-07  259.986450  43.357246  9.06  32.394527  288.130981  ...   \n",
       "2021-01-08  260.934753  43.357246  9.00  32.069199  286.579926  ...   \n",
       "\n",
       "                   MCD         TMO         LIN        ADBE        EMR  \\\n",
       "Date                                                                    \n",
       "2021-01-04  206.653915  471.064941  255.930817  485.339996  76.753830   \n",
       "2021-01-05  207.892548  476.955505  259.945679  485.690002  78.082092   \n",
       "2021-01-06  207.420670  484.433533  268.479645  466.309998  80.709106   \n",
       "2021-01-07  208.384064  499.529297  267.708313  477.739990  80.748459   \n",
       "2021-01-08  212.208069  511.480133  267.391876  485.100006  80.502480   \n",
       "\n",
       "                  USB         UPS        TSLA        PFE         PM  \n",
       "Date                                                                 \n",
       "2021-01-04  45.091583  161.141953  729.770020  35.423965  78.486618  \n",
       "2021-01-05  45.238235  158.898941  735.109985  35.789654  79.343712  \n",
       "2021-01-06  47.917137  158.426727  755.979980  35.481701  79.449646  \n",
       "2021-01-07  48.875290  156.419815  816.039978  35.664547  79.911911  \n",
       "2021-01-08  48.220222  155.819717  880.020020  35.731911  80.017830  \n",
       "\n",
       "[5 rows x 45 columns]"
      ]
     },
     "execution_count": 55,
     "metadata": {},
     "output_type": "execute_result"
    }
   ],
   "source": [
    "stocks = pd.read_csv('data/sap100_data_08112021.csv',index_col=0).loc[:,wanted_stocks]\n",
    "stocks.head()"
   ]
  },
  {
   "cell_type": "code",
   "execution_count": 56,
   "metadata": {},
   "outputs": [
    {
     "data": {
      "text/html": [
       "<div>\n",
       "<style scoped>\n",
       "    .dataframe tbody tr th:only-of-type {\n",
       "        vertical-align: middle;\n",
       "    }\n",
       "\n",
       "    .dataframe tbody tr th {\n",
       "        vertical-align: top;\n",
       "    }\n",
       "\n",
       "    .dataframe thead th {\n",
       "        text-align: right;\n",
       "    }\n",
       "</style>\n",
       "<table border=\"1\" class=\"dataframe\">\n",
       "  <thead>\n",
       "    <tr style=\"text-align: right;\">\n",
       "      <th></th>\n",
       "      <th>GOOG</th>\n",
       "      <th>SPG</th>\n",
       "      <th>GOOGL</th>\n",
       "      <th>MSFT</th>\n",
       "      <th>GD</th>\n",
       "      <th>ACN</th>\n",
       "      <th>COP</th>\n",
       "      <th>F</th>\n",
       "      <th>BAC</th>\n",
       "      <th>GS</th>\n",
       "      <th>...</th>\n",
       "      <th>MCD</th>\n",
       "      <th>TMO</th>\n",
       "      <th>LIN</th>\n",
       "      <th>ADBE</th>\n",
       "      <th>EMR</th>\n",
       "      <th>USB</th>\n",
       "      <th>UPS</th>\n",
       "      <th>TSLA</th>\n",
       "      <th>PFE</th>\n",
       "      <th>PM</th>\n",
       "    </tr>\n",
       "    <tr>\n",
       "      <th>Date</th>\n",
       "      <th></th>\n",
       "      <th></th>\n",
       "      <th></th>\n",
       "      <th></th>\n",
       "      <th></th>\n",
       "      <th></th>\n",
       "      <th></th>\n",
       "      <th></th>\n",
       "      <th></th>\n",
       "      <th></th>\n",
       "      <th></th>\n",
       "      <th></th>\n",
       "      <th></th>\n",
       "      <th></th>\n",
       "      <th></th>\n",
       "      <th></th>\n",
       "      <th></th>\n",
       "      <th></th>\n",
       "      <th></th>\n",
       "      <th></th>\n",
       "      <th></th>\n",
       "    </tr>\n",
       "  </thead>\n",
       "  <tbody>\n",
       "    <tr>\n",
       "      <th>2021-01-04</th>\n",
       "      <td>NaN</td>\n",
       "      <td>NaN</td>\n",
       "      <td>NaN</td>\n",
       "      <td>NaN</td>\n",
       "      <td>NaN</td>\n",
       "      <td>NaN</td>\n",
       "      <td>NaN</td>\n",
       "      <td>NaN</td>\n",
       "      <td>NaN</td>\n",
       "      <td>NaN</td>\n",
       "      <td>...</td>\n",
       "      <td>NaN</td>\n",
       "      <td>NaN</td>\n",
       "      <td>NaN</td>\n",
       "      <td>NaN</td>\n",
       "      <td>NaN</td>\n",
       "      <td>NaN</td>\n",
       "      <td>NaN</td>\n",
       "      <td>NaN</td>\n",
       "      <td>NaN</td>\n",
       "      <td>NaN</td>\n",
       "    </tr>\n",
       "    <tr>\n",
       "      <th>2021-01-05</th>\n",
       "      <td>0.007337</td>\n",
       "      <td>0.004347</td>\n",
       "      <td>0.008064</td>\n",
       "      <td>0.000965</td>\n",
       "      <td>0.000480</td>\n",
       "      <td>0.005693</td>\n",
       "      <td>0.057367</td>\n",
       "      <td>0.015258</td>\n",
       "      <td>0.007659</td>\n",
       "      <td>0.022377</td>\n",
       "      <td>...</td>\n",
       "      <td>0.005994</td>\n",
       "      <td>0.012505</td>\n",
       "      <td>0.015687</td>\n",
       "      <td>0.000721</td>\n",
       "      <td>0.017305</td>\n",
       "      <td>0.003252</td>\n",
       "      <td>-0.013919</td>\n",
       "      <td>0.007317</td>\n",
       "      <td>0.010323</td>\n",
       "      <td>0.010920</td>\n",
       "    </tr>\n",
       "    <tr>\n",
       "      <th>2021-01-06</th>\n",
       "      <td>-0.003234</td>\n",
       "      <td>0.022845</td>\n",
       "      <td>-0.009868</td>\n",
       "      <td>-0.025929</td>\n",
       "      <td>0.025546</td>\n",
       "      <td>0.010933</td>\n",
       "      <td>0.039914</td>\n",
       "      <td>0.021965</td>\n",
       "      <td>0.062459</td>\n",
       "      <td>0.053962</td>\n",
       "      <td>...</td>\n",
       "      <td>-0.002270</td>\n",
       "      <td>0.015679</td>\n",
       "      <td>0.032830</td>\n",
       "      <td>-0.039902</td>\n",
       "      <td>0.033644</td>\n",
       "      <td>0.059218</td>\n",
       "      <td>-0.002972</td>\n",
       "      <td>0.028390</td>\n",
       "      <td>-0.008605</td>\n",
       "      <td>0.001335</td>\n",
       "    </tr>\n",
       "    <tr>\n",
       "      <th>2021-01-07</th>\n",
       "      <td>0.029943</td>\n",
       "      <td>0.000705</td>\n",
       "      <td>0.029869</td>\n",
       "      <td>0.028457</td>\n",
       "      <td>0.013223</td>\n",
       "      <td>0.009435</td>\n",
       "      <td>0.027350</td>\n",
       "      <td>0.024887</td>\n",
       "      <td>0.022084</td>\n",
       "      <td>0.021362</td>\n",
       "      <td>...</td>\n",
       "      <td>0.004645</td>\n",
       "      <td>0.031162</td>\n",
       "      <td>-0.002873</td>\n",
       "      <td>0.024512</td>\n",
       "      <td>0.000488</td>\n",
       "      <td>0.019996</td>\n",
       "      <td>-0.012668</td>\n",
       "      <td>0.079447</td>\n",
       "      <td>0.005153</td>\n",
       "      <td>0.005818</td>\n",
       "    </tr>\n",
       "    <tr>\n",
       "      <th>2021-01-08</th>\n",
       "      <td>0.011168</td>\n",
       "      <td>0.015976</td>\n",
       "      <td>0.013239</td>\n",
       "      <td>0.006093</td>\n",
       "      <td>-0.006262</td>\n",
       "      <td>0.003648</td>\n",
       "      <td>0.000000</td>\n",
       "      <td>-0.006623</td>\n",
       "      <td>-0.010043</td>\n",
       "      <td>-0.005383</td>\n",
       "      <td>...</td>\n",
       "      <td>0.018351</td>\n",
       "      <td>0.023924</td>\n",
       "      <td>-0.001182</td>\n",
       "      <td>0.015406</td>\n",
       "      <td>-0.003046</td>\n",
       "      <td>-0.013403</td>\n",
       "      <td>-0.003836</td>\n",
       "      <td>0.078403</td>\n",
       "      <td>0.001889</td>\n",
       "      <td>0.001325</td>\n",
       "    </tr>\n",
       "  </tbody>\n",
       "</table>\n",
       "<p>5 rows × 45 columns</p>\n",
       "</div>"
      ],
      "text/plain": [
       "                GOOG       SPG     GOOGL      MSFT        GD       ACN  \\\n",
       "Date                                                                     \n",
       "2021-01-04       NaN       NaN       NaN       NaN       NaN       NaN   \n",
       "2021-01-05  0.007337  0.004347  0.008064  0.000965  0.000480  0.005693   \n",
       "2021-01-06 -0.003234  0.022845 -0.009868 -0.025929  0.025546  0.010933   \n",
       "2021-01-07  0.029943  0.000705  0.029869  0.028457  0.013223  0.009435   \n",
       "2021-01-08  0.011168  0.015976  0.013239  0.006093 -0.006262  0.003648   \n",
       "\n",
       "                 COP         F       BAC        GS  ...       MCD       TMO  \\\n",
       "Date                                                ...                       \n",
       "2021-01-04       NaN       NaN       NaN       NaN  ...       NaN       NaN   \n",
       "2021-01-05  0.057367  0.015258  0.007659  0.022377  ...  0.005994  0.012505   \n",
       "2021-01-06  0.039914  0.021965  0.062459  0.053962  ... -0.002270  0.015679   \n",
       "2021-01-07  0.027350  0.024887  0.022084  0.021362  ...  0.004645  0.031162   \n",
       "2021-01-08  0.000000 -0.006623 -0.010043 -0.005383  ...  0.018351  0.023924   \n",
       "\n",
       "                 LIN      ADBE       EMR       USB       UPS      TSLA  \\\n",
       "Date                                                                     \n",
       "2021-01-04       NaN       NaN       NaN       NaN       NaN       NaN   \n",
       "2021-01-05  0.015687  0.000721  0.017305  0.003252 -0.013919  0.007317   \n",
       "2021-01-06  0.032830 -0.039902  0.033644  0.059218 -0.002972  0.028390   \n",
       "2021-01-07 -0.002873  0.024512  0.000488  0.019996 -0.012668  0.079447   \n",
       "2021-01-08 -0.001182  0.015406 -0.003046 -0.013403 -0.003836  0.078403   \n",
       "\n",
       "                 PFE        PM  \n",
       "Date                            \n",
       "2021-01-04       NaN       NaN  \n",
       "2021-01-05  0.010323  0.010920  \n",
       "2021-01-06 -0.008605  0.001335  \n",
       "2021-01-07  0.005153  0.005818  \n",
       "2021-01-08  0.001889  0.001325  \n",
       "\n",
       "[5 rows x 45 columns]"
      ]
     },
     "execution_count": 56,
     "metadata": {},
     "output_type": "execute_result"
    }
   ],
   "source": [
    "returns = stocks/stocks.shift(1)-1\n",
    "returns.head()"
   ]
  },
  {
   "cell_type": "code",
   "execution_count": 57,
   "metadata": {},
   "outputs": [
    {
     "name": "stdout",
     "output_type": "stream",
     "text": [
      "GOOG     0.643850\n",
      "SPG      0.798228\n",
      "GOOGL    0.644627\n",
      "MSFT     0.526512\n",
      "GD       0.437839\n",
      "dtype: float64            GOOG       SPG     GOOGL      MSFT        GD       ACN       COP  \\\n",
      "GOOG   0.059152  0.015217  0.059287  0.035130  0.007999  0.019704  0.016042   \n",
      "SPG    0.015217  0.092785  0.014787  0.006908  0.022520  0.016239  0.051497   \n",
      "GOOGL  0.059287  0.014787  0.062428  0.036748  0.007803  0.019641  0.016128   \n",
      "MSFT   0.035130  0.006908  0.036748  0.042574  0.003716  0.019892 -0.002032   \n",
      "GD     0.007999  0.022520  0.007803  0.003716  0.029850  0.012099  0.021925   \n",
      "\n",
      "              F       BAC        GS  ...       MCD       TMO       LIN  \\\n",
      "GOOG   0.011181  0.008179  0.009389  ...  0.013291  0.013036  0.016222   \n",
      "SPG    0.055850  0.038585  0.040722  ...  0.013736 -0.007785  0.020683   \n",
      "GOOGL  0.011420  0.007795  0.009054  ...  0.012829  0.014384  0.016627   \n",
      "MSFT   0.003265 -0.004523 -0.000584  ...  0.010636  0.021209  0.015375   \n",
      "GD     0.018899  0.023948  0.021352  ...  0.008052 -0.003556  0.010943   \n",
      "\n",
      "           ADBE       EMR       USB       UPS      TSLA       PFE        PM  \n",
      "GOOG   0.033083  0.013596  0.003844  0.009888  0.038670  0.001664  0.008311  \n",
      "SPG    0.005540  0.032532  0.038065  0.013107  0.032465  0.002207  0.011899  \n",
      "GOOGL  0.034359  0.014106  0.003055  0.009954  0.039171  0.003474  0.008258  \n",
      "MSFT   0.036231  0.007909 -0.005767  0.010340  0.042308  0.003970  0.007999  \n",
      "GD    -0.000334  0.022310  0.024644  0.008307 -0.005079  0.004833  0.008683  \n",
      "\n",
      "[5 rows x 45 columns] GOOG     0.243212\n",
      "SPG      0.304607\n",
      "GOOGL    0.249855\n",
      "MSFT     0.206335\n",
      "GD       0.172772\n",
      "dtype: float64\n"
     ]
    }
   ],
   "source": [
    "r = returns.mean() * num_days\n",
    "V = returns.cov() * num_days\n",
    "sigma = returns.std() * np.sqrt(num_days)\n",
    "print(r.head(),V.head(),sigma.head())"
   ]
  },
  {
   "cell_type": "markdown",
   "metadata": {},
   "source": [
    "# Markowitzov problem ako minimalizacia sharpie ratio"
   ]
  },
  {
   "cell_type": "markdown",
   "metadata": {},
   "source": [
    "### Bez dodatocnych ohraniceny"
   ]
  },
  {
   "cell_type": "code",
   "execution_count": 58,
   "metadata": {},
   "outputs": [
    {
     "name": "stderr",
     "output_type": "stream",
     "text": [
      "C:\\Users\\rados\\AppData\\Local\\Packages\\PythonSoftwareFoundation.Python.3.8_qbz5n2kfra8p0\\LocalCache\\local-packages\\Python38\\site-packages\\scipy\\optimize\\optimize.py:282: RuntimeWarning:\n",
      "\n",
      "Values in x were outside bounds during a minimize step, clipping to bounds\n",
      "\n"
     ]
    },
    {
     "data": {
      "text/plain": [
       "     fun: -4.430314869280641\n",
       "     jac: array([-0.36756343, -0.36752892, -0.24666619, -0.29879302, -0.36490905,\n",
       "        0.70940834, -0.36697835, -0.36751312,  0.06487435,  0.36971116,\n",
       "       -0.36756313,  0.4800173 ,  0.9840107 , -0.18577719, -0.3674916 ,\n",
       "        0.56806701,  0.5230481 , -0.36746675, -0.10252303, -0.04829651,\n",
       "        0.99001187,  0.25594956,  1.18807429,  0.52152973,  1.1052137 ,\n",
       "       -0.36757928,  0.03671455, -0.05515778, -0.36752129,  1.69435978,\n",
       "        1.93049598, -0.3675887 ,  0.20557916,  2.97726125,  1.76134551,\n",
       "        0.45179558, -0.34568417,  1.65410906,  1.21632648,  2.53747427,\n",
       "        1.61670321,  0.85107887, -0.07298899, -0.22824579,  1.14313459])\n",
       " message: 'Optimization terminated successfully'\n",
       "    nfev: 748\n",
       "     nit: 16\n",
       "    njev: 16\n",
       "  status: 0\n",
       " success: True\n",
       "       x: array([0.06136557, 0.02856094, 0.01      , 0.01      , 0.01      ,\n",
       "       0.01      , 0.05127578, 0.07028322, 0.01      , 0.01      ,\n",
       "       0.04008267, 0.01      , 0.01      , 0.01      , 0.10969695,\n",
       "       0.01      , 0.01      , 0.01604873, 0.01      , 0.01      ,\n",
       "       0.01      , 0.01      , 0.01      , 0.01      , 0.01      ,\n",
       "       0.0844026 , 0.01      , 0.01      , 0.08856193, 0.01      ,\n",
       "       0.01      , 0.09972161, 0.01      , 0.01      , 0.01      ,\n",
       "       0.01      , 0.01      , 0.01      , 0.01      , 0.01      ,\n",
       "       0.01      , 0.01      , 0.01      , 0.01      , 0.01      ])"
      ]
     },
     "execution_count": 58,
     "metadata": {},
     "output_type": "execute_result"
    }
   ],
   "source": [
    "n_stocks = len(stocks.columns)\n",
    "\n",
    "def negativeSR(w):\n",
    "\n",
    "    w = np.array(w)\n",
    "    rate = np.sum(r*w)\n",
    "    volatitity = np.sqrt(np.dot( w.T, np.dot(V,w)))\n",
    "    SR = rate/volatitity\n",
    "    return -1*SR\n",
    "\n",
    "bounds = tuple(((0.01,1) for _ in range(n_stocks)))\n",
    "\n",
    "def check_sum_to_one(w):\n",
    "    return np.sum(w) - 1\n",
    "constraints = ({'type':'eq','fun':check_sum_to_one})\n",
    "\n",
    "w0 = np.array([1/n_stocks*n_stocks])\n",
    "w_opt = minimize(negativeSR, w0, method='SLSQP', bounds=bounds, constraints= constraints)\n",
    "w_opt"
   ]
  },
  {
   "cell_type": "code",
   "execution_count": 59,
   "metadata": {},
   "outputs": [
    {
     "data": {
      "text/plain": [
       "array([0.06136557, 0.02856094, 0.01      , 0.01      , 0.01      ,\n",
       "       0.01      , 0.05127578, 0.07028322, 0.01      , 0.01      ,\n",
       "       0.04008267, 0.01      , 0.01      , 0.01      , 0.10969695,\n",
       "       0.01      , 0.01      , 0.01604873, 0.01      , 0.01      ,\n",
       "       0.01      , 0.01      , 0.01      , 0.01      , 0.01      ,\n",
       "       0.0844026 , 0.01      , 0.01      , 0.08856193, 0.01      ,\n",
       "       0.01      , 0.09972161, 0.01      , 0.01      , 0.01      ,\n",
       "       0.01      , 0.01      , 0.01      , 0.01      , 0.01      ,\n",
       "       0.01      , 0.01      , 0.01      , 0.01      , 0.01      ])"
      ]
     },
     "execution_count": 59,
     "metadata": {},
     "output_type": "execute_result"
    }
   ],
   "source": [
    "w_opt.x"
   ]
  },
  {
   "cell_type": "code",
   "execution_count": 60,
   "metadata": {},
   "outputs": [
    {
     "data": {
      "text/plain": [
       "0.553768036184104"
      ]
     },
     "execution_count": 60,
     "metadata": {},
     "output_type": "execute_result"
    }
   ],
   "source": [
    "final_r = np.sum(w_opt.x * r)\n",
    "final_r"
   ]
  },
  {
   "cell_type": "code",
   "execution_count": 61,
   "metadata": {},
   "outputs": [
    {
     "data": {
      "text/plain": [
       "0.12499518714208688"
      ]
     },
     "execution_count": 61,
     "metadata": {},
     "output_type": "execute_result"
    }
   ],
   "source": [
    "final_v = np.sqrt(np.dot(w_opt.x.T, np.dot(V,w_opt.x)))\n",
    "final_v"
   ]
  },
  {
   "cell_type": "code",
   "execution_count": 62,
   "metadata": {},
   "outputs": [
    {
     "data": {
      "image/png": "[encoded data removed]",
      "text/plain": [
       "<Figure size 504x720 with 1 Axes>"
      ]
     },
     "metadata": {
      "needs_background": "light"
     },
     "output_type": "display_data"
    }
   ],
   "source": [
    "plt.figure(figsize=(7,10))\n",
    "plt.barh(stocks.columns,w_opt.x)\n",
    "plt.title('Váhy jednotlivých aktív')\n",
    "plt.ylabel('symbol')\n",
    "plt.xlabel('váha')\n",
    "plt.show()"
   ]
  },
  {
   "cell_type": "code",
   "execution_count": 63,
   "metadata": {},
   "outputs": [
    {
     "data": {
      "image/png": "[encoded data removed]",
      "text/plain": [
       "<Figure size 1080x504 with 1 Axes>"
      ]
     },
     "metadata": {
      "needs_background": "light"
     },
     "output_type": "display_data"
    }
   ],
   "source": [
    "fig,ax = plt.subplots(figsize=(15,7))\n",
    "validate(w_opt.x, ax, 'markowitz')\n",
    "plt.legend()\n",
    "plt.title(\"Vývoj portfólia v mesiaci november - Markowitzov model\")\n",
    "plt.show()"
   ]
  },
  {
   "cell_type": "code",
   "execution_count": 64,
   "metadata": {},
   "outputs": [
    {
     "data": {
      "application/vnd.plotly.v1+json": {
       "config": {
        "plotlyServerURL": "https://plot.ly"
       },
       "data": [
        {
         "domain": {
          "x": [
           0,
           1
          ],
          "y": [
           0,
           1
          ]
         },
         "hovertemplate": "Sector=%{label}<br>w=%{value}<extra></extra>",
         "labels": [
          "Communication Services",
          "Consumer Discretionary",
          "Consumer Staples",
          "Energy",
          "Financials",
          "Health Care",
          "Industrials",
          "Information Technology",
          "Real Estate",
          "Utilities"
         ],
         "legendgroup": "",
         "name": "",
         "showlegend": true,
         "type": "pie",
         "values": [
          0.07136556862354188,
          0.10633195278513143,
          0.030000000000000353,
          0.07127577905752622,
          0.12000000000001143,
          0.21296453042248906,
          0.05000000000000747,
          0.19977961718192966,
          0.12828255192937377,
          0.01
         ]
        }
       ],
       "layout": {
        "legend": {
         "tracegroupgap": 0
        },
        "template": {
         "data": {
          "bar": [
           {
            "error_x": {
             "color": "#2a3f5f"
            },
            "error_y": {
             "color": "#2a3f5f"
            },
            "marker": {
             "line": {
              "color": "#E5ECF6",
              "width": 0.5
             }
            },
            "type": "bar"
           }
          ],
          "barpolar": [
           {
            "marker": {
             "line": {
              "color": "#E5ECF6",
              "width": 0.5
             }
            },
            "type": "barpolar"
           }
          ],
          "carpet": [
           {
            "aaxis": {
             "endlinecolor": "#2a3f5f",
             "gridcolor": "white",
             "linecolor": "white",
             "minorgridcolor": "white",
             "startlinecolor": "#2a3f5f"
            },
            "baxis": {
             "endlinecolor": "#2a3f5f",
             "gridcolor": "white",
             "linecolor": "white",
             "minorgridcolor": "white",
             "startlinecolor": "#2a3f5f"
            },
            "type": "carpet"
           }
          ],
          "choropleth": [
           {
            "colorbar": {
             "outlinewidth": 0,
             "ticks": ""
            },
            "type": "choropleth"
           }
          ],
          "contour": [
           {
            "colorbar": {
             "outlinewidth": 0,
             "ticks": ""
            },
            "colorscale": [
             [
              0,
              "#0d0887"
             ],
             [
              0.1111111111111111,
              "#46039f"
             ],
             [
              0.2222222222222222,
              "#7201a8"
             ],
             [
              0.3333333333333333,
              "#9c179e"
             ],
             [
              0.4444444444444444,
              "#bd3786"
             ],
             [
              0.5555555555555556,
              "#d8576b"
             ],
             [
              0.6666666666666666,
              "#ed7953"
             ],
             [
              0.7777777777777778,
              "#fb9f3a"
             ],
             [
              0.8888888888888888,
              "#fdca26"
             ],
             [
              1,
              "#f0f921"
             ]
            ],
            "type": "contour"
           }
          ],
          "contourcarpet": [
           {
            "colorbar": {
             "outlinewidth": 0,
             "ticks": ""
            },
            "type": "contourcarpet"
           }
          ],
          "heatmap": [
           {
            "colorbar": {
             "outlinewidth": 0,
             "ticks": ""
            },
            "colorscale": [
             [
              0,
              "#0d0887"
             ],
             [
              0.1111111111111111,
              "#46039f"
             ],
             [
              0.2222222222222222,
              "#7201a8"
             ],
             [
              0.3333333333333333,
              "#9c179e"
             ],
             [
              0.4444444444444444,
              "#bd3786"
             ],
             [
              0.5555555555555556,
              "#d8576b"
             ],
             [
              0.6666666666666666,
              "#ed7953"
             ],
             [
              0.7777777777777778,
              "#fb9f3a"
             ],
             [
              0.8888888888888888,
              "#fdca26"
             ],
             [
              1,
              "#f0f921"
             ]
            ],
            "type": "heatmap"
           }
          ],
          "heatmapgl": [
           {
            "colorbar": {
             "outlinewidth": 0,
             "ticks": ""
            },
            "colorscale": [
             [
              0,
              "#0d0887"
             ],
             [
              0.1111111111111111,
              "#46039f"
             ],
             [
              0.2222222222222222,
              "#7201a8"
             ],
             [
              0.3333333333333333,
              "#9c179e"
             ],
             [
              0.4444444444444444,
              "#bd3786"
             ],
             [
              0.5555555555555556,
              "#d8576b"
             ],
             [
              0.6666666666666666,
              "#ed7953"
             ],
             [
              0.7777777777777778,
              "#fb9f3a"
             ],
             [
              0.8888888888888888,
              "#fdca26"
             ],
             [
              1,
              "#f0f921"
             ]
            ],
            "type": "heatmapgl"
           }
          ],
          "histogram": [
           {
            "marker": {
             "colorbar": {
              "outlinewidth": 0,
              "ticks": ""
             }
            },
            "type": "histogram"
           }
          ],
          "histogram2d": [
           {
            "colorbar": {
             "outlinewidth": 0,
             "ticks": ""
            },
            "colorscale": [
             [
              0,
              "#0d0887"
             ],
             [
              0.1111111111111111,
              "#46039f"
             ],
             [
              0.2222222222222222,
              "#7201a8"
             ],
             [
              0.3333333333333333,
              "#9c179e"
             ],
             [
              0.4444444444444444,
              "#bd3786"
             ],
             [
              0.5555555555555556,
              "#d8576b"
             ],
             [
              0.6666666666666666,
              "#ed7953"
             ],
             [
              0.7777777777777778,
              "#fb9f3a"
             ],
             [
              0.8888888888888888,
              "#fdca26"
             ],
             [
              1,
              "#f0f921"
             ]
            ],
            "type": "histogram2d"
           }
          ],
          "histogram2dcontour": [
           {
            "colorbar": {
             "outlinewidth": 0,
             "ticks": ""
            },
            "colorscale": [
             [
              0,
              "#0d0887"
             ],
             [
              0.1111111111111111,
              "#46039f"
             ],
             [
              0.2222222222222222,
              "#7201a8"
             ],
             [
              0.3333333333333333,
              "#9c179e"
             ],
             [
              0.4444444444444444,
              "#bd3786"
             ],
             [
              0.5555555555555556,
              "#d8576b"
             ],
             [
              0.6666666666666666,
              "#ed7953"
             ],
             [
              0.7777777777777778,
              "#fb9f3a"
             ],
             [
              0.8888888888888888,
              "#fdca26"
             ],
             [
              1,
              "#f0f921"
             ]
            ],
            "type": "histogram2dcontour"
           }
          ],
          "mesh3d": [
           {
            "colorbar": {
             "outlinewidth": 0,
             "ticks": ""
            },
            "type": "mesh3d"
           }
          ],
          "parcoords": [
           {
            "line": {
             "colorbar": {
              "outlinewidth": 0,
              "ticks": ""
             }
            },
            "type": "parcoords"
           }
          ],
          "pie": [
           {
            "automargin": true,
            "type": "pie"
           }
          ],
          "scatter": [
           {
            "marker": {
             "colorbar": {
              "outlinewidth": 0,
              "ticks": ""
             }
            },
            "type": "scatter"
           }
          ],
          "scatter3d": [
           {
            "line": {
             "colorbar": {
              "outlinewidth": 0,
              "ticks": ""
             }
            },
            "marker": {
             "colorbar": {
              "outlinewidth": 0,
              "ticks": ""
             }
            },
            "type": "scatter3d"
           }
          ],
          "scattercarpet": [
           {
            "marker": {
             "colorbar": {
              "outlinewidth": 0,
              "ticks": ""
             }
            },
            "type": "scattercarpet"
           }
          ],
          "scattergeo": [
           {
            "marker": {
             "colorbar": {
              "outlinewidth": 0,
              "ticks": ""
             }
            },
            "type": "scattergeo"
           }
          ],
          "scattergl": [
           {
            "marker": {
             "colorbar": {
              "outlinewidth": 0,
              "ticks": ""
             }
            },
            "type": "scattergl"
           }
          ],
          "scattermapbox": [
           {
            "marker": {
             "colorbar": {
              "outlinewidth": 0,
              "ticks": ""
             }
            },
            "type": "scattermapbox"
           }
          ],
          "scatterpolar": [
           {
            "marker": {
             "colorbar": {
              "outlinewidth": 0,
              "ticks": ""
             }
            },
            "type": "scatterpolar"
           }
          ],
          "scatterpolargl": [
           {
            "marker": {
             "colorbar": {
              "outlinewidth": 0,
              "ticks": ""
             }
            },
            "type": "scatterpolargl"
           }
          ],
          "scatterternary": [
           {
            "marker": {
             "colorbar": {
              "outlinewidth": 0,
              "ticks": ""
             }
            },
            "type": "scatterternary"
           }
          ],
          "surface": [
           {
            "colorbar": {
             "outlinewidth": 0,
             "ticks": ""
            },
            "colorscale": [
             [
              0,
              "#0d0887"
             ],
             [
              0.1111111111111111,
              "#46039f"
             ],
             [
              0.2222222222222222,
              "#7201a8"
             ],
             [
              0.3333333333333333,
              "#9c179e"
             ],
             [
              0.4444444444444444,
              "#bd3786"
             ],
             [
              0.5555555555555556,
              "#d8576b"
             ],
             [
              0.6666666666666666,
              "#ed7953"
             ],
             [
              0.7777777777777778,
              "#fb9f3a"
             ],
             [
              0.8888888888888888,
              "#fdca26"
             ],
             [
              1,
              "#f0f921"
             ]
            ],
            "type": "surface"
           }
          ],
          "table": [
           {
            "cells": {
             "fill": {
              "color": "#EBF0F8"
             },
             "line": {
              "color": "white"
             }
            },
            "header": {
             "fill": {
              "color": "#C8D4E3"
             },
             "line": {
              "color": "white"
             }
            },
            "type": "table"
           }
          ]
         },
         "layout": {
          "annotationdefaults": {
           "arrowcolor": "#2a3f5f",
           "arrowhead": 0,
           "arrowwidth": 1
          },
          "autotypenumbers": "strict",
          "coloraxis": {
           "colorbar": {
            "outlinewidth": 0,
            "ticks": ""
           }
          },
          "colorscale": {
           "diverging": [
            [
             0,
             "#8e0152"
            ],
            [
             0.1,
             "#c51b7d"
            ],
            [
             0.2,
             "#de77ae"
            ],
            [
             0.3,
             "#f1b6da"
            ],
            [
             0.4,
             "#fde0ef"
            ],
            [
             0.5,
             "#f7f7f7"
            ],
            [
             0.6,
             "#e6f5d0"
            ],
            [
             0.7,
             "#b8e186"
            ],
            [
             0.8,
             "#7fbc41"
            ],
            [
             0.9,
             "#4d9221"
            ],
            [
             1,
             "#276419"
            ]
           ],
           "sequential": [
            [
             0,
             "#0d0887"
            ],
            [
             0.1111111111111111,
             "#46039f"
            ],
            [
             0.2222222222222222,
             "#7201a8"
            ],
            [
             0.3333333333333333,
             "#9c179e"
            ],
            [
             0.4444444444444444,
             "#bd3786"
            ],
            [
             0.5555555555555556,
             "#d8576b"
            ],
            [
             0.6666666666666666,
             "#ed7953"
            ],
            [
             0.7777777777777778,
             "#fb9f3a"
            ],
            [
             0.8888888888888888,
             "#fdca26"
            ],
            [
             1,
             "#f0f921"
            ]
           ],
           "sequentialminus": [
            [
             0,
             "#0d0887"
            ],
            [
             0.1111111111111111,
             "#46039f"
            ],
            [
             0.2222222222222222,
             "#7201a8"
            ],
            [
             0.3333333333333333,
             "#9c179e"
            ],
            [
             0.4444444444444444,
             "#bd3786"
            ],
            [
             0.5555555555555556,
             "#d8576b"
            ],
            [
             0.6666666666666666,
             "#ed7953"
            ],
            [
             0.7777777777777778,
             "#fb9f3a"
            ],
            [
             0.8888888888888888,
             "#fdca26"
            ],
            [
             1,
             "#f0f921"
            ]
           ]
          },
          "colorway": [
           "#636efa",
           "#EF553B",
           "#00cc96",
           "#ab63fa",
           "#FFA15A",
           "#19d3f3",
           "#FF6692",
           "#B6E880",
           "#FF97FF",
           "#FECB52"
          ],
          "font": {
           "color": "#2a3f5f"
          },
          "geo": {
           "bgcolor": "white",
           "lakecolor": "white",
           "landcolor": "#E5ECF6",
           "showlakes": true,
           "showland": true,
           "subunitcolor": "white"
          },
          "hoverlabel": {
           "align": "left"
          },
          "hovermode": "closest",
          "mapbox": {
           "style": "light"
          },
          "paper_bgcolor": "white",
          "plot_bgcolor": "#E5ECF6",
          "polar": {
           "angularaxis": {
            "gridcolor": "white",
            "linecolor": "white",
            "ticks": ""
           },
           "bgcolor": "#E5ECF6",
           "radialaxis": {
            "gridcolor": "white",
            "linecolor": "white",
            "ticks": ""
           }
          },
          "scene": {
           "xaxis": {
            "backgroundcolor": "#E5ECF6",
            "gridcolor": "white",
            "gridwidth": 2,
            "linecolor": "white",
            "showbackground": true,
            "ticks": "",
            "zerolinecolor": "white"
           },
           "yaxis": {
            "backgroundcolor": "#E5ECF6",
            "gridcolor": "white",
            "gridwidth": 2,
            "linecolor": "white",
            "showbackground": true,
            "ticks": "",
            "zerolinecolor": "white"
           },
           "zaxis": {
            "backgroundcolor": "#E5ECF6",
            "gridcolor": "white",
            "gridwidth": 2,
            "linecolor": "white",
            "showbackground": true,
            "ticks": "",
            "zerolinecolor": "white"
           }
          },
          "shapedefaults": {
           "line": {
            "color": "#2a3f5f"
           }
          },
          "ternary": {
           "aaxis": {
            "gridcolor": "white",
            "linecolor": "white",
            "ticks": ""
           },
           "baxis": {
            "gridcolor": "white",
            "linecolor": "white",
            "ticks": ""
           },
           "bgcolor": "#E5ECF6",
           "caxis": {
            "gridcolor": "white",
            "linecolor": "white",
            "ticks": ""
           }
          },
          "title": {
           "x": 0.05
          },
          "xaxis": {
           "automargin": true,
           "gridcolor": "white",
           "linecolor": "white",
           "ticks": "",
           "title": {
            "standoff": 15
           },
           "zerolinecolor": "white",
           "zerolinewidth": 2
          },
          "yaxis": {
           "automargin": true,
           "gridcolor": "white",
           "linecolor": "white",
           "ticks": "",
           "title": {
            "standoff": 15
           },
           "zerolinecolor": "white",
           "zerolinewidth": 2
          }
         }
        },
        "title": {
         "text": "% of capital by sector"
        }
       }
      }
     },
     "metadata": {},
     "output_type": "display_data"
    }
   ],
   "source": [
    "plot_sectors(w_opt.x)"
   ]
  },
  {
   "cell_type": "code",
   "execution_count": 48,
   "metadata": {},
   "outputs": [
    {
     "name": "stderr",
     "output_type": "stream",
     "text": [
      "C:\\Users\\rados\\AppData\\Local\\Packages\\PythonSoftwareFoundation.Python.3.8_qbz5n2kfra8p0\\LocalCache\\local-packages\\Python38\\site-packages\\scipy\\optimize\\optimize.py:282: RuntimeWarning:\n",
      "\n",
      "Values in x were outside bounds during a minimize step, clipping to bounds\n",
      "\n"
     ]
    }
   ],
   "source": [
    "n = 100\n",
    "def minimizeVolatility(w):\n",
    "    w = np.array(w)\n",
    "    v = np.sqrt(np.dot( w.T, np.dot(V,w)))\n",
    "    return v\n",
    "def getReturn(w):\n",
    "    w = np.array(w)\n",
    "    R = np.sum( r * w)\n",
    "    return R\n",
    "\n",
    "volatility_opt = []\n",
    "\n",
    "for ret in np.linspace(0,1,n):\n",
    "    #find best volatility\n",
    "    constraints = ({'type':'eq', 'fun':check_sum_to_one},\n",
    "                    {'type':'eq', 'fun': lambda w: getReturn(w) - ret})\n",
    "    opt = minimize(minimizeVolatility,w0,method='SLSQP',bounds=bounds,constraints= constraints)\n",
    "\n",
    "    #save opt volatility\n",
    "    volatility_opt.append(opt['fun'])\n",
    "    "
   ]
  },
  {
   "cell_type": "code",
   "execution_count": 49,
   "metadata": {},
   "outputs": [
    {
     "data": {
      "image/png": "[encoded data removed]",
      "text/plain": [
       "<Figure size 1080x720 with 2 Axes>"
      ]
     },
     "metadata": {
      "needs_background": "light"
     },
     "output_type": "display_data"
    }
   ],
   "source": [
    "plt.figure(figsize=(15,10))\n",
    "\n",
    "plt.plot(volatility_opt,np.linspace(0,1,n),'--',c='black',label='efektivna hranica')\n",
    "\n",
    "plt.scatter(sigma,r,c=r/sigma)\n",
    "for i,stock in enumerate(stocks.columns):\n",
    "    plt.text(sigma[i]+0.002,r[i],stock)\n",
    "\n",
    "plt.scatter(final_v,final_r,c=final_r/final_v)\n",
    "plt.text(final_v+0.002,final_r,'optimum')\n",
    "\n",
    "plt.ylabel('expected returns p.a.')\n",
    "plt.xlabel('expected volatilities p.a.')\n",
    "plt.legend()\n",
    "plt.title('Mean-variance graf')\n",
    "plt.colorbar(label='Sharpe ratio')\n",
    "plt.show()"
   ]
  },
  {
   "cell_type": "markdown",
   "metadata": {},
   "source": [
    "### Pridane ohranicenia"
   ]
  },
  {
   "cell_type": "code",
   "execution_count": 50,
   "metadata": {},
   "outputs": [
    {
     "data": {
      "text/plain": [
       "     fun: -4.488674874969814\n",
       "     jac: array([ 0.0395934 ,  0.27156937,  0.27121347, -0.20525169, -0.38025522,\n",
       "        0.79422218, -1.08519214, -1.08524549,  0.27137715,  0.28019679,\n",
       "       -1.08508992,  0.42101008,  0.77423877,  0.27185673, -1.08566493,\n",
       "       -0.00991225,  0.4845078 , -0.55923653,  0.0096879 ,  0.27154732,\n",
       "        0.74647331,  0.04301518,  1.28133529,  0.11641753,  1.03268945,\n",
       "       -0.31531799,  0.27119094,  0.27117264, -1.08539212,  1.33858323,\n",
       "        1.80814254,  0.27116019,  0.16375321,  2.67732108,  1.65660191,\n",
       "        0.65180439,  0.27137673,  1.75091231,  1.2102893 ,  2.5180316 ,\n",
       "        1.62561417,  0.38997227, -0.07800806,  0.27129096,  1.09431517])\n",
       " message: 'Optimization terminated successfully'\n",
       "    nfev: 984\n",
       "     nit: 21\n",
       "    njev: 21\n",
       "  status: 0\n",
       " success: True\n",
       "       x: array([2.62875302e-16, 9.28473444e-02, 1.33926298e-01, 3.48532634e-16,\n",
       "       9.35608509e-16, 2.11441761e-16, 2.41959674e-02, 4.25588200e-02,\n",
       "       1.06017980e-01, 1.04453979e-15, 1.68428629e-02, 8.66833347e-16,\n",
       "       5.64973968e-16, 4.23915596e-02, 6.69364609e-02, 4.90477917e-16,\n",
       "       5.62673835e-16, 5.09919551e-16, 1.70845159e-16, 5.57319250e-02,\n",
       "       1.09451255e-15, 5.50389611e-16, 1.40376290e-15, 4.13984535e-16,\n",
       "       3.30317491e-16, 1.19736581e-16, 2.55043230e-02, 4.01411011e-02,\n",
       "       4.94658888e-02, 2.07864716e-15, 1.45487456e-15, 1.33411697e-01,\n",
       "       4.56976100e-16, 7.79517027e-16, 1.13968467e-15, 5.42335721e-16,\n",
       "       1.13768627e-01, 1.40523878e-15, 8.78131406e-16, 2.82758966e-15,\n",
       "       1.73542397e-15, 1.10769862e-17, 5.88894439e-16, 5.62591449e-02,\n",
       "       8.16456032e-16])"
      ]
     },
     "execution_count": 50,
     "metadata": {},
     "output_type": "execute_result"
    }
   ],
   "source": [
    "def check_top17_to_80(w):\n",
    "    topW = [1,2,8,13,16,19,26,27,30,31,34,36,37,38,40,43,44]\n",
    "    output = 0\n",
    "    for i in topW:\n",
    "        output += w[i]\n",
    "        \n",
    "    return 0.8 - output\n",
    "bounds = tuple(((0,1) for _ in range(n_stocks)))\n",
    "constraints = ({'type':'eq','fun':check_sum_to_one}, {'type':'eq','fun':check_top17_to_80})\n",
    "\n",
    "w0 = np.array([1/n_stocks*n_stocks])\n",
    "w_opt = minimize(negativeSR, w0, method='SLSQP', bounds=bounds, constraints= constraints)\n",
    "w_opt"
   ]
  },
  {
   "cell_type": "code",
   "execution_count": 51,
   "metadata": {},
   "outputs": [
    {
     "data": {
      "image/png": "[encoded data removed]",
      "text/plain": [
       "<Figure size 504x720 with 1 Axes>"
      ]
     },
     "metadata": {
      "needs_background": "light"
     },
     "output_type": "display_data"
    }
   ],
   "source": [
    "plt.figure(figsize=(7,10))\n",
    "plt.barh(stocks.columns,w_opt.x)\n",
    "plt.title(\"Zloženie portfólia - ohr. max. 80% do pôvodných 17 akcií\")\n",
    "plt.ylabel('symbol')\n",
    "plt.xlabel('váha')\n",
    "plt.show()"
   ]
  }
 ],
 "metadata": {
  "interpreter": {
   "hash": "d153afc154f55f63edb29ab3b8e0ef98f4223ee04c2a602f3a0cf8c8ffe67f14"
  },
  "kernelspec": {
   "display_name": "Python 3.9.1 64-bit",
   "name": "python3"
  },
  "language_info": {
   "codemirror_mode": {
    "name": "ipython",
    "version": 3
   },
   "file_extension": ".py",
   "mimetype": "text/x-python",
   "name": "python",
   "nbconvert_exporter": "python",
   "pygments_lexer": "ipython3",
   "version": "3.8.10"
  },
  "orig_nbformat": 4
 },
 "nbformat": 4,
 "nbformat_minor": 2
}
