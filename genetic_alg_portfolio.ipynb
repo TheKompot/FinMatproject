{
 "cells": [
  {
   "cell_type": "code",
   "execution_count": 2,
   "metadata": {},
   "outputs": [],
   "source": [
    "import numpy as np\n",
    "import random\n",
    "import pandas as pd\n",
    "import plotly_express as px\n",
    "import plotly.graph_objects as go"
   ]
  },
  {
   "cell_type": "code",
   "execution_count": 3,
   "metadata": {},
   "outputs": [],
   "source": [
    "class GenAlg:\n",
    "\n",
    "    def __init__(self, population_size, k_crossover, mutation_prob, rates, sigma):\n",
    "        self.population_size = population_size\n",
    "        self.k = k_crossover\n",
    "        self.mutation_prob = mutation_prob\n",
    "        self.number_of_stocks = len(rates)\n",
    "\n",
    "        self.rates = rates.copy()\n",
    "        self.sigma = sigma.copy()\n",
    "\n",
    "        self.random_pop()\n",
    "    \n",
    "\n",
    "\n",
    "    def random_pop(self):\n",
    "        self.population = np.random.rand(self.population_size,self.number_of_stocks)\n",
    "        for  i in range(self.population.shape[0]):\n",
    "            self.population[i,] = self.normalize(self.population[i,])\n",
    "    \n",
    "    def normalize(self,vector):\n",
    "        sum_of_vector = sum(vector)\n",
    "        for i in range(len(vector)):\n",
    "            vector[i] =  vector[i]/sum_of_vector\n",
    "        return vector\n",
    "    \n",
    "    def evaluate(self):\n",
    "        best_fitness = None\n",
    "        best = None\n",
    "        for vector in self.population:\n",
    "            f = self.fitness(vector)\n",
    "            if best is None or f > best_fitness:\n",
    "                best = vector\n",
    "                best_fitness = f\n",
    "        return best_fitness,best\n",
    "\n",
    "    def fitness(self,vector):\n",
    "        rate = np.sum(vector * self.rates)\n",
    "        volatility = np.sqrt(np.dot(vector.T,np.dot(self.sigma,vector)))\n",
    "\n",
    "        return rate/volatility\n",
    "\n",
    "    def get_lucky_one(self):\n",
    "        random_num = random.randrange(len(self.population))\n",
    "        return self.population[random_num,:]\n",
    "    \n",
    "    def select_parents(self,lucky_one):\n",
    "        # if lucky_one exists then remove him\n",
    "        if lucky_one is not None:\n",
    "            pop = np.ones(shape=(self.population_size-1,self.number_of_stocks))\n",
    "            i = 0\n",
    "            for vec in self.population:\n",
    "                if not (vec == lucky_one).all():\n",
    "                    pop[i,:] = vec\n",
    "                    i+=1\n",
    "        else:\n",
    "            pop = self.population.copy()\n",
    "        \n",
    "        new_pop = np.array(sorted(pop,key=self.fitness,reverse=True))\n",
    "\n",
    "        return new_pop[:len(new_pop)//2,:]\n",
    "\n",
    "    def create_children(self,parents):\n",
    "        \n",
    "        children = np.zeros(shape=(self.population_size//2,self.number_of_stocks))\n",
    "        np.random.shuffle(parents)\n",
    "        first_p, second_p = map(list,np.split(parents,2))\n",
    "        for i in range(len(parents)//2):\n",
    "            parent1 = first_p.pop(0)\n",
    "            parent2 = second_p.pop(0)\n",
    "\n",
    "            child1, child2 = self.k_crossover(parent1,parent2)\n",
    "\n",
    "            child1 = self.mutation(child1)\n",
    "            child2 = self.mutation(child2)\n",
    "\n",
    "            child1 = self.normalize(child1)\n",
    "            child2 = self.normalize(child2)\n",
    "\n",
    "            children[i,:] = child1\n",
    "            children[i+len(parents)//2,:] = child2\n",
    "\n",
    "        return children \n",
    "    \n",
    "    def k_crossover(self,x,y):\n",
    "\n",
    "        slices = set()\n",
    "        while len(slices) < self.k-1:\n",
    "            slice_index = random.choice([i for i in range(1,len(x)) if i not in slices])\n",
    "            if slice_index not in slices:\n",
    "                slices.add(slice_index)\n",
    "\n",
    "        slices = sorted(list(slices))\n",
    "        slices.append(self.number_of_stocks)\n",
    "\n",
    "        new_x = np.zeros(self.number_of_stocks)\n",
    "        new_y = np.zeros(self.number_of_stocks)\n",
    "\n",
    "        first = 0\n",
    "        switch = True\n",
    "        for second in slices:\n",
    "            if switch:\n",
    "                new_x[first:second] = x[first:second]\n",
    "                new_y[first:second] = y[first:second]\n",
    "            else:\n",
    "                new_x[first:second] = y[first:second]\n",
    "                new_y[first:second] = x[first:second]\n",
    "            first = second\n",
    "            switch = not switch\n",
    "\n",
    "        return new_x,new_y\n",
    "\n",
    "    def mutation(self,child):\n",
    "        for i in range(len(child)):\n",
    "            if random.random() < self.mutation_prob:\n",
    "                child[i] += random.gauss(0.25,0.1)\n",
    "        return child\n",
    "\n",
    "    def solve(self,max_generations, goal):\n",
    "        \n",
    "        best_fit, best = self.evaluate()\n",
    "        \n",
    "        for iteration in range(max_generations):\n",
    "            #print(iteration,'iteration',end=' ')\n",
    "            if best_fit > goal:\n",
    "                break\n",
    "\n",
    "            lucky_one = None\n",
    "            if len(self.population)%2 == 1:\n",
    "                lucky_one = self.get_lucky_one()\n",
    "\n",
    "            parents = self.select_parents(lucky_one)\n",
    "\n",
    "            children = self.create_children(parents)\n",
    "\n",
    "            if lucky_one is not None:\n",
    "                lucky_one = lucky_one.reshape((1,len(lucky_one)))\n",
    "                self.population = np.concatenate((lucky_one,parents,children),axis=0)\n",
    "            else:\n",
    "                self.population = np.concatenate((parents,children),axis=0)\n",
    "\n",
    "            best_fit, best = self.evaluate()\n",
    "            #print('best ratio:',best_fit)\n",
    "        #print('finnished')\n",
    "        return best,best_fit"
   ]
  },
  {
   "cell_type": "code",
   "execution_count": 4,
   "metadata": {},
   "outputs": [
    {
     "name": "stdout",
     "output_type": "stream",
     "text": [
      "[0.01240208 0.01288231 0.02243559 0.01219072 0.00639835 0.00991161\n",
      " 0.00015054 0.08133791 0.00565375 0.00683955 0.01348043 0.02974061\n",
      " 0.008419   0.00428601 0.13255423 0.0083943  0.02853772 0.00361534\n",
      " 0.02341435 0.00754242 0.01078742 0.00438022 0.00624153 0.00100068\n",
      " 0.00369092 0.01760884 0.01448718 0.01172493 0.11648622 0.00786122\n",
      " 0.00060447 0.1186733  0.01508795 0.00819112 0.00595958 0.00366833\n",
      " 0.14993894 0.00057023 0.02283515 0.0038464  0.01140029 0.0105469\n",
      " 0.00192438 0.01582426 0.00647273] 4.204527181966938\n"
     ]
    }
   ],
   "source": [
    "wanted_stocks = ['GOOG', 'SPG', 'GOOGL', 'MSFT', 'GD', 'ACN', 'COP', 'F', 'BAC', 'GS',\n",
    "                'NVDA', 'AIG', 'MS', 'WFC', 'ORCL', 'XOM', 'TGT', 'LOW', 'EXC', 'COST',\n",
    "                'AXP', 'BK', 'JPM', 'COF', 'CSCO', 'DHR', 'UNH', 'CVS', 'LLY', 'CVX',\n",
    "                'MET', 'AMT', 'CRM', 'BLK', 'RTX', 'MCD', 'TMO', 'LIN', 'ADBE', 'EMR',\n",
    "                'USB', 'UPS', 'TSLA', 'PFE', 'PM']\n",
    "stocks = pd.read_csv('data/sap100_data_08112021.csv',index_col=0).loc[:,wanted_stocks]\n",
    "returns = stocks/stocks.shift(1)-1\n",
    "rates = returns.mean() * 252\n",
    "sigma = returns.cov() * 252\n",
    "g = GenAlg(population_size=100, k_crossover=5, mutation_prob=0.01, rates=rates,sigma=sigma)\n",
    "\n",
    "best,best_fit = g.solve(10,8)\n",
    "print(best,best_fit)\n",
    "# print(g.population[0,:],'\\n',g.population[1,:])\n",
    "\n",
    "# g.k_crossover(g.population[0,:],g.population[1,:])\n",
    "\n",
    "# test_pop = np.zeros(shape=(5,45))\n",
    "# for i in range(5):\n",
    "#     test_pop[i,i] = 1\n",
    "# print(test_pop)\n",
    "# for i in range(5):\n",
    "#     print(g.fitness(test_pop[i,:]))\n",
    "# g.population = test_pop\n",
    "# v = g.get_lucky_one()\n",
    "# print('lucky one: ',v)\n",
    "# print('paretns')\n",
    "# print(g.select_parents(v))"
   ]
  },
  {
   "cell_type": "code",
   "execution_count": 5,
   "metadata": {},
   "outputs": [
    {
     "data": {
      "text/plain": [
       "0.04158689"
      ]
     },
     "execution_count": 5,
     "metadata": {},
     "output_type": "execute_result"
    }
   ],
   "source": [
    "a = [0.01114155, 0.02112081, 0.0026389 , 0.04158689 ,0.02911615 ,0.00810653,\n",
    " 0.00953936, 0.01291289, 0.03460458, 0.0172124,  0.02812051, 0.00615008,\n",
    " 0.03882499, 0.01603352 ,0.03222546, 0.02002055, 0.01096212, 0.00879385,\n",
    " 0.02504149, 0.02297195, 0.04096784, 0.04078883, 0.00404298 ,0.00336519,\n",
    " 0.02037814, 0.0395612 , 0.041175,   0.03722034, 0.01283837, 0.02809674,\n",
    " 0.0232359 , 0.03603028 ,0.04134022, 0.00582411, 0.01888116, 0.03858949,\n",
    " 0.00809903, 0.03437509, 0.03463708 ,0.00438613 ,0.02915961, 0.01188739,\n",
    " 0.00890677, 0.02284441, 0.01624411]\n",
    "max(a)"
   ]
  },
  {
   "cell_type": "code",
   "execution_count": 6,
   "metadata": {},
   "outputs": [
    {
     "data": {
      "text/plain": [
       "0.04564275"
      ]
     },
     "execution_count": 6,
     "metadata": {},
     "output_type": "execute_result"
    }
   ],
   "source": [
    "b = [0.00022345, 0.04564275, 0.04497704, 0.04376311, 0.0033903 , 0.03373989,\n",
    " 0.04167013,0.04474843, 0.03991494, 0.013077 ,  0.04262159 ,0.01209769,\n",
    " 0.03196004, 0.01024975, 0.03971374 ,0.01291337, 0.00605673, 0.03494775,\n",
    " 0.01216985, 0.00211064, 0.00081961, 0.03155706, 0.01703879, 0.02700199,\n",
    " 0.00440683 ,0.01209849, 0.02187265, 0.03169752, 0.02678447 ,0.00618878,\n",
    " 0.0080071 , 0.03951205 ,0.01762882, 0.01950138, 0.00031214, 0.02950566,\n",
    " 0.04465236, 0.01634321 ,0.01039963, 0.00432588, 0.02807762, 0.00894588,\n",
    " 0.03424738, 0.0192949,  0.02379159]\n",
    "max(b)"
   ]
  },
  {
   "cell_type": "code",
   "execution_count": 7,
   "metadata": {},
   "outputs": [],
   "source": [
    "def print_stats(vec):\n",
    "    w = np.array(vec)\n",
    "    r = np.sum(w*rates)\n",
    "    print('rate',r)\n",
    "    v = np.sqrt(np.dot(w.T,np.dot(sigma,w)))\n",
    "    print('volatility:',v)\n",
    "    print('shapre ratio',r/v)"
   ]
  },
  {
   "cell_type": "code",
   "execution_count": 8,
   "metadata": {},
   "outputs": [
    {
     "name": "stdout",
     "output_type": "stream",
     "text": [
      "rate 0.4701581146929166\n",
      "volatility: 0.12546335975815912\n",
      "shapre ratio 3.747373859580875\n",
      "\n",
      "rate 0.542997231753761\n",
      "volatility: 0.1344691863204556\n",
      "shapre ratio 4.038079255270691\n"
     ]
    }
   ],
   "source": [
    "print_stats(a)\n",
    "print()\n",
    "print_stats(b)"
   ]
  },
  {
   "cell_type": "code",
   "execution_count": 9,
   "metadata": {},
   "outputs": [],
   "source": [
    "import statistics"
   ]
  },
  {
   "cell_type": "code",
   "execution_count": 10,
   "metadata": {},
   "outputs": [
    {
     "name": "stdout",
     "output_type": "stream",
     "text": [
      "[10, 13, 16, 19, 22]\n",
      "[[39, 37, 37, 34, 33, 37, 33, 37, 34, 34, 37, 37, 36, 36, 39, 34, 34, 30, 36, 35, 36, 38, 39, 39, 36, 40, 34, 40, 36, 40, 35, 35, 31, 35, 30, 34, 33, 31, 40, 36, 35, 29, 37, 29, 34, 34, 34, 33, 37, 39, 41, 38, 36, 42, 32, 41, 33, 34, 36, 36, 41, 35, 32, 36, 33, 40, 30, 27, 36, 41, 34, 35, 39, 39, 33, 40, 32, 35, 31, 38, 31, 33, 34, 31, 37, 36, 39, 36, 33, 36, 32, 33, 39, 37, 36, 36, 28, 29, 38, 38], [32, 36, 37, 35, 35, 40, 32, 33, 40, 33, 33, 38, 29, 35, 35, 35, 40, 37, 37, 31, 27, 32, 39, 37, 38, 39, 32, 39, 36, 35, 37, 39, 37, 38, 33, 30, 36, 33, 39, 35, 31, 35, 39, 38, 36, 32, 37, 32, 38, 34, 38, 40, 38, 33, 37, 38, 34, 40, 31, 33, 32, 38, 37, 33, 38, 34, 31, 30, 30, 38, 39, 37, 35, 31, 37, 37, 36, 34, 36, 37, 39, 37, 31, 33, 35, 31, 39, 34, 36, 36, 38, 31, 33, 33, 31, 35, 35, 35, 41, 35], [38, 37, 36, 39, 39, 32, 36, 36, 37, 36, 38, 39, 37, 40, 34, 35, 36, 36, 32, 33, 38, 38, 36, 35, 36, 35, 39, 34, 38, 38, 34, 37, 38, 40, 35, 37, 32, 35, 38, 38, 32, 40, 36, 36, 40, 36, 35, 39, 31, 36, 35, 29, 38, 33, 36, 37, 39, 37, 36, 37, 37, 39, 32, 34, 38, 32, 32, 31, 33, 35, 36, 33, 37, 34, 34, 34, 39, 40, 40, 35, 36, 29, 35, 38, 36, 39, 37, 32, 31, 34, 37, 33, 35, 36, 39, 33, 31, 37, 35, 32], [35, 37, 32, 36, 37, 32, 38, 32, 39, 39, 33, 34, 38, 39, 34, 37, 37, 34, 34, 29, 34, 32, 37, 38, 39, 32, 35, 34, 36, 36, 37, 32, 36, 34, 36, 32, 35, 35, 34, 36, 36, 37, 38, 38, 31, 34, 36, 34, 33, 39, 39, 34, 37, 35, 37, 37, 39, 32, 36, 35, 37, 38, 34, 36, 34, 38, 38, 37, 40, 35, 33, 36, 34, 38, 38, 39, 35, 33, 36, 33, 35, 32, 40, 37, 36, 31, 38, 38, 37, 39, 35, 32, 36, 35, 34, 37, 33, 33, 37, 34], [35, 33, 38, 38, 32, 31, 33, 32, 34, 40, 36, 38, 37, 38, 38, 38, 35, 36, 34, 32, 36, 38, 34, 34, 37, 38, 34, 38, 35, 34, 38, 36, 34, 36, 34, 36, 34, 36, 38, 36, 35, 35, 37, 35, 35, 35, 38, 37, 37, 34, 38, 36, 38, 31, 35, 36, 34, 33, 37, 34, 32, 36, 34, 35, 36, 36, 34, 35, 37, 38, 35, 37, 33, 38, 37, 30, 39, 38, 37, 31, 37, 36, 34, 37, 35, 37, 36, 37, 35, 34, 36, 34, 33, 36, 35, 39, 30, 37, 38, 37]]\n",
      "[[19, 15, 15, 10, 16, 16, 15, 15, 17, 16, 20, 13, 15, 11, 17, 10, 13, 19, 20, 12, 16, 14, 16, 11, 15, 15, 15, 14, 12, 21, 20, 9, 13, 19, 13, 18, 12, 16, 17, 14, 15, 19, 20, 13, 18, 16, 17, 17, 13, 13, 19, 15, 15, 12, 16, 16, 12, 12, 17, 19, 14, 15, 17, 17, 18, 15, 13, 16, 15, 12, 17, 17, 14, 17, 11, 16, 14, 14, 16, 17, 14, 19, 16, 15, 15, 17, 14, 16, 17, 17, 14, 15, 21, 17, 20, 18, 12, 12, 15, 11], [15, 16, 13, 15, 12, 17, 19, 14, 15, 17, 16, 17, 16, 18, 14, 17, 19, 10, 16, 16, 16, 18, 18, 12, 23, 13, 12, 16, 21, 17, 14, 21, 20, 18, 16, 18, 18, 16, 18, 12, 17, 18, 14, 23, 17, 14, 15, 16, 17, 16, 16, 20, 16, 15, 11, 23, 15, 16, 13, 14, 15, 17, 16, 17, 17, 14, 15, 14, 11, 17, 16, 19, 16, 9, 16, 13, 13, 16, 17, 22, 13, 17, 17, 17, 15, 14, 11, 16, 17, 15, 24, 14, 16, 15, 16, 13, 15, 20, 14, 16], [16, 16, 14, 17, 16, 19, 18, 18, 20, 27, 18, 20, 19, 18, 18, 17, 18, 14, 17, 13, 16, 23, 18, 14, 15, 23, 23, 17, 19, 17, 18, 16, 17, 16, 16, 21, 20, 14, 23, 19, 22, 23, 12, 18, 17, 17, 17, 17, 13, 21, 17, 16, 15, 15, 13, 21, 21, 17, 15, 16, 18, 15, 18, 16, 20, 17, 17, 16, 19, 16, 22, 19, 16, 16, 17, 20, 19, 18, 17, 16, 14, 17, 16, 18, 21, 17, 25, 15, 16, 12, 21, 20, 16, 17, 14, 15, 13, 16, 16, 14], [21, 18, 13, 14, 19, 22, 17, 18, 20, 22, 17, 16, 21, 18, 19, 27, 12, 15, 19, 17, 16, 15, 21, 19, 16, 12, 18, 20, 12, 17, 15, 21, 21, 16, 14, 17, 18, 21, 16, 20, 21, 23, 18, 18, 19, 16, 18, 13, 14, 16, 19, 19, 25, 17, 18, 19, 16, 18, 20, 15, 21, 24, 23, 21, 19, 18, 15, 22, 21, 20, 21, 20, 22, 18, 21, 17, 19, 21, 19, 18, 15, 18, 20, 19, 17, 19, 18, 26, 20, 13, 19, 15, 23, 20, 19, 17, 15, 17, 14, 19], [17, 19, 22, 21, 19, 17, 17, 17, 21, 18, 19, 19, 16, 19, 19, 18, 20, 20, 21, 16, 19, 24, 19, 22, 23, 23, 21, 18, 17, 23, 19, 17, 13, 17, 20, 19, 22, 16, 19, 26, 21, 20, 20, 17, 17, 20, 19, 20, 18, 18, 21, 15, 20, 13, 18, 18, 22, 18, 18, 15, 16, 22, 18, 20, 22, 13, 19, 17, 19, 19, 17, 16, 16, 18, 24, 17, 20, 23, 23, 20, 17, 22, 18, 18, 21, 15, 21, 25, 16, 18, 18, 18, 22, 19, 23, 18, 14, 20, 17, 20]]\n"
     ]
    },
    {
     "data": {
      "text/plain": [
       "\"\\nprint(best,best_fit)\\nprint('menej ako 1%', len(menej_ako_jedno_percenta))\\nprint('menej ako 3%', len(menej_ako_tri_percenta))\\n\""
      ]
     },
     "execution_count": 10,
     "metadata": {},
     "output_type": "execute_result"
    }
   ],
   "source": [
    "m_tri = []\n",
    "m_jeden = []\n",
    "for p in range(10, 25, 3):\n",
    "    tri, jeden  = [], []\n",
    "    for _ in range(100):\n",
    "        g = GenAlg(population_size=100, k_crossover=5, mutation_prob=0.01, rates=rates,sigma=sigma)\n",
    "        best,best_fit = g.solve(p,8)\n",
    "        menej_ako_jedno_percenta = [i for i in best if i < 0.01]\n",
    "        menej_ako_tri_percenta = [i for i in best if i < 0.03]\n",
    "        tri.append(len(menej_ako_tri_percenta))\n",
    "        jeden.append(len(menej_ako_jedno_percenta))\n",
    "    m_tri.append(tri)\n",
    "    m_jeden.append(jeden)\n",
    "print([i for i in range(10,25,3)])\n",
    "print(m_tri)\n",
    "print(m_jeden)\n",
    "'''\n",
    "print(best,best_fit)\n",
    "print('menej ako 1%', len(menej_ako_jedno_percenta))\n",
    "print('menej ako 3%', len(menej_ako_tri_percenta))\n",
    "'''\n"
   ]
  },
  {
   "cell_type": "code",
   "execution_count": 11,
   "metadata": {},
   "outputs": [
    {
     "data": {
      "text/html": [
       "<div>\n",
       "<style scoped>\n",
       "    .dataframe tbody tr th:only-of-type {\n",
       "        vertical-align: middle;\n",
       "    }\n",
       "\n",
       "    .dataframe tbody tr th {\n",
       "        vertical-align: top;\n",
       "    }\n",
       "\n",
       "    .dataframe thead th {\n",
       "        text-align: right;\n",
       "    }\n",
       "</style>\n",
       "<table border=\"1\" class=\"dataframe\">\n",
       "  <thead>\n",
       "    <tr style=\"text-align: right;\">\n",
       "      <th></th>\n",
       "      <th>index</th>\n",
       "      <th>0</th>\n",
       "      <th>1</th>\n",
       "      <th>2</th>\n",
       "      <th>3</th>\n",
       "      <th>4</th>\n",
       "      <th>5</th>\n",
       "      <th>6</th>\n",
       "      <th>7</th>\n",
       "      <th>8</th>\n",
       "      <th>...</th>\n",
       "      <th>90</th>\n",
       "      <th>91</th>\n",
       "      <th>92</th>\n",
       "      <th>93</th>\n",
       "      <th>94</th>\n",
       "      <th>95</th>\n",
       "      <th>96</th>\n",
       "      <th>97</th>\n",
       "      <th>98</th>\n",
       "      <th>99</th>\n",
       "    </tr>\n",
       "  </thead>\n",
       "  <tbody>\n",
       "    <tr>\n",
       "      <th>0</th>\n",
       "      <td>10</td>\n",
       "      <td>19</td>\n",
       "      <td>15</td>\n",
       "      <td>15</td>\n",
       "      <td>10</td>\n",
       "      <td>16</td>\n",
       "      <td>16</td>\n",
       "      <td>15</td>\n",
       "      <td>15</td>\n",
       "      <td>17</td>\n",
       "      <td>...</td>\n",
       "      <td>14</td>\n",
       "      <td>15</td>\n",
       "      <td>21</td>\n",
       "      <td>17</td>\n",
       "      <td>20</td>\n",
       "      <td>18</td>\n",
       "      <td>12</td>\n",
       "      <td>12</td>\n",
       "      <td>15</td>\n",
       "      <td>11</td>\n",
       "    </tr>\n",
       "    <tr>\n",
       "      <th>1</th>\n",
       "      <td>13</td>\n",
       "      <td>15</td>\n",
       "      <td>16</td>\n",
       "      <td>13</td>\n",
       "      <td>15</td>\n",
       "      <td>12</td>\n",
       "      <td>17</td>\n",
       "      <td>19</td>\n",
       "      <td>14</td>\n",
       "      <td>15</td>\n",
       "      <td>...</td>\n",
       "      <td>24</td>\n",
       "      <td>14</td>\n",
       "      <td>16</td>\n",
       "      <td>15</td>\n",
       "      <td>16</td>\n",
       "      <td>13</td>\n",
       "      <td>15</td>\n",
       "      <td>20</td>\n",
       "      <td>14</td>\n",
       "      <td>16</td>\n",
       "    </tr>\n",
       "    <tr>\n",
       "      <th>2</th>\n",
       "      <td>16</td>\n",
       "      <td>16</td>\n",
       "      <td>16</td>\n",
       "      <td>14</td>\n",
       "      <td>17</td>\n",
       "      <td>16</td>\n",
       "      <td>19</td>\n",
       "      <td>18</td>\n",
       "      <td>18</td>\n",
       "      <td>20</td>\n",
       "      <td>...</td>\n",
       "      <td>21</td>\n",
       "      <td>20</td>\n",
       "      <td>16</td>\n",
       "      <td>17</td>\n",
       "      <td>14</td>\n",
       "      <td>15</td>\n",
       "      <td>13</td>\n",
       "      <td>16</td>\n",
       "      <td>16</td>\n",
       "      <td>14</td>\n",
       "    </tr>\n",
       "    <tr>\n",
       "      <th>3</th>\n",
       "      <td>19</td>\n",
       "      <td>21</td>\n",
       "      <td>18</td>\n",
       "      <td>13</td>\n",
       "      <td>14</td>\n",
       "      <td>19</td>\n",
       "      <td>22</td>\n",
       "      <td>17</td>\n",
       "      <td>18</td>\n",
       "      <td>20</td>\n",
       "      <td>...</td>\n",
       "      <td>19</td>\n",
       "      <td>15</td>\n",
       "      <td>23</td>\n",
       "      <td>20</td>\n",
       "      <td>19</td>\n",
       "      <td>17</td>\n",
       "      <td>15</td>\n",
       "      <td>17</td>\n",
       "      <td>14</td>\n",
       "      <td>19</td>\n",
       "    </tr>\n",
       "    <tr>\n",
       "      <th>4</th>\n",
       "      <td>22</td>\n",
       "      <td>17</td>\n",
       "      <td>19</td>\n",
       "      <td>22</td>\n",
       "      <td>21</td>\n",
       "      <td>19</td>\n",
       "      <td>17</td>\n",
       "      <td>17</td>\n",
       "      <td>17</td>\n",
       "      <td>21</td>\n",
       "      <td>...</td>\n",
       "      <td>18</td>\n",
       "      <td>18</td>\n",
       "      <td>22</td>\n",
       "      <td>19</td>\n",
       "      <td>23</td>\n",
       "      <td>18</td>\n",
       "      <td>14</td>\n",
       "      <td>20</td>\n",
       "      <td>17</td>\n",
       "      <td>20</td>\n",
       "    </tr>\n",
       "  </tbody>\n",
       "</table>\n",
       "<p>5 rows × 101 columns</p>\n",
       "</div>"
      ],
      "text/plain": [
       "   index   0   1   2   3   4   5   6   7   8  ...  90  91  92  93  94  95  96  \\\n",
       "0     10  19  15  15  10  16  16  15  15  17  ...  14  15  21  17  20  18  12   \n",
       "1     13  15  16  13  15  12  17  19  14  15  ...  24  14  16  15  16  13  15   \n",
       "2     16  16  16  14  17  16  19  18  18  20  ...  21  20  16  17  14  15  13   \n",
       "3     19  21  18  13  14  19  22  17  18  20  ...  19  15  23  20  19  17  15   \n",
       "4     22  17  19  22  21  19  17  17  17  21  ...  18  18  22  19  23  18  14   \n",
       "\n",
       "   97  98  99  \n",
       "0  12  15  11  \n",
       "1  20  14  16  \n",
       "2  16  16  14  \n",
       "3  17  14  19  \n",
       "4  20  17  20  \n",
       "\n",
       "[5 rows x 101 columns]"
      ]
     },
     "execution_count": 11,
     "metadata": {},
     "output_type": "execute_result"
    }
   ],
   "source": [
    "df_menej_jeden = pd.DataFrame(m_jeden)\n",
    "df_menej_jeden['index'] = [i for i in range(10,25,3)]\n",
    "df_menej_jeden  = df_menej_jeden.set_index('index')\n",
    "df_menej_jeden = df_menej_jeden.reset_index()\n",
    "df_menej_jeden"
   ]
  },
  {
   "cell_type": "code",
   "execution_count": 12,
   "metadata": {},
   "outputs": [
    {
     "data": {
      "application/vnd.plotly.v1+json": {
       "config": {
        "plotlyServerURL": "https://plot.ly"
       },
       "data": [
        {
         "alignmentgroup": "True",
         "bingroup": "x",
         "hovertemplate": "index=10<br>value=%{x}<br>count=%{y}<extra></extra>",
         "legendgroup": "10",
         "marker": {
          "color": "#636efa",
          "opacity": 0.5
         },
         "name": "10",
         "offsetgroup": "10",
         "orientation": "v",
         "showlegend": true,
         "type": "histogram",
         "x": [
          19,
          15,
          15,
          10,
          16,
          16,
          15,
          15,
          17,
          16,
          20,
          13,
          15,
          11,
          17,
          10,
          13,
          19,
          20,
          12,
          16,
          14,
          16,
          11,
          15,
          15,
          15,
          14,
          12,
          21,
          20,
          9,
          13,
          19,
          13,
          18,
          12,
          16,
          17,
          14,
          15,
          19,
          20,
          13,
          18,
          16,
          17,
          17,
          13,
          13,
          19,
          15,
          15,
          12,
          16,
          16,
          12,
          12,
          17,
          19,
          14,
          15,
          17,
          17,
          18,
          15,
          13,
          16,
          15,
          12,
          17,
          17,
          14,
          17,
          11,
          16,
          14,
          14,
          16,
          17,
          14,
          19,
          16,
          15,
          15,
          17,
          14,
          16,
          17,
          17,
          14,
          15,
          21,
          17,
          20,
          18,
          12,
          12,
          15,
          11
         ],
         "xaxis": "x",
         "xbins": {
          "size": 1
         },
         "yaxis": "y"
        },
        {
         "alignmentgroup": "True",
         "bingroup": "x",
         "hovertemplate": "index=13<br>value=%{x}<br>count=%{y}<extra></extra>",
         "legendgroup": "13",
         "marker": {
          "color": "#EF553B",
          "opacity": 0.5
         },
         "name": "13",
         "offsetgroup": "13",
         "orientation": "v",
         "showlegend": true,
         "type": "histogram",
         "x": [
          15,
          16,
          13,
          15,
          12,
          17,
          19,
          14,
          15,
          17,
          16,
          17,
          16,
          18,
          14,
          17,
          19,
          10,
          16,
          16,
          16,
          18,
          18,
          12,
          23,
          13,
          12,
          16,
          21,
          17,
          14,
          21,
          20,
          18,
          16,
          18,
          18,
          16,
          18,
          12,
          17,
          18,
          14,
          23,
          17,
          14,
          15,
          16,
          17,
          16,
          16,
          20,
          16,
          15,
          11,
          23,
          15,
          16,
          13,
          14,
          15,
          17,
          16,
          17,
          17,
          14,
          15,
          14,
          11,
          17,
          16,
          19,
          16,
          9,
          16,
          13,
          13,
          16,
          17,
          22,
          13,
          17,
          17,
          17,
          15,
          14,
          11,
          16,
          17,
          15,
          24,
          14,
          16,
          15,
          16,
          13,
          15,
          20,
          14,
          16
         ],
         "xaxis": "x",
         "xbins": {
          "size": 1
         },
         "yaxis": "y"
        },
        {
         "alignmentgroup": "True",
         "bingroup": "x",
         "hovertemplate": "index=16<br>value=%{x}<br>count=%{y}<extra></extra>",
         "legendgroup": "16",
         "marker": {
          "color": "#00cc96",
          "opacity": 0.5
         },
         "name": "16",
         "offsetgroup": "16",
         "orientation": "v",
         "showlegend": true,
         "type": "histogram",
         "x": [
          16,
          16,
          14,
          17,
          16,
          19,
          18,
          18,
          20,
          27,
          18,
          20,
          19,
          18,
          18,
          17,
          18,
          14,
          17,
          13,
          16,
          23,
          18,
          14,
          15,
          23,
          23,
          17,
          19,
          17,
          18,
          16,
          17,
          16,
          16,
          21,
          20,
          14,
          23,
          19,
          22,
          23,
          12,
          18,
          17,
          17,
          17,
          17,
          13,
          21,
          17,
          16,
          15,
          15,
          13,
          21,
          21,
          17,
          15,
          16,
          18,
          15,
          18,
          16,
          20,
          17,
          17,
          16,
          19,
          16,
          22,
          19,
          16,
          16,
          17,
          20,
          19,
          18,
          17,
          16,
          14,
          17,
          16,
          18,
          21,
          17,
          25,
          15,
          16,
          12,
          21,
          20,
          16,
          17,
          14,
          15,
          13,
          16,
          16,
          14
         ],
         "xaxis": "x",
         "xbins": {
          "size": 1
         },
         "yaxis": "y"
        },
        {
         "alignmentgroup": "True",
         "bingroup": "x",
         "hovertemplate": "index=19<br>value=%{x}<br>count=%{y}<extra></extra>",
         "legendgroup": "19",
         "marker": {
          "color": "#ab63fa",
          "opacity": 0.5
         },
         "name": "19",
         "offsetgroup": "19",
         "orientation": "v",
         "showlegend": true,
         "type": "histogram",
         "x": [
          21,
          18,
          13,
          14,
          19,
          22,
          17,
          18,
          20,
          22,
          17,
          16,
          21,
          18,
          19,
          27,
          12,
          15,
          19,
          17,
          16,
          15,
          21,
          19,
          16,
          12,
          18,
          20,
          12,
          17,
          15,
          21,
          21,
          16,
          14,
          17,
          18,
          21,
          16,
          20,
          21,
          23,
          18,
          18,
          19,
          16,
          18,
          13,
          14,
          16,
          19,
          19,
          25,
          17,
          18,
          19,
          16,
          18,
          20,
          15,
          21,
          24,
          23,
          21,
          19,
          18,
          15,
          22,
          21,
          20,
          21,
          20,
          22,
          18,
          21,
          17,
          19,
          21,
          19,
          18,
          15,
          18,
          20,
          19,
          17,
          19,
          18,
          26,
          20,
          13,
          19,
          15,
          23,
          20,
          19,
          17,
          15,
          17,
          14,
          19
         ],
         "xaxis": "x",
         "xbins": {
          "size": 1
         },
         "yaxis": "y"
        },
        {
         "alignmentgroup": "True",
         "bingroup": "x",
         "hovertemplate": "index=22<br>value=%{x}<br>count=%{y}<extra></extra>",
         "legendgroup": "22",
         "marker": {
          "color": "#FFA15A",
          "opacity": 0.5
         },
         "name": "22",
         "offsetgroup": "22",
         "orientation": "v",
         "showlegend": true,
         "type": "histogram",
         "x": [
          17,
          19,
          22,
          21,
          19,
          17,
          17,
          17,
          21,
          18,
          19,
          19,
          16,
          19,
          19,
          18,
          20,
          20,
          21,
          16,
          19,
          24,
          19,
          22,
          23,
          23,
          21,
          18,
          17,
          23,
          19,
          17,
          13,
          17,
          20,
          19,
          22,
          16,
          19,
          26,
          21,
          20,
          20,
          17,
          17,
          20,
          19,
          20,
          18,
          18,
          21,
          15,
          20,
          13,
          18,
          18,
          22,
          18,
          18,
          15,
          16,
          22,
          18,
          20,
          22,
          13,
          19,
          17,
          19,
          19,
          17,
          16,
          16,
          18,
          24,
          17,
          20,
          23,
          23,
          20,
          17,
          22,
          18,
          18,
          21,
          15,
          21,
          25,
          16,
          18,
          18,
          18,
          22,
          19,
          23,
          18,
          14,
          20,
          17,
          20
         ],
         "xaxis": "x",
         "xbins": {
          "size": 1
         },
         "yaxis": "y"
        }
       ],
       "layout": {
        "barmode": "overlay",
        "legend": {
         "title": {
          "text": "index"
         },
         "tracegroupgap": 0
        },
        "margin": {
         "t": 60
        },
        "template": {
         "data": {
          "bar": [
           {
            "error_x": {
             "color": "#2a3f5f"
            },
            "error_y": {
             "color": "#2a3f5f"
            },
            "marker": {
             "line": {
              "color": "#E5ECF6",
              "width": 0.5
             }
            },
            "type": "bar"
           }
          ],
          "barpolar": [
           {
            "marker": {
             "line": {
              "color": "#E5ECF6",
              "width": 0.5
             }
            },
            "type": "barpolar"
           }
          ],
          "carpet": [
           {
            "aaxis": {
             "endlinecolor": "#2a3f5f",
             "gridcolor": "white",
             "linecolor": "white",
             "minorgridcolor": "white",
             "startlinecolor": "#2a3f5f"
            },
            "baxis": {
             "endlinecolor": "#2a3f5f",
             "gridcolor": "white",
             "linecolor": "white",
             "minorgridcolor": "white",
             "startlinecolor": "#2a3f5f"
            },
            "type": "carpet"
           }
          ],
          "choropleth": [
           {
            "colorbar": {
             "outlinewidth": 0,
             "ticks": ""
            },
            "type": "choropleth"
           }
          ],
          "contour": [
           {
            "colorbar": {
             "outlinewidth": 0,
             "ticks": ""
            },
            "colorscale": [
             [
              0,
              "#0d0887"
             ],
             [
              0.1111111111111111,
              "#46039f"
             ],
             [
              0.2222222222222222,
              "#7201a8"
             ],
             [
              0.3333333333333333,
              "#9c179e"
             ],
             [
              0.4444444444444444,
              "#bd3786"
             ],
             [
              0.5555555555555556,
              "#d8576b"
             ],
             [
              0.6666666666666666,
              "#ed7953"
             ],
             [
              0.7777777777777778,
              "#fb9f3a"
             ],
             [
              0.8888888888888888,
              "#fdca26"
             ],
             [
              1,
              "#f0f921"
             ]
            ],
            "type": "contour"
           }
          ],
          "contourcarpet": [
           {
            "colorbar": {
             "outlinewidth": 0,
             "ticks": ""
            },
            "type": "contourcarpet"
           }
          ],
          "heatmap": [
           {
            "colorbar": {
             "outlinewidth": 0,
             "ticks": ""
            },
            "colorscale": [
             [
              0,
              "#0d0887"
             ],
             [
              0.1111111111111111,
              "#46039f"
             ],
             [
              0.2222222222222222,
              "#7201a8"
             ],
             [
              0.3333333333333333,
              "#9c179e"
             ],
             [
              0.4444444444444444,
              "#bd3786"
             ],
             [
              0.5555555555555556,
              "#d8576b"
             ],
             [
              0.6666666666666666,
              "#ed7953"
             ],
             [
              0.7777777777777778,
              "#fb9f3a"
             ],
             [
              0.8888888888888888,
              "#fdca26"
             ],
             [
              1,
              "#f0f921"
             ]
            ],
            "type": "heatmap"
           }
          ],
          "heatmapgl": [
           {
            "colorbar": {
             "outlinewidth": 0,
             "ticks": ""
            },
            "colorscale": [
             [
              0,
              "#0d0887"
             ],
             [
              0.1111111111111111,
              "#46039f"
             ],
             [
              0.2222222222222222,
              "#7201a8"
             ],
             [
              0.3333333333333333,
              "#9c179e"
             ],
             [
              0.4444444444444444,
              "#bd3786"
             ],
             [
              0.5555555555555556,
              "#d8576b"
             ],
             [
              0.6666666666666666,
              "#ed7953"
             ],
             [
              0.7777777777777778,
              "#fb9f3a"
             ],
             [
              0.8888888888888888,
              "#fdca26"
             ],
             [
              1,
              "#f0f921"
             ]
            ],
            "type": "heatmapgl"
           }
          ],
          "histogram": [
           {
            "marker": {
             "colorbar": {
              "outlinewidth": 0,
              "ticks": ""
             }
            },
            "type": "histogram"
           }
          ],
          "histogram2d": [
           {
            "colorbar": {
             "outlinewidth": 0,
             "ticks": ""
            },
            "colorscale": [
             [
              0,
              "#0d0887"
             ],
             [
              0.1111111111111111,
              "#46039f"
             ],
             [
              0.2222222222222222,
              "#7201a8"
             ],
             [
              0.3333333333333333,
              "#9c179e"
             ],
             [
              0.4444444444444444,
              "#bd3786"
             ],
             [
              0.5555555555555556,
              "#d8576b"
             ],
             [
              0.6666666666666666,
              "#ed7953"
             ],
             [
              0.7777777777777778,
              "#fb9f3a"
             ],
             [
              0.8888888888888888,
              "#fdca26"
             ],
             [
              1,
              "#f0f921"
             ]
            ],
            "type": "histogram2d"
           }
          ],
          "histogram2dcontour": [
           {
            "colorbar": {
             "outlinewidth": 0,
             "ticks": ""
            },
            "colorscale": [
             [
              0,
              "#0d0887"
             ],
             [
              0.1111111111111111,
              "#46039f"
             ],
             [
              0.2222222222222222,
              "#7201a8"
             ],
             [
              0.3333333333333333,
              "#9c179e"
             ],
             [
              0.4444444444444444,
              "#bd3786"
             ],
             [
              0.5555555555555556,
              "#d8576b"
             ],
             [
              0.6666666666666666,
              "#ed7953"
             ],
             [
              0.7777777777777778,
              "#fb9f3a"
             ],
             [
              0.8888888888888888,
              "#fdca26"
             ],
             [
              1,
              "#f0f921"
             ]
            ],
            "type": "histogram2dcontour"
           }
          ],
          "mesh3d": [
           {
            "colorbar": {
             "outlinewidth": 0,
             "ticks": ""
            },
            "type": "mesh3d"
           }
          ],
          "parcoords": [
           {
            "line": {
             "colorbar": {
              "outlinewidth": 0,
              "ticks": ""
             }
            },
            "type": "parcoords"
           }
          ],
          "pie": [
           {
            "automargin": true,
            "type": "pie"
           }
          ],
          "scatter": [
           {
            "marker": {
             "colorbar": {
              "outlinewidth": 0,
              "ticks": ""
             }
            },
            "type": "scatter"
           }
          ],
          "scatter3d": [
           {
            "line": {
             "colorbar": {
              "outlinewidth": 0,
              "ticks": ""
             }
            },
            "marker": {
             "colorbar": {
              "outlinewidth": 0,
              "ticks": ""
             }
            },
            "type": "scatter3d"
           }
          ],
          "scattercarpet": [
           {
            "marker": {
             "colorbar": {
              "outlinewidth": 0,
              "ticks": ""
             }
            },
            "type": "scattercarpet"
           }
          ],
          "scattergeo": [
           {
            "marker": {
             "colorbar": {
              "outlinewidth": 0,
              "ticks": ""
             }
            },
            "type": "scattergeo"
           }
          ],
          "scattergl": [
           {
            "marker": {
             "colorbar": {
              "outlinewidth": 0,
              "ticks": ""
             }
            },
            "type": "scattergl"
           }
          ],
          "scattermapbox": [
           {
            "marker": {
             "colorbar": {
              "outlinewidth": 0,
              "ticks": ""
             }
            },
            "type": "scattermapbox"
           }
          ],
          "scatterpolar": [
           {
            "marker": {
             "colorbar": {
              "outlinewidth": 0,
              "ticks": ""
             }
            },
            "type": "scatterpolar"
           }
          ],
          "scatterpolargl": [
           {
            "marker": {
             "colorbar": {
              "outlinewidth": 0,
              "ticks": ""
             }
            },
            "type": "scatterpolargl"
           }
          ],
          "scatterternary": [
           {
            "marker": {
             "colorbar": {
              "outlinewidth": 0,
              "ticks": ""
             }
            },
            "type": "scatterternary"
           }
          ],
          "surface": [
           {
            "colorbar": {
             "outlinewidth": 0,
             "ticks": ""
            },
            "colorscale": [
             [
              0,
              "#0d0887"
             ],
             [
              0.1111111111111111,
              "#46039f"
             ],
             [
              0.2222222222222222,
              "#7201a8"
             ],
             [
              0.3333333333333333,
              "#9c179e"
             ],
             [
              0.4444444444444444,
              "#bd3786"
             ],
             [
              0.5555555555555556,
              "#d8576b"
             ],
             [
              0.6666666666666666,
              "#ed7953"
             ],
             [
              0.7777777777777778,
              "#fb9f3a"
             ],
             [
              0.8888888888888888,
              "#fdca26"
             ],
             [
              1,
              "#f0f921"
             ]
            ],
            "type": "surface"
           }
          ],
          "table": [
           {
            "cells": {
             "fill": {
              "color": "#EBF0F8"
             },
             "line": {
              "color": "white"
             }
            },
            "header": {
             "fill": {
              "color": "#C8D4E3"
             },
             "line": {
              "color": "white"
             }
            },
            "type": "table"
           }
          ]
         },
         "layout": {
          "annotationdefaults": {
           "arrowcolor": "#2a3f5f",
           "arrowhead": 0,
           "arrowwidth": 1
          },
          "autotypenumbers": "strict",
          "coloraxis": {
           "colorbar": {
            "outlinewidth": 0,
            "ticks": ""
           }
          },
          "colorscale": {
           "diverging": [
            [
             0,
             "#8e0152"
            ],
            [
             0.1,
             "#c51b7d"
            ],
            [
             0.2,
             "#de77ae"
            ],
            [
             0.3,
             "#f1b6da"
            ],
            [
             0.4,
             "#fde0ef"
            ],
            [
             0.5,
             "#f7f7f7"
            ],
            [
             0.6,
             "#e6f5d0"
            ],
            [
             0.7,
             "#b8e186"
            ],
            [
             0.8,
             "#7fbc41"
            ],
            [
             0.9,
             "#4d9221"
            ],
            [
             1,
             "#276419"
            ]
           ],
           "sequential": [
            [
             0,
             "#0d0887"
            ],
            [
             0.1111111111111111,
             "#46039f"
            ],
            [
             0.2222222222222222,
             "#7201a8"
            ],
            [
             0.3333333333333333,
             "#9c179e"
            ],
            [
             0.4444444444444444,
             "#bd3786"
            ],
            [
             0.5555555555555556,
             "#d8576b"
            ],
            [
             0.6666666666666666,
             "#ed7953"
            ],
            [
             0.7777777777777778,
             "#fb9f3a"
            ],
            [
             0.8888888888888888,
             "#fdca26"
            ],
            [
             1,
             "#f0f921"
            ]
           ],
           "sequentialminus": [
            [
             0,
             "#0d0887"
            ],
            [
             0.1111111111111111,
             "#46039f"
            ],
            [
             0.2222222222222222,
             "#7201a8"
            ],
            [
             0.3333333333333333,
             "#9c179e"
            ],
            [
             0.4444444444444444,
             "#bd3786"
            ],
            [
             0.5555555555555556,
             "#d8576b"
            ],
            [
             0.6666666666666666,
             "#ed7953"
            ],
            [
             0.7777777777777778,
             "#fb9f3a"
            ],
            [
             0.8888888888888888,
             "#fdca26"
            ],
            [
             1,
             "#f0f921"
            ]
           ]
          },
          "colorway": [
           "#636efa",
           "#EF553B",
           "#00cc96",
           "#ab63fa",
           "#FFA15A",
           "#19d3f3",
           "#FF6692",
           "#B6E880",
           "#FF97FF",
           "#FECB52"
          ],
          "font": {
           "color": "#2a3f5f"
          },
          "geo": {
           "bgcolor": "white",
           "lakecolor": "white",
           "landcolor": "#E5ECF6",
           "showlakes": true,
           "showland": true,
           "subunitcolor": "white"
          },
          "hoverlabel": {
           "align": "left"
          },
          "hovermode": "closest",
          "mapbox": {
           "style": "light"
          },
          "paper_bgcolor": "white",
          "plot_bgcolor": "#E5ECF6",
          "polar": {
           "angularaxis": {
            "gridcolor": "white",
            "linecolor": "white",
            "ticks": ""
           },
           "bgcolor": "#E5ECF6",
           "radialaxis": {
            "gridcolor": "white",
            "linecolor": "white",
            "ticks": ""
           }
          },
          "scene": {
           "xaxis": {
            "backgroundcolor": "#E5ECF6",
            "gridcolor": "white",
            "gridwidth": 2,
            "linecolor": "white",
            "showbackground": true,
            "ticks": "",
            "zerolinecolor": "white"
           },
           "yaxis": {
            "backgroundcolor": "#E5ECF6",
            "gridcolor": "white",
            "gridwidth": 2,
            "linecolor": "white",
            "showbackground": true,
            "ticks": "",
            "zerolinecolor": "white"
           },
           "zaxis": {
            "backgroundcolor": "#E5ECF6",
            "gridcolor": "white",
            "gridwidth": 2,
            "linecolor": "white",
            "showbackground": true,
            "ticks": "",
            "zerolinecolor": "white"
           }
          },
          "shapedefaults": {
           "line": {
            "color": "#2a3f5f"
           }
          },
          "ternary": {
           "aaxis": {
            "gridcolor": "white",
            "linecolor": "white",
            "ticks": ""
           },
           "baxis": {
            "gridcolor": "white",
            "linecolor": "white",
            "ticks": ""
           },
           "bgcolor": "#E5ECF6",
           "caxis": {
            "gridcolor": "white",
            "linecolor": "white",
            "ticks": ""
           }
          },
          "title": {
           "x": 0.05
          },
          "xaxis": {
           "automargin": true,
           "gridcolor": "white",
           "linecolor": "white",
           "ticks": "",
           "title": {
            "standoff": 15
           },
           "zerolinecolor": "white",
           "zerolinewidth": 2
          },
          "yaxis": {
           "automargin": true,
           "gridcolor": "white",
           "linecolor": "white",
           "ticks": "",
           "title": {
            "standoff": 15
           },
           "zerolinecolor": "white",
           "zerolinewidth": 2
          }
         }
        },
        "xaxis": {
         "anchor": "y",
         "domain": [
          0,
          1
         ],
         "title": {
          "text": "value"
         }
        },
        "yaxis": {
         "anchor": "x",
         "domain": [
          0,
          1
         ],
         "title": {
          "text": "count"
         }
        }
       }
      }
     },
     "metadata": {},
     "output_type": "display_data"
    }
   ],
   "source": [
    "fig = px.histogram(df_menej_jeden, color = 'index', opacity=0.5, barmode='overlay')\n",
    "fig.update_traces(xbins_size=1)\n",
    "fig.show()"
   ]
  },
  {
   "cell_type": "code",
   "execution_count": 13,
   "metadata": {},
   "outputs": [
    {
     "name": "stdout",
     "output_type": "stream",
     "text": [
      "[4.209042186208235, 4.218543159704983, 4.228237516796444, 4.239845727074331, 4.250783175571005, 4.236729576097018, 4.238159511407988, 4.2430046807408965, 4.248845964576885, 4.247011862677305, 4.241895714671041, 4.247503785182175, 4.249413815633759, 4.2525158287997975, 4.250006296827944, 4.247481709462245, 4.251683343061667, 4.26248332576863, 4.244903923373909, 4.2597445759933725, 4.254803884337232, 4.24916548346142, 4.24594277041521]\n",
      "[15.34, 16.02, 14.8, 15.28, 15.84, 15.32, 14.76, 15.2, 15.4, 14.8, 14.96, 15.76, 14.64, 14.74, 14.78, 14.98, 15.3, 15.7, 15.54, 15.84, 15.56, 15.24, 14.68]\n"
     ]
    }
   ],
   "source": [
    "the_best = []\n",
    "menej = []\n",
    "for k in range(2,25):\n",
    "    best_fit_list = []\n",
    "    menej_jedno = []\n",
    "    for _ in range(50):\n",
    "        g = GenAlg(population_size=100, k_crossover=k, mutation_prob=0.01, rates=rates,sigma=sigma)\n",
    "        best,best_fit = g.solve(10,8)\n",
    "        best_fit_list.append(best_fit)\n",
    "        menej_ako_jedno_percenta = [i for i in best if i < 0.01]\n",
    "        menej_jedno.append(len(menej_ako_jedno_percenta))\n",
    "    the_best.append(statistics.mean(best_fit_list))\n",
    "    menej.append(statistics.mean(menej_jedno))\n",
    "\n",
    "print(the_best)\n",
    "print(menej)\n"
   ]
  },
  {
   "cell_type": "code",
   "execution_count": 14,
   "metadata": {},
   "outputs": [
    {
     "data": {
      "text/plain": [
       "[15.34,\n",
       " 16.02,\n",
       " 14.8,\n",
       " 15.28,\n",
       " 15.84,\n",
       " 15.32,\n",
       " 14.76,\n",
       " 15.2,\n",
       " 15.4,\n",
       " 14.8,\n",
       " 14.96,\n",
       " 15.76,\n",
       " 14.64,\n",
       " 14.74,\n",
       " 14.78,\n",
       " 14.98,\n",
       " 15.3,\n",
       " 15.7,\n",
       " 15.54,\n",
       " 15.84,\n",
       " 15.56,\n",
       " 15.24,\n",
       " 14.68]"
      ]
     },
     "execution_count": 14,
     "metadata": {},
     "output_type": "execute_result"
    }
   ],
   "source": [
    "menej"
   ]
  },
  {
   "cell_type": "code",
   "execution_count": 15,
   "metadata": {},
   "outputs": [
    {
     "data": {
      "text/html": [
       "<div>\n",
       "<style scoped>\n",
       "    .dataframe tbody tr th:only-of-type {\n",
       "        vertical-align: middle;\n",
       "    }\n",
       "\n",
       "    .dataframe tbody tr th {\n",
       "        vertical-align: top;\n",
       "    }\n",
       "\n",
       "    .dataframe thead th {\n",
       "        text-align: right;\n",
       "    }\n",
       "</style>\n",
       "<table border=\"1\" class=\"dataframe\">\n",
       "  <thead>\n",
       "    <tr style=\"text-align: right;\">\n",
       "      <th></th>\n",
       "      <th>k</th>\n",
       "      <th>ratio</th>\n",
       "      <th>&gt; 1%</th>\n",
       "    </tr>\n",
       "  </thead>\n",
       "  <tbody>\n",
       "    <tr>\n",
       "      <th>0</th>\n",
       "      <td>2</td>\n",
       "      <td>4.209042</td>\n",
       "      <td>29</td>\n",
       "    </tr>\n",
       "    <tr>\n",
       "      <th>1</th>\n",
       "      <td>3</td>\n",
       "      <td>4.218543</td>\n",
       "      <td>28</td>\n",
       "    </tr>\n",
       "    <tr>\n",
       "      <th>2</th>\n",
       "      <td>4</td>\n",
       "      <td>4.228238</td>\n",
       "      <td>30</td>\n",
       "    </tr>\n",
       "    <tr>\n",
       "      <th>3</th>\n",
       "      <td>5</td>\n",
       "      <td>4.239846</td>\n",
       "      <td>29</td>\n",
       "    </tr>\n",
       "    <tr>\n",
       "      <th>4</th>\n",
       "      <td>6</td>\n",
       "      <td>4.250783</td>\n",
       "      <td>29</td>\n",
       "    </tr>\n",
       "    <tr>\n",
       "      <th>5</th>\n",
       "      <td>7</td>\n",
       "      <td>4.236730</td>\n",
       "      <td>29</td>\n",
       "    </tr>\n",
       "    <tr>\n",
       "      <th>6</th>\n",
       "      <td>8</td>\n",
       "      <td>4.238160</td>\n",
       "      <td>30</td>\n",
       "    </tr>\n",
       "    <tr>\n",
       "      <th>7</th>\n",
       "      <td>9</td>\n",
       "      <td>4.243005</td>\n",
       "      <td>29</td>\n",
       "    </tr>\n",
       "    <tr>\n",
       "      <th>8</th>\n",
       "      <td>10</td>\n",
       "      <td>4.248846</td>\n",
       "      <td>29</td>\n",
       "    </tr>\n",
       "    <tr>\n",
       "      <th>9</th>\n",
       "      <td>11</td>\n",
       "      <td>4.247012</td>\n",
       "      <td>30</td>\n",
       "    </tr>\n",
       "    <tr>\n",
       "      <th>10</th>\n",
       "      <td>12</td>\n",
       "      <td>4.241896</td>\n",
       "      <td>30</td>\n",
       "    </tr>\n",
       "    <tr>\n",
       "      <th>11</th>\n",
       "      <td>13</td>\n",
       "      <td>4.247504</td>\n",
       "      <td>29</td>\n",
       "    </tr>\n",
       "    <tr>\n",
       "      <th>12</th>\n",
       "      <td>14</td>\n",
       "      <td>4.249414</td>\n",
       "      <td>30</td>\n",
       "    </tr>\n",
       "    <tr>\n",
       "      <th>13</th>\n",
       "      <td>15</td>\n",
       "      <td>4.252516</td>\n",
       "      <td>30</td>\n",
       "    </tr>\n",
       "    <tr>\n",
       "      <th>14</th>\n",
       "      <td>16</td>\n",
       "      <td>4.250006</td>\n",
       "      <td>30</td>\n",
       "    </tr>\n",
       "    <tr>\n",
       "      <th>15</th>\n",
       "      <td>17</td>\n",
       "      <td>4.247482</td>\n",
       "      <td>30</td>\n",
       "    </tr>\n",
       "    <tr>\n",
       "      <th>16</th>\n",
       "      <td>18</td>\n",
       "      <td>4.251683</td>\n",
       "      <td>29</td>\n",
       "    </tr>\n",
       "    <tr>\n",
       "      <th>17</th>\n",
       "      <td>19</td>\n",
       "      <td>4.262483</td>\n",
       "      <td>29</td>\n",
       "    </tr>\n",
       "    <tr>\n",
       "      <th>18</th>\n",
       "      <td>20</td>\n",
       "      <td>4.244904</td>\n",
       "      <td>29</td>\n",
       "    </tr>\n",
       "    <tr>\n",
       "      <th>19</th>\n",
       "      <td>21</td>\n",
       "      <td>4.259745</td>\n",
       "      <td>29</td>\n",
       "    </tr>\n",
       "    <tr>\n",
       "      <th>20</th>\n",
       "      <td>22</td>\n",
       "      <td>4.254804</td>\n",
       "      <td>29</td>\n",
       "    </tr>\n",
       "    <tr>\n",
       "      <th>21</th>\n",
       "      <td>23</td>\n",
       "      <td>4.249165</td>\n",
       "      <td>29</td>\n",
       "    </tr>\n",
       "    <tr>\n",
       "      <th>22</th>\n",
       "      <td>24</td>\n",
       "      <td>4.245943</td>\n",
       "      <td>30</td>\n",
       "    </tr>\n",
       "  </tbody>\n",
       "</table>\n",
       "</div>"
      ],
      "text/plain": [
       "     k     ratio  > 1%\n",
       "0    2  4.209042    29\n",
       "1    3  4.218543    28\n",
       "2    4  4.228238    30\n",
       "3    5  4.239846    29\n",
       "4    6  4.250783    29\n",
       "5    7  4.236730    29\n",
       "6    8  4.238160    30\n",
       "7    9  4.243005    29\n",
       "8   10  4.248846    29\n",
       "9   11  4.247012    30\n",
       "10  12  4.241896    30\n",
       "11  13  4.247504    29\n",
       "12  14  4.249414    30\n",
       "13  15  4.252516    30\n",
       "14  16  4.250006    30\n",
       "15  17  4.247482    30\n",
       "16  18  4.251683    29\n",
       "17  19  4.262483    29\n",
       "18  20  4.244904    29\n",
       "19  21  4.259745    29\n",
       "20  22  4.254804    29\n",
       "21  23  4.249165    29\n",
       "22  24  4.245943    30"
      ]
     },
     "execution_count": 15,
     "metadata": {},
     "output_type": "execute_result"
    }
   ],
   "source": [
    "viac = [int(45-i) for i in menej]\n",
    "df_k = pd.DataFrame({\"k\":[i for i in range(2,25)],\"ratio\": the_best, \"> 1%\":viac})\n",
    "df_k"
   ]
  },
  {
   "cell_type": "code",
   "execution_count": 16,
   "metadata": {},
   "outputs": [
    {
     "data": {
      "application/vnd.plotly.v1+json": {
       "config": {
        "plotlyServerURL": "https://plot.ly"
       },
       "data": [
        {
         "name": "ratio",
         "type": "scatter",
         "x": [
          2,
          3,
          4,
          5,
          6,
          7,
          8,
          9,
          10,
          11,
          12,
          13,
          14,
          15,
          16,
          17,
          18,
          19,
          20,
          21,
          22,
          23,
          24
         ],
         "y": [
          4.209042186208235,
          4.218543159704983,
          4.228237516796444,
          4.239845727074331,
          4.250783175571005,
          4.236729576097018,
          4.238159511407988,
          4.2430046807408965,
          4.248845964576885,
          4.247011862677305,
          4.241895714671041,
          4.247503785182175,
          4.249413815633759,
          4.2525158287997975,
          4.250006296827944,
          4.247481709462245,
          4.251683343061667,
          4.26248332576863,
          4.244903923373909,
          4.2597445759933725,
          4.254803884337232,
          4.24916548346142,
          4.24594277041521
         ],
         "yaxis": "y"
        },
        {
         "name": "> 1%",
         "type": "scatter",
         "x": [
          2,
          3,
          4,
          5,
          6,
          7,
          8,
          9,
          10,
          11,
          12,
          13,
          14,
          15,
          16,
          17,
          18,
          19,
          20,
          21,
          22,
          23,
          24
         ],
         "y": [
          29,
          28,
          30,
          29,
          29,
          29,
          30,
          29,
          29,
          30,
          30,
          29,
          30,
          30,
          30,
          30,
          29,
          29,
          29,
          29,
          29,
          29,
          30
         ],
         "yaxis": "y2"
        }
       ],
       "layout": {
        "template": {
         "data": {
          "bar": [
           {
            "error_x": {
             "color": "#2a3f5f"
            },
            "error_y": {
             "color": "#2a3f5f"
            },
            "marker": {
             "line": {
              "color": "#E5ECF6",
              "width": 0.5
             }
            },
            "type": "bar"
           }
          ],
          "barpolar": [
           {
            "marker": {
             "line": {
              "color": "#E5ECF6",
              "width": 0.5
             }
            },
            "type": "barpolar"
           }
          ],
          "carpet": [
           {
            "aaxis": {
             "endlinecolor": "#2a3f5f",
             "gridcolor": "white",
             "linecolor": "white",
             "minorgridcolor": "white",
             "startlinecolor": "#2a3f5f"
            },
            "baxis": {
             "endlinecolor": "#2a3f5f",
             "gridcolor": "white",
             "linecolor": "white",
             "minorgridcolor": "white",
             "startlinecolor": "#2a3f5f"
            },
            "type": "carpet"
           }
          ],
          "choropleth": [
           {
            "colorbar": {
             "outlinewidth": 0,
             "ticks": ""
            },
            "type": "choropleth"
           }
          ],
          "contour": [
           {
            "colorbar": {
             "outlinewidth": 0,
             "ticks": ""
            },
            "colorscale": [
             [
              0,
              "#0d0887"
             ],
             [
              0.1111111111111111,
              "#46039f"
             ],
             [
              0.2222222222222222,
              "#7201a8"
             ],
             [
              0.3333333333333333,
              "#9c179e"
             ],
             [
              0.4444444444444444,
              "#bd3786"
             ],
             [
              0.5555555555555556,
              "#d8576b"
             ],
             [
              0.6666666666666666,
              "#ed7953"
             ],
             [
              0.7777777777777778,
              "#fb9f3a"
             ],
             [
              0.8888888888888888,
              "#fdca26"
             ],
             [
              1,
              "#f0f921"
             ]
            ],
            "type": "contour"
           }
          ],
          "contourcarpet": [
           {
            "colorbar": {
             "outlinewidth": 0,
             "ticks": ""
            },
            "type": "contourcarpet"
           }
          ],
          "heatmap": [
           {
            "colorbar": {
             "outlinewidth": 0,
             "ticks": ""
            },
            "colorscale": [
             [
              0,
              "#0d0887"
             ],
             [
              0.1111111111111111,
              "#46039f"
             ],
             [
              0.2222222222222222,
              "#7201a8"
             ],
             [
              0.3333333333333333,
              "#9c179e"
             ],
             [
              0.4444444444444444,
              "#bd3786"
             ],
             [
              0.5555555555555556,
              "#d8576b"
             ],
             [
              0.6666666666666666,
              "#ed7953"
             ],
             [
              0.7777777777777778,
              "#fb9f3a"
             ],
             [
              0.8888888888888888,
              "#fdca26"
             ],
             [
              1,
              "#f0f921"
             ]
            ],
            "type": "heatmap"
           }
          ],
          "heatmapgl": [
           {
            "colorbar": {
             "outlinewidth": 0,
             "ticks": ""
            },
            "colorscale": [
             [
              0,
              "#0d0887"
             ],
             [
              0.1111111111111111,
              "#46039f"
             ],
             [
              0.2222222222222222,
              "#7201a8"
             ],
             [
              0.3333333333333333,
              "#9c179e"
             ],
             [
              0.4444444444444444,
              "#bd3786"
             ],
             [
              0.5555555555555556,
              "#d8576b"
             ],
             [
              0.6666666666666666,
              "#ed7953"
             ],
             [
              0.7777777777777778,
              "#fb9f3a"
             ],
             [
              0.8888888888888888,
              "#fdca26"
             ],
             [
              1,
              "#f0f921"
             ]
            ],
            "type": "heatmapgl"
           }
          ],
          "histogram": [
           {
            "marker": {
             "colorbar": {
              "outlinewidth": 0,
              "ticks": ""
             }
            },
            "type": "histogram"
           }
          ],
          "histogram2d": [
           {
            "colorbar": {
             "outlinewidth": 0,
             "ticks": ""
            },
            "colorscale": [
             [
              0,
              "#0d0887"
             ],
             [
              0.1111111111111111,
              "#46039f"
             ],
             [
              0.2222222222222222,
              "#7201a8"
             ],
             [
              0.3333333333333333,
              "#9c179e"
             ],
             [
              0.4444444444444444,
              "#bd3786"
             ],
             [
              0.5555555555555556,
              "#d8576b"
             ],
             [
              0.6666666666666666,
              "#ed7953"
             ],
             [
              0.7777777777777778,
              "#fb9f3a"
             ],
             [
              0.8888888888888888,
              "#fdca26"
             ],
             [
              1,
              "#f0f921"
             ]
            ],
            "type": "histogram2d"
           }
          ],
          "histogram2dcontour": [
           {
            "colorbar": {
             "outlinewidth": 0,
             "ticks": ""
            },
            "colorscale": [
             [
              0,
              "#0d0887"
             ],
             [
              0.1111111111111111,
              "#46039f"
             ],
             [
              0.2222222222222222,
              "#7201a8"
             ],
             [
              0.3333333333333333,
              "#9c179e"
             ],
             [
              0.4444444444444444,
              "#bd3786"
             ],
             [
              0.5555555555555556,
              "#d8576b"
             ],
             [
              0.6666666666666666,
              "#ed7953"
             ],
             [
              0.7777777777777778,
              "#fb9f3a"
             ],
             [
              0.8888888888888888,
              "#fdca26"
             ],
             [
              1,
              "#f0f921"
             ]
            ],
            "type": "histogram2dcontour"
           }
          ],
          "mesh3d": [
           {
            "colorbar": {
             "outlinewidth": 0,
             "ticks": ""
            },
            "type": "mesh3d"
           }
          ],
          "parcoords": [
           {
            "line": {
             "colorbar": {
              "outlinewidth": 0,
              "ticks": ""
             }
            },
            "type": "parcoords"
           }
          ],
          "pie": [
           {
            "automargin": true,
            "type": "pie"
           }
          ],
          "scatter": [
           {
            "marker": {
             "colorbar": {
              "outlinewidth": 0,
              "ticks": ""
             }
            },
            "type": "scatter"
           }
          ],
          "scatter3d": [
           {
            "line": {
             "colorbar": {
              "outlinewidth": 0,
              "ticks": ""
             }
            },
            "marker": {
             "colorbar": {
              "outlinewidth": 0,
              "ticks": ""
             }
            },
            "type": "scatter3d"
           }
          ],
          "scattercarpet": [
           {
            "marker": {
             "colorbar": {
              "outlinewidth": 0,
              "ticks": ""
             }
            },
            "type": "scattercarpet"
           }
          ],
          "scattergeo": [
           {
            "marker": {
             "colorbar": {
              "outlinewidth": 0,
              "ticks": ""
             }
            },
            "type": "scattergeo"
           }
          ],
          "scattergl": [
           {
            "marker": {
             "colorbar": {
              "outlinewidth": 0,
              "ticks": ""
             }
            },
            "type": "scattergl"
           }
          ],
          "scattermapbox": [
           {
            "marker": {
             "colorbar": {
              "outlinewidth": 0,
              "ticks": ""
             }
            },
            "type": "scattermapbox"
           }
          ],
          "scatterpolar": [
           {
            "marker": {
             "colorbar": {
              "outlinewidth": 0,
              "ticks": ""
             }
            },
            "type": "scatterpolar"
           }
          ],
          "scatterpolargl": [
           {
            "marker": {
             "colorbar": {
              "outlinewidth": 0,
              "ticks": ""
             }
            },
            "type": "scatterpolargl"
           }
          ],
          "scatterternary": [
           {
            "marker": {
             "colorbar": {
              "outlinewidth": 0,
              "ticks": ""
             }
            },
            "type": "scatterternary"
           }
          ],
          "surface": [
           {
            "colorbar": {
             "outlinewidth": 0,
             "ticks": ""
            },
            "colorscale": [
             [
              0,
              "#0d0887"
             ],
             [
              0.1111111111111111,
              "#46039f"
             ],
             [
              0.2222222222222222,
              "#7201a8"
             ],
             [
              0.3333333333333333,
              "#9c179e"
             ],
             [
              0.4444444444444444,
              "#bd3786"
             ],
             [
              0.5555555555555556,
              "#d8576b"
             ],
             [
              0.6666666666666666,
              "#ed7953"
             ],
             [
              0.7777777777777778,
              "#fb9f3a"
             ],
             [
              0.8888888888888888,
              "#fdca26"
             ],
             [
              1,
              "#f0f921"
             ]
            ],
            "type": "surface"
           }
          ],
          "table": [
           {
            "cells": {
             "fill": {
              "color": "#EBF0F8"
             },
             "line": {
              "color": "white"
             }
            },
            "header": {
             "fill": {
              "color": "#C8D4E3"
             },
             "line": {
              "color": "white"
             }
            },
            "type": "table"
           }
          ]
         },
         "layout": {
          "annotationdefaults": {
           "arrowcolor": "#2a3f5f",
           "arrowhead": 0,
           "arrowwidth": 1
          },
          "autotypenumbers": "strict",
          "coloraxis": {
           "colorbar": {
            "outlinewidth": 0,
            "ticks": ""
           }
          },
          "colorscale": {
           "diverging": [
            [
             0,
             "#8e0152"
            ],
            [
             0.1,
             "#c51b7d"
            ],
            [
             0.2,
             "#de77ae"
            ],
            [
             0.3,
             "#f1b6da"
            ],
            [
             0.4,
             "#fde0ef"
            ],
            [
             0.5,
             "#f7f7f7"
            ],
            [
             0.6,
             "#e6f5d0"
            ],
            [
             0.7,
             "#b8e186"
            ],
            [
             0.8,
             "#7fbc41"
            ],
            [
             0.9,
             "#4d9221"
            ],
            [
             1,
             "#276419"
            ]
           ],
           "sequential": [
            [
             0,
             "#0d0887"
            ],
            [
             0.1111111111111111,
             "#46039f"
            ],
            [
             0.2222222222222222,
             "#7201a8"
            ],
            [
             0.3333333333333333,
             "#9c179e"
            ],
            [
             0.4444444444444444,
             "#bd3786"
            ],
            [
             0.5555555555555556,
             "#d8576b"
            ],
            [
             0.6666666666666666,
             "#ed7953"
            ],
            [
             0.7777777777777778,
             "#fb9f3a"
            ],
            [
             0.8888888888888888,
             "#fdca26"
            ],
            [
             1,
             "#f0f921"
            ]
           ],
           "sequentialminus": [
            [
             0,
             "#0d0887"
            ],
            [
             0.1111111111111111,
             "#46039f"
            ],
            [
             0.2222222222222222,
             "#7201a8"
            ],
            [
             0.3333333333333333,
             "#9c179e"
            ],
            [
             0.4444444444444444,
             "#bd3786"
            ],
            [
             0.5555555555555556,
             "#d8576b"
            ],
            [
             0.6666666666666666,
             "#ed7953"
            ],
            [
             0.7777777777777778,
             "#fb9f3a"
            ],
            [
             0.8888888888888888,
             "#fdca26"
            ],
            [
             1,
             "#f0f921"
            ]
           ]
          },
          "colorway": [
           "#636efa",
           "#EF553B",
           "#00cc96",
           "#ab63fa",
           "#FFA15A",
           "#19d3f3",
           "#FF6692",
           "#B6E880",
           "#FF97FF",
           "#FECB52"
          ],
          "font": {
           "color": "#2a3f5f"
          },
          "geo": {
           "bgcolor": "white",
           "lakecolor": "white",
           "landcolor": "#E5ECF6",
           "showlakes": true,
           "showland": true,
           "subunitcolor": "white"
          },
          "hoverlabel": {
           "align": "left"
          },
          "hovermode": "closest",
          "mapbox": {
           "style": "light"
          },
          "paper_bgcolor": "white",
          "plot_bgcolor": "#E5ECF6",
          "polar": {
           "angularaxis": {
            "gridcolor": "white",
            "linecolor": "white",
            "ticks": ""
           },
           "bgcolor": "#E5ECF6",
           "radialaxis": {
            "gridcolor": "white",
            "linecolor": "white",
            "ticks": ""
           }
          },
          "scene": {
           "xaxis": {
            "backgroundcolor": "#E5ECF6",
            "gridcolor": "white",
            "gridwidth": 2,
            "linecolor": "white",
            "showbackground": true,
            "ticks": "",
            "zerolinecolor": "white"
           },
           "yaxis": {
            "backgroundcolor": "#E5ECF6",
            "gridcolor": "white",
            "gridwidth": 2,
            "linecolor": "white",
            "showbackground": true,
            "ticks": "",
            "zerolinecolor": "white"
           },
           "zaxis": {
            "backgroundcolor": "#E5ECF6",
            "gridcolor": "white",
            "gridwidth": 2,
            "linecolor": "white",
            "showbackground": true,
            "ticks": "",
            "zerolinecolor": "white"
           }
          },
          "shapedefaults": {
           "line": {
            "color": "#2a3f5f"
           }
          },
          "ternary": {
           "aaxis": {
            "gridcolor": "white",
            "linecolor": "white",
            "ticks": ""
           },
           "baxis": {
            "gridcolor": "white",
            "linecolor": "white",
            "ticks": ""
           },
           "bgcolor": "#E5ECF6",
           "caxis": {
            "gridcolor": "white",
            "linecolor": "white",
            "ticks": ""
           }
          },
          "title": {
           "x": 0.05
          },
          "xaxis": {
           "automargin": true,
           "gridcolor": "white",
           "linecolor": "white",
           "ticks": "",
           "title": {
            "standoff": 15
           },
           "zerolinecolor": "white",
           "zerolinewidth": 2
          },
          "yaxis": {
           "automargin": true,
           "gridcolor": "white",
           "linecolor": "white",
           "ticks": "",
           "title": {
            "standoff": 15
           },
           "zerolinecolor": "white",
           "zerolinewidth": 2
          }
         }
        },
        "xaxis": {
         "title": {
          "text": "k"
         }
        },
        "yaxis": {
         "tickfont": {
          "color": "#1f77b4"
         },
         "title": {
          "font": {
           "color": "#1f77b4"
          },
          "text": "ratio"
         }
        },
        "yaxis2": {
         "anchor": "free",
         "overlaying": "y",
         "position": 1,
         "side": "right",
         "tickfont": {
          "color": "red"
         },
         "title": {
          "font": {
           "color": "red"
          },
          "text": "> 1%"
         }
        }
       }
      }
     },
     "metadata": {},
     "output_type": "display_data"
    }
   ],
   "source": [
    "fig = go.Figure()\n",
    "#mutation prob = 0.1, pop size 100\n",
    "fig.add_trace(go.Scatter(x=df_k['k'], y=df_k['ratio'], name=\"ratio\", yaxis=\"y1\"))\n",
    "fig.add_trace(go.Scatter(x=df_k['k'], y=df_k['> 1%'], name=\"> 1%\", yaxis=\"y2\"))\n",
    "fig.update_layout(\n",
    "    xaxis=dict(title='k'),\n",
    "    yaxis=dict(\n",
    "        title=\"ratio\",\n",
    "        titlefont=dict(\n",
    "            color=\"#1f77b4\"\n",
    "        ),\n",
    "        tickfont=dict(\n",
    "            color=\"#1f77b4\"\n",
    "        )\n",
    "    ),\n",
    "    yaxis2=dict(\n",
    "        title=\"> 1%\",\n",
    "        titlefont=dict(\n",
    "            color=\"red\"\n",
    "        ),\n",
    "        tickfont=dict(\n",
    "            color=\"red\"\n",
    "        ),\n",
    "        anchor=\"free\",\n",
    "        overlaying=\"y\",\n",
    "        side=\"right\",\n",
    "        position=1\n",
    "    ))\n",
    "fig.show()"
   ]
  },
  {
   "cell_type": "code",
   "execution_count": 17,
   "metadata": {},
   "outputs": [
    {
     "name": "stdout",
     "output_type": "stream",
     "text": [
      "[4.250553404645456, 4.254655332606942, 4.238467282737964, 4.239993011370794, 4.23457878347763, 4.231451448967875, 4.216864092022188, 4.233714850229523, 4.223719674417431, 4.211603520760883]\n",
      "[14.85, 15.18, 15.76, 17.68, 18.98, 19.99, 20.62, 24.42, 25.26, 25.62]\n"
     ]
    }
   ],
   "source": [
    "the_best = []\n",
    "menej = []\n",
    "for p in [0.005, 0.010, 0.015, 0.020, 0.025, 0.030, 0.035, 0.040, 0.045, 0.050]:\n",
    "    best_fit_list = []\n",
    "    menej_jedno = []\n",
    "    for _ in range(100):\n",
    "        g = GenAlg(population_size=100, k_crossover=10, mutation_prob=p, rates=rates,sigma=sigma)\n",
    "        best,best_fit = g.solve(10,8)\n",
    "        best_fit_list.append(best_fit)\n",
    "        menej_ako_jedno_percenta = [i for i in best if i < 0.01]\n",
    "        menej_jedno.append(len(menej_ako_jedno_percenta))\n",
    "    the_best.append(statistics.mean(best_fit_list))\n",
    "    menej.append(statistics.mean(menej_jedno))\n",
    "\n",
    "print(the_best)\n",
    "print(menej)"
   ]
  },
  {
   "cell_type": "code",
   "execution_count": 18,
   "metadata": {},
   "outputs": [
    {
     "data": {
      "text/html": [
       "<div>\n",
       "<style scoped>\n",
       "    .dataframe tbody tr th:only-of-type {\n",
       "        vertical-align: middle;\n",
       "    }\n",
       "\n",
       "    .dataframe tbody tr th {\n",
       "        vertical-align: top;\n",
       "    }\n",
       "\n",
       "    .dataframe thead th {\n",
       "        text-align: right;\n",
       "    }\n",
       "</style>\n",
       "<table border=\"1\" class=\"dataframe\">\n",
       "  <thead>\n",
       "    <tr style=\"text-align: right;\">\n",
       "      <th></th>\n",
       "      <th>p</th>\n",
       "      <th>ratio</th>\n",
       "      <th>&gt; 1%</th>\n",
       "    </tr>\n",
       "  </thead>\n",
       "  <tbody>\n",
       "    <tr>\n",
       "      <th>0</th>\n",
       "      <td>0.005</td>\n",
       "      <td>4.250553</td>\n",
       "      <td>30</td>\n",
       "    </tr>\n",
       "    <tr>\n",
       "      <th>1</th>\n",
       "      <td>0.010</td>\n",
       "      <td>4.254655</td>\n",
       "      <td>29</td>\n",
       "    </tr>\n",
       "    <tr>\n",
       "      <th>2</th>\n",
       "      <td>0.015</td>\n",
       "      <td>4.238467</td>\n",
       "      <td>29</td>\n",
       "    </tr>\n",
       "    <tr>\n",
       "      <th>3</th>\n",
       "      <td>0.020</td>\n",
       "      <td>4.239993</td>\n",
       "      <td>27</td>\n",
       "    </tr>\n",
       "    <tr>\n",
       "      <th>4</th>\n",
       "      <td>0.025</td>\n",
       "      <td>4.234579</td>\n",
       "      <td>26</td>\n",
       "    </tr>\n",
       "    <tr>\n",
       "      <th>5</th>\n",
       "      <td>0.030</td>\n",
       "      <td>4.231451</td>\n",
       "      <td>25</td>\n",
       "    </tr>\n",
       "    <tr>\n",
       "      <th>6</th>\n",
       "      <td>0.035</td>\n",
       "      <td>4.216864</td>\n",
       "      <td>24</td>\n",
       "    </tr>\n",
       "    <tr>\n",
       "      <th>7</th>\n",
       "      <td>0.040</td>\n",
       "      <td>4.233715</td>\n",
       "      <td>20</td>\n",
       "    </tr>\n",
       "    <tr>\n",
       "      <th>8</th>\n",
       "      <td>0.045</td>\n",
       "      <td>4.223720</td>\n",
       "      <td>19</td>\n",
       "    </tr>\n",
       "    <tr>\n",
       "      <th>9</th>\n",
       "      <td>0.050</td>\n",
       "      <td>4.211604</td>\n",
       "      <td>19</td>\n",
       "    </tr>\n",
       "  </tbody>\n",
       "</table>\n",
       "</div>"
      ],
      "text/plain": [
       "       p     ratio  > 1%\n",
       "0  0.005  4.250553    30\n",
       "1  0.010  4.254655    29\n",
       "2  0.015  4.238467    29\n",
       "3  0.020  4.239993    27\n",
       "4  0.025  4.234579    26\n",
       "5  0.030  4.231451    25\n",
       "6  0.035  4.216864    24\n",
       "7  0.040  4.233715    20\n",
       "8  0.045  4.223720    19\n",
       "9  0.050  4.211604    19"
      ]
     },
     "execution_count": 18,
     "metadata": {},
     "output_type": "execute_result"
    }
   ],
   "source": [
    "viac = [int(45-i) for i in menej]\n",
    "df_p = pd.DataFrame({\"p\":[0.005, 0.010, 0.015, 0.020, 0.025, 0.030, 0.035, 0.040, 0.045, 0.050],\"ratio\": the_best, \"> 1%\":viac})\n",
    "df_p"
   ]
  },
  {
   "cell_type": "code",
   "execution_count": 19,
   "metadata": {},
   "outputs": [
    {
     "data": {
      "application/vnd.plotly.v1+json": {
       "config": {
        "plotlyServerURL": "https://plot.ly"
       },
       "data": [
        {
         "name": "ratio",
         "type": "scatter",
         "x": [
          0.005,
          0.01,
          0.015,
          0.02,
          0.025,
          0.03,
          0.035,
          0.04,
          0.045,
          0.05
         ],
         "y": [
          4.250553404645456,
          4.254655332606942,
          4.238467282737964,
          4.239993011370794,
          4.23457878347763,
          4.231451448967875,
          4.216864092022188,
          4.233714850229523,
          4.223719674417431,
          4.211603520760883
         ],
         "yaxis": "y"
        },
        {
         "name": "> 1%",
         "type": "scatter",
         "x": [
          0.005,
          0.01,
          0.015,
          0.02,
          0.025,
          0.03,
          0.035,
          0.04,
          0.045,
          0.05
         ],
         "y": [
          30,
          29,
          29,
          27,
          26,
          25,
          24,
          20,
          19,
          19
         ],
         "yaxis": "y2"
        }
       ],
       "layout": {
        "template": {
         "data": {
          "bar": [
           {
            "error_x": {
             "color": "#2a3f5f"
            },
            "error_y": {
             "color": "#2a3f5f"
            },
            "marker": {
             "line": {
              "color": "#E5ECF6",
              "width": 0.5
             }
            },
            "type": "bar"
           }
          ],
          "barpolar": [
           {
            "marker": {
             "line": {
              "color": "#E5ECF6",
              "width": 0.5
             }
            },
            "type": "barpolar"
           }
          ],
          "carpet": [
           {
            "aaxis": {
             "endlinecolor": "#2a3f5f",
             "gridcolor": "white",
             "linecolor": "white",
             "minorgridcolor": "white",
             "startlinecolor": "#2a3f5f"
            },
            "baxis": {
             "endlinecolor": "#2a3f5f",
             "gridcolor": "white",
             "linecolor": "white",
             "minorgridcolor": "white",
             "startlinecolor": "#2a3f5f"
            },
            "type": "carpet"
           }
          ],
          "choropleth": [
           {
            "colorbar": {
             "outlinewidth": 0,
             "ticks": ""
            },
            "type": "choropleth"
           }
          ],
          "contour": [
           {
            "colorbar": {
             "outlinewidth": 0,
             "ticks": ""
            },
            "colorscale": [
             [
              0,
              "#0d0887"
             ],
             [
              0.1111111111111111,
              "#46039f"
             ],
             [
              0.2222222222222222,
              "#7201a8"
             ],
             [
              0.3333333333333333,
              "#9c179e"
             ],
             [
              0.4444444444444444,
              "#bd3786"
             ],
             [
              0.5555555555555556,
              "#d8576b"
             ],
             [
              0.6666666666666666,
              "#ed7953"
             ],
             [
              0.7777777777777778,
              "#fb9f3a"
             ],
             [
              0.8888888888888888,
              "#fdca26"
             ],
             [
              1,
              "#f0f921"
             ]
            ],
            "type": "contour"
           }
          ],
          "contourcarpet": [
           {
            "colorbar": {
             "outlinewidth": 0,
             "ticks": ""
            },
            "type": "contourcarpet"
           }
          ],
          "heatmap": [
           {
            "colorbar": {
             "outlinewidth": 0,
             "ticks": ""
            },
            "colorscale": [
             [
              0,
              "#0d0887"
             ],
             [
              0.1111111111111111,
              "#46039f"
             ],
             [
              0.2222222222222222,
              "#7201a8"
             ],
             [
              0.3333333333333333,
              "#9c179e"
             ],
             [
              0.4444444444444444,
              "#bd3786"
             ],
             [
              0.5555555555555556,
              "#d8576b"
             ],
             [
              0.6666666666666666,
              "#ed7953"
             ],
             [
              0.7777777777777778,
              "#fb9f3a"
             ],
             [
              0.8888888888888888,
              "#fdca26"
             ],
             [
              1,
              "#f0f921"
             ]
            ],
            "type": "heatmap"
           }
          ],
          "heatmapgl": [
           {
            "colorbar": {
             "outlinewidth": 0,
             "ticks": ""
            },
            "colorscale": [
             [
              0,
              "#0d0887"
             ],
             [
              0.1111111111111111,
              "#46039f"
             ],
             [
              0.2222222222222222,
              "#7201a8"
             ],
             [
              0.3333333333333333,
              "#9c179e"
             ],
             [
              0.4444444444444444,
              "#bd3786"
             ],
             [
              0.5555555555555556,
              "#d8576b"
             ],
             [
              0.6666666666666666,
              "#ed7953"
             ],
             [
              0.7777777777777778,
              "#fb9f3a"
             ],
             [
              0.8888888888888888,
              "#fdca26"
             ],
             [
              1,
              "#f0f921"
             ]
            ],
            "type": "heatmapgl"
           }
          ],
          "histogram": [
           {
            "marker": {
             "colorbar": {
              "outlinewidth": 0,
              "ticks": ""
             }
            },
            "type": "histogram"
           }
          ],
          "histogram2d": [
           {
            "colorbar": {
             "outlinewidth": 0,
             "ticks": ""
            },
            "colorscale": [
             [
              0,
              "#0d0887"
             ],
             [
              0.1111111111111111,
              "#46039f"
             ],
             [
              0.2222222222222222,
              "#7201a8"
             ],
             [
              0.3333333333333333,
              "#9c179e"
             ],
             [
              0.4444444444444444,
              "#bd3786"
             ],
             [
              0.5555555555555556,
              "#d8576b"
             ],
             [
              0.6666666666666666,
              "#ed7953"
             ],
             [
              0.7777777777777778,
              "#fb9f3a"
             ],
             [
              0.8888888888888888,
              "#fdca26"
             ],
             [
              1,
              "#f0f921"
             ]
            ],
            "type": "histogram2d"
           }
          ],
          "histogram2dcontour": [
           {
            "colorbar": {
             "outlinewidth": 0,
             "ticks": ""
            },
            "colorscale": [
             [
              0,
              "#0d0887"
             ],
             [
              0.1111111111111111,
              "#46039f"
             ],
             [
              0.2222222222222222,
              "#7201a8"
             ],
             [
              0.3333333333333333,
              "#9c179e"
             ],
             [
              0.4444444444444444,
              "#bd3786"
             ],
             [
              0.5555555555555556,
              "#d8576b"
             ],
             [
              0.6666666666666666,
              "#ed7953"
             ],
             [
              0.7777777777777778,
              "#fb9f3a"
             ],
             [
              0.8888888888888888,
              "#fdca26"
             ],
             [
              1,
              "#f0f921"
             ]
            ],
            "type": "histogram2dcontour"
           }
          ],
          "mesh3d": [
           {
            "colorbar": {
             "outlinewidth": 0,
             "ticks": ""
            },
            "type": "mesh3d"
           }
          ],
          "parcoords": [
           {
            "line": {
             "colorbar": {
              "outlinewidth": 0,
              "ticks": ""
             }
            },
            "type": "parcoords"
           }
          ],
          "pie": [
           {
            "automargin": true,
            "type": "pie"
           }
          ],
          "scatter": [
           {
            "marker": {
             "colorbar": {
              "outlinewidth": 0,
              "ticks": ""
             }
            },
            "type": "scatter"
           }
          ],
          "scatter3d": [
           {
            "line": {
             "colorbar": {
              "outlinewidth": 0,
              "ticks": ""
             }
            },
            "marker": {
             "colorbar": {
              "outlinewidth": 0,
              "ticks": ""
             }
            },
            "type": "scatter3d"
           }
          ],
          "scattercarpet": [
           {
            "marker": {
             "colorbar": {
              "outlinewidth": 0,
              "ticks": ""
             }
            },
            "type": "scattercarpet"
           }
          ],
          "scattergeo": [
           {
            "marker": {
             "colorbar": {
              "outlinewidth": 0,
              "ticks": ""
             }
            },
            "type": "scattergeo"
           }
          ],
          "scattergl": [
           {
            "marker": {
             "colorbar": {
              "outlinewidth": 0,
              "ticks": ""
             }
            },
            "type": "scattergl"
           }
          ],
          "scattermapbox": [
           {
            "marker": {
             "colorbar": {
              "outlinewidth": 0,
              "ticks": ""
             }
            },
            "type": "scattermapbox"
           }
          ],
          "scatterpolar": [
           {
            "marker": {
             "colorbar": {
              "outlinewidth": 0,
              "ticks": ""
             }
            },
            "type": "scatterpolar"
           }
          ],
          "scatterpolargl": [
           {
            "marker": {
             "colorbar": {
              "outlinewidth": 0,
              "ticks": ""
             }
            },
            "type": "scatterpolargl"
           }
          ],
          "scatterternary": [
           {
            "marker": {
             "colorbar": {
              "outlinewidth": 0,
              "ticks": ""
             }
            },
            "type": "scatterternary"
           }
          ],
          "surface": [
           {
            "colorbar": {
             "outlinewidth": 0,
             "ticks": ""
            },
            "colorscale": [
             [
              0,
              "#0d0887"
             ],
             [
              0.1111111111111111,
              "#46039f"
             ],
             [
              0.2222222222222222,
              "#7201a8"
             ],
             [
              0.3333333333333333,
              "#9c179e"
             ],
             [
              0.4444444444444444,
              "#bd3786"
             ],
             [
              0.5555555555555556,
              "#d8576b"
             ],
             [
              0.6666666666666666,
              "#ed7953"
             ],
             [
              0.7777777777777778,
              "#fb9f3a"
             ],
             [
              0.8888888888888888,
              "#fdca26"
             ],
             [
              1,
              "#f0f921"
             ]
            ],
            "type": "surface"
           }
          ],
          "table": [
           {
            "cells": {
             "fill": {
              "color": "#EBF0F8"
             },
             "line": {
              "color": "white"
             }
            },
            "header": {
             "fill": {
              "color": "#C8D4E3"
             },
             "line": {
              "color": "white"
             }
            },
            "type": "table"
           }
          ]
         },
         "layout": {
          "annotationdefaults": {
           "arrowcolor": "#2a3f5f",
           "arrowhead": 0,
           "arrowwidth": 1
          },
          "autotypenumbers": "strict",
          "coloraxis": {
           "colorbar": {
            "outlinewidth": 0,
            "ticks": ""
           }
          },
          "colorscale": {
           "diverging": [
            [
             0,
             "#8e0152"
            ],
            [
             0.1,
             "#c51b7d"
            ],
            [
             0.2,
             "#de77ae"
            ],
            [
             0.3,
             "#f1b6da"
            ],
            [
             0.4,
             "#fde0ef"
            ],
            [
             0.5,
             "#f7f7f7"
            ],
            [
             0.6,
             "#e6f5d0"
            ],
            [
             0.7,
             "#b8e186"
            ],
            [
             0.8,
             "#7fbc41"
            ],
            [
             0.9,
             "#4d9221"
            ],
            [
             1,
             "#276419"
            ]
           ],
           "sequential": [
            [
             0,
             "#0d0887"
            ],
            [
             0.1111111111111111,
             "#46039f"
            ],
            [
             0.2222222222222222,
             "#7201a8"
            ],
            [
             0.3333333333333333,
             "#9c179e"
            ],
            [
             0.4444444444444444,
             "#bd3786"
            ],
            [
             0.5555555555555556,
             "#d8576b"
            ],
            [
             0.6666666666666666,
             "#ed7953"
            ],
            [
             0.7777777777777778,
             "#fb9f3a"
            ],
            [
             0.8888888888888888,
             "#fdca26"
            ],
            [
             1,
             "#f0f921"
            ]
           ],
           "sequentialminus": [
            [
             0,
             "#0d0887"
            ],
            [
             0.1111111111111111,
             "#46039f"
            ],
            [
             0.2222222222222222,
             "#7201a8"
            ],
            [
             0.3333333333333333,
             "#9c179e"
            ],
            [
             0.4444444444444444,
             "#bd3786"
            ],
            [
             0.5555555555555556,
             "#d8576b"
            ],
            [
             0.6666666666666666,
             "#ed7953"
            ],
            [
             0.7777777777777778,
             "#fb9f3a"
            ],
            [
             0.8888888888888888,
             "#fdca26"
            ],
            [
             1,
             "#f0f921"
            ]
           ]
          },
          "colorway": [
           "#636efa",
           "#EF553B",
           "#00cc96",
           "#ab63fa",
           "#FFA15A",
           "#19d3f3",
           "#FF6692",
           "#B6E880",
           "#FF97FF",
           "#FECB52"
          ],
          "font": {
           "color": "#2a3f5f"
          },
          "geo": {
           "bgcolor": "white",
           "lakecolor": "white",
           "landcolor": "#E5ECF6",
           "showlakes": true,
           "showland": true,
           "subunitcolor": "white"
          },
          "hoverlabel": {
           "align": "left"
          },
          "hovermode": "closest",
          "mapbox": {
           "style": "light"
          },
          "paper_bgcolor": "white",
          "plot_bgcolor": "#E5ECF6",
          "polar": {
           "angularaxis": {
            "gridcolor": "white",
            "linecolor": "white",
            "ticks": ""
           },
           "bgcolor": "#E5ECF6",
           "radialaxis": {
            "gridcolor": "white",
            "linecolor": "white",
            "ticks": ""
           }
          },
          "scene": {
           "xaxis": {
            "backgroundcolor": "#E5ECF6",
            "gridcolor": "white",
            "gridwidth": 2,
            "linecolor": "white",
            "showbackground": true,
            "ticks": "",
            "zerolinecolor": "white"
           },
           "yaxis": {
            "backgroundcolor": "#E5ECF6",
            "gridcolor": "white",
            "gridwidth": 2,
            "linecolor": "white",
            "showbackground": true,
            "ticks": "",
            "zerolinecolor": "white"
           },
           "zaxis": {
            "backgroundcolor": "#E5ECF6",
            "gridcolor": "white",
            "gridwidth": 2,
            "linecolor": "white",
            "showbackground": true,
            "ticks": "",
            "zerolinecolor": "white"
           }
          },
          "shapedefaults": {
           "line": {
            "color": "#2a3f5f"
           }
          },
          "ternary": {
           "aaxis": {
            "gridcolor": "white",
            "linecolor": "white",
            "ticks": ""
           },
           "baxis": {
            "gridcolor": "white",
            "linecolor": "white",
            "ticks": ""
           },
           "bgcolor": "#E5ECF6",
           "caxis": {
            "gridcolor": "white",
            "linecolor": "white",
            "ticks": ""
           }
          },
          "title": {
           "x": 0.05
          },
          "xaxis": {
           "automargin": true,
           "gridcolor": "white",
           "linecolor": "white",
           "ticks": "",
           "title": {
            "standoff": 15
           },
           "zerolinecolor": "white",
           "zerolinewidth": 2
          },
          "yaxis": {
           "automargin": true,
           "gridcolor": "white",
           "linecolor": "white",
           "ticks": "",
           "title": {
            "standoff": 15
           },
           "zerolinecolor": "white",
           "zerolinewidth": 2
          }
         }
        },
        "xaxis": {
         "title": {
          "text": "p"
         }
        },
        "yaxis": {
         "tickfont": {
          "color": "#1f77b4"
         },
         "title": {
          "font": {
           "color": "#1f77b4"
          },
          "text": "ratio"
         }
        },
        "yaxis2": {
         "anchor": "free",
         "overlaying": "y",
         "position": 1,
         "side": "right",
         "tickfont": {
          "color": "red"
         },
         "title": {
          "font": {
           "color": "red"
          },
          "text": "> 1%"
         }
        }
       }
      }
     },
     "metadata": {},
     "output_type": "display_data"
    }
   ],
   "source": [
    "fig = go.Figure()\n",
    "#k = 8, pop size 100\n",
    "fig.add_trace(go.Scatter(x=df_p['p'], y=df_p['ratio'], name=\"ratio\", yaxis=\"y1\"))\n",
    "fig.add_trace(go.Scatter(x=df_p['p'], y=df_p['> 1%'], name=\"> 1%\", yaxis=\"y2\"))\n",
    "fig.update_layout(\n",
    "    xaxis=dict(title='p'),\n",
    "    yaxis=dict(\n",
    "        title=\"ratio\",\n",
    "        titlefont=dict(\n",
    "            color=\"#1f77b4\"\n",
    "        ),\n",
    "        tickfont=dict(\n",
    "            color=\"#1f77b4\"\n",
    "        )\n",
    "    ),\n",
    "    yaxis2=dict(\n",
    "        title=\"> 1%\",\n",
    "        titlefont=dict(\n",
    "            color=\"red\"\n",
    "        ),\n",
    "        tickfont=dict(\n",
    "            color=\"red\"\n",
    "        ),\n",
    "        anchor=\"free\",\n",
    "        overlaying=\"y\",\n",
    "        side=\"right\",\n",
    "        position=1\n",
    "    ))\n",
    "fig.show()"
   ]
  },
  {
   "cell_type": "markdown",
   "metadata": {},
   "source": [
    "# vhodné parametre?"
   ]
  },
  {
   "cell_type": "code",
   "execution_count": 26,
   "metadata": {},
   "outputs": [
    {
     "name": "stdout",
     "output_type": "stream",
     "text": [
      "[0.01645208 0.0322002  0.01365159 0.08322032 0.03114179 0.02503631\n",
      " 0.02852424 0.03133215 0.00896659 0.02004556 0.01606103 0.01750719\n",
      " 0.00217907 0.01416346 0.12899603 0.01344529 0.00154887 0.02063509\n",
      " 0.01917004 0.0287973  0.01228395 0.00902642 0.01862372 0.00800605\n",
      " 0.01203194 0.03146646 0.02361481 0.00148632 0.10470478 0.01947316\n",
      " 0.00611707 0.0183105  0.02571685 0.00999524 0.00030258 0.00796955\n",
      " 0.02272337 0.00152548 0.01253436 0.00851215 0.00813952 0.00551268\n",
      " 0.02363687 0.03742157 0.01779043] 4.288565185575762\n"
     ]
    }
   ],
   "source": [
    "g = GenAlg(population_size=100, k_crossover=10, mutation_prob=0.01, rates=rates,sigma=sigma)\n",
    "\n",
    "best,best_fit = g.solve(10,8)\n",
    "print(best,best_fit)"
   ]
  }
 ],
 "metadata": {
  "interpreter": {
   "hash": "d153afc154f55f63edb29ab3b8e0ef98f4223ee04c2a602f3a0cf8c8ffe67f14"
  },
  "kernelspec": {
   "display_name": "Python 3.9.1 64-bit",
   "language": "python",
   "name": "python3"
  },
  "language_info": {
   "codemirror_mode": {
    "name": "ipython",
    "version": 3
   },
   "file_extension": ".py",
   "mimetype": "text/x-python",
   "name": "python",
   "nbconvert_exporter": "python",
   "pygments_lexer": "ipython3",
   "version": "3.8.10"
  },
  "orig_nbformat": 4
 },
 "nbformat": 4,
 "nbformat_minor": 2
}
