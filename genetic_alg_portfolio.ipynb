{
 "cells": [
  {
   "cell_type": "code",
   "execution_count": 96,
   "metadata": {},
   "outputs": [],
   "source": [
    "import numpy as np\n",
    "import random\n",
    "import pandas as pd\n",
    "import plotly_express as px\n",
    "import plotly.graph_objects as go"
   ]
  },
  {
   "cell_type": "code",
   "execution_count": 32,
   "metadata": {},
   "outputs": [],
   "source": [
    "class GenAlg:\n",
    "\n",
    "    def __init__(self, population_size, k_crossover, mutation_prob, rates, sigma):\n",
    "        self.population_size = population_size\n",
    "        self.k = k_crossover\n",
    "        self.mutation_prob = mutation_prob\n",
    "        self.number_of_stocks = len(rates)\n",
    "\n",
    "        self.rates = rates.copy()\n",
    "        self.sigma = sigma.copy()\n",
    "\n",
    "        self.random_pop()\n",
    "    \n",
    "\n",
    "\n",
    "    def random_pop(self):\n",
    "        self.population = np.random.rand(self.population_size,self.number_of_stocks)\n",
    "        for  i in range(self.population.shape[0]):\n",
    "            self.population[i,] = self.normalize(self.population[i,])\n",
    "    \n",
    "    def normalize(self,vector):\n",
    "        sum_of_vector = sum(vector)\n",
    "        for i in range(len(vector)):\n",
    "            vector[i] =  vector[i]/sum_of_vector\n",
    "        return vector\n",
    "    \n",
    "    def evaluate(self):\n",
    "        best_fitness = None\n",
    "        best = None\n",
    "        for vector in self.population:\n",
    "            f = self.fitness(vector)\n",
    "            if best is None or f > best_fitness:\n",
    "                best = vector\n",
    "                best_fitness = f\n",
    "        return best_fitness,best\n",
    "\n",
    "    def fitness(self,vector):\n",
    "        rate = np.sum(vector * self.rates)\n",
    "        volatility = np.sqrt(np.dot(vector.T,np.dot(self.sigma,vector)))\n",
    "\n",
    "        return rate/volatility\n",
    "\n",
    "    def get_lucky_one(self):\n",
    "        random_num = random.randrange(len(self.population))\n",
    "        return self.population[random_num,:]\n",
    "    \n",
    "    def select_parents(self,lucky_one):\n",
    "        # if lucky_one exists then remove him\n",
    "        if lucky_one is not None:\n",
    "            pop = np.ones(shape=(self.population_size-1,self.number_of_stocks))\n",
    "            i = 0\n",
    "            for vec in self.population:\n",
    "                if not (vec == lucky_one).all():\n",
    "                    pop[i,:] = vec\n",
    "                    i+=1\n",
    "        else:\n",
    "            pop = self.population.copy()\n",
    "        \n",
    "        new_pop = np.array(sorted(pop,key=self.fitness,reverse=True))\n",
    "\n",
    "        return new_pop[:len(new_pop)//2,:]\n",
    "\n",
    "    def create_children(self,parents):\n",
    "        \n",
    "        children = np.zeros(shape=(self.population_size//2,self.number_of_stocks))\n",
    "        np.random.shuffle(parents)\n",
    "        first_p, second_p = map(list,np.split(parents,2))\n",
    "        for i in range(len(parents)//2):\n",
    "            parent1 = first_p.pop(0)\n",
    "            parent2 = second_p.pop(0)\n",
    "\n",
    "            child1, child2 = self.k_crossover(parent1,parent2)\n",
    "\n",
    "            child1 = self.mutation(child1)\n",
    "            child2 = self.mutation(child2)\n",
    "\n",
    "            child1 = self.normalize(child1)\n",
    "            child2 = self.normalize(child2)\n",
    "\n",
    "            children[i,:] = child1\n",
    "            children[i+len(parents)//2,:] = child2\n",
    "\n",
    "        return children \n",
    "    \n",
    "    def k_crossover(self,x,y):\n",
    "\n",
    "        slices = set()\n",
    "        while len(slices) < self.k-1:\n",
    "            slice_index = random.choice([i for i in range(1,len(x)) if i not in slices])\n",
    "            if slice_index not in slices:\n",
    "                slices.add(slice_index)\n",
    "\n",
    "        slices = sorted(list(slices))\n",
    "        slices.append(self.number_of_stocks)\n",
    "\n",
    "        new_x = np.zeros(self.number_of_stocks)\n",
    "        new_y = np.zeros(self.number_of_stocks)\n",
    "\n",
    "        first = 0\n",
    "        switch = True\n",
    "        for second in slices:\n",
    "            if switch:\n",
    "                new_x[first:second] = x[first:second]\n",
    "                new_y[first:second] = y[first:second]\n",
    "            else:\n",
    "                new_x[first:second] = y[first:second]\n",
    "                new_y[first:second] = x[first:second]\n",
    "            first = second\n",
    "            switch = not switch\n",
    "\n",
    "        return new_x,new_y\n",
    "\n",
    "    def mutation(self,child):\n",
    "        for i in range(len(child)):\n",
    "            if random.random() < self.mutation_prob:\n",
    "                child[i] += random.gauss(0.25,0.1)\n",
    "        return child\n",
    "\n",
    "    def solve(self,max_generations, goal):\n",
    "        \n",
    "        best_fit, best = self.evaluate()\n",
    "        \n",
    "        for iteration in range(max_generations):\n",
    "            #print(iteration,'iteration',end=' ')\n",
    "            if best_fit > goal:\n",
    "                break\n",
    "\n",
    "            lucky_one = None\n",
    "            if len(self.population)%2 == 1:\n",
    "                lucky_one = self.get_lucky_one()\n",
    "\n",
    "            parents = self.select_parents(lucky_one)\n",
    "\n",
    "            children = self.create_children(parents)\n",
    "\n",
    "            if lucky_one is not None:\n",
    "                lucky_one = lucky_one.reshape((1,len(lucky_one)))\n",
    "                self.population = np.concatenate((lucky_one,parents,children),axis=0)\n",
    "            else:\n",
    "                self.population = np.concatenate((parents,children),axis=0)\n",
    "\n",
    "            best_fit, best = self.evaluate()\n",
    "            #print('best ratio:',best_fit)\n",
    "        #print('finnished')\n",
    "        return best,best_fit"
   ]
  },
  {
   "cell_type": "code",
   "execution_count": 3,
   "metadata": {},
   "outputs": [
    {
     "name": "stdout",
     "output_type": "stream",
     "text": [
      "0 iteration best ratio: 3.9814872156712546\n",
      "1 iteration best ratio: 4.012415536157719\n",
      "2 iteration best ratio: 4.026275876124628\n",
      "3 iteration best ratio: 4.026275876124628\n",
      "4 iteration best ratio: 4.083732457995888\n",
      "5 iteration best ratio: 4.257872511485389\n",
      "6 iteration best ratio: 4.274747397460453\n",
      "7 iteration best ratio: 4.347876055794951\n",
      "8 iteration best ratio: 4.347876055794951\n",
      "9 iteration best ratio: 4.347876055794951\n",
      "finnished\n",
      "[ 0.05010221  0.01634367  0.01254702  0.0331552   0.03374839  0.02453896\n",
      "  0.00628114  0.04471909  0.03680227  0.03178333  0.04570675  0.02309245\n",
      "  0.01078585  0.01244529  0.04592989  0.02417768  0.01741712  0.03957004\n",
      "  0.00410536  0.0216843   0.01537904  0.04732551  0.02497932  0.02394333\n",
      "  0.0026971   0.03252971  0.01060076  0.04529616  0.05205395  0.01097592\n",
      " -0.11360534  0.04550091  0.0453456   0.0031177   0.02666841  0.01721195\n",
      "  0.03262874  0.01462731  0.0052458   0.00169118  0.01247602  0.02549887\n",
      "  0.01513958  0.03503559  0.03270087] 4.347876055794951\n"
     ]
    }
   ],
   "source": [
    "wanted_stocks = ['GOOG', 'SPG', 'GOOGL', 'MSFT', 'GD', 'ACN', 'COP', 'F', 'BAC', 'GS',\n",
    "                'NVDA', 'AIG', 'MS', 'WFC', 'ORCL', 'XOM', 'TGT', 'LOW', 'EXC', 'COST',\n",
    "                'AXP', 'BK', 'JPM', 'COF', 'CSCO', 'DHR', 'UNH', 'CVS', 'LLY', 'CVX',\n",
    "                'MET', 'AMT', 'CRM', 'BLK', 'RTX', 'MCD', 'TMO', 'LIN', 'ADBE', 'EMR',\n",
    "                'USB', 'UPS', 'TSLA', 'PFE', 'PM']\n",
    "stocks = pd.read_csv('data/sap100_data_08112021.csv',index_col=0).loc[:,wanted_stocks]\n",
    "returns = stocks/stocks.shift(1)-1\n",
    "rates = returns.mean() * 252\n",
    "sigma = returns.cov() * 252\n",
    "g = GenAlg(population_size=100, k_crossover=5, mutation_prob=0.01, rates=rates,sigma=sigma)\n",
    "\n",
    "best,best_fit = g.solve(10,8)\n",
    "print(best,best_fit)\n",
    "# print(g.population[0,:],'\\n',g.population[1,:])\n",
    "\n",
    "# g.k_crossover(g.population[0,:],g.population[1,:])\n",
    "\n",
    "# test_pop = np.zeros(shape=(5,45))\n",
    "# for i in range(5):\n",
    "#     test_pop[i,i] = 1\n",
    "# print(test_pop)\n",
    "# for i in range(5):\n",
    "#     print(g.fitness(test_pop[i,:]))\n",
    "# g.population = test_pop\n",
    "# v = g.get_lucky_one()\n",
    "# print('lucky one: ',v)\n",
    "# print('paretns')\n",
    "# print(g.select_parents(v))"
   ]
  },
  {
   "cell_type": "code",
   "execution_count": 4,
   "metadata": {},
   "outputs": [
    {
     "data": {
      "text/plain": [
       "0.04158689"
      ]
     },
     "execution_count": 4,
     "metadata": {},
     "output_type": "execute_result"
    }
   ],
   "source": [
    "a = [0.01114155, 0.02112081, 0.0026389 , 0.04158689 ,0.02911615 ,0.00810653,\n",
    " 0.00953936, 0.01291289, 0.03460458, 0.0172124,  0.02812051, 0.00615008,\n",
    " 0.03882499, 0.01603352 ,0.03222546, 0.02002055, 0.01096212, 0.00879385,\n",
    " 0.02504149, 0.02297195, 0.04096784, 0.04078883, 0.00404298 ,0.00336519,\n",
    " 0.02037814, 0.0395612 , 0.041175,   0.03722034, 0.01283837, 0.02809674,\n",
    " 0.0232359 , 0.03603028 ,0.04134022, 0.00582411, 0.01888116, 0.03858949,\n",
    " 0.00809903, 0.03437509, 0.03463708 ,0.00438613 ,0.02915961, 0.01188739,\n",
    " 0.00890677, 0.02284441, 0.01624411]\n",
    "max(a)"
   ]
  },
  {
   "cell_type": "code",
   "execution_count": 5,
   "metadata": {},
   "outputs": [
    {
     "data": {
      "text/plain": [
       "0.04564275"
      ]
     },
     "execution_count": 5,
     "metadata": {},
     "output_type": "execute_result"
    }
   ],
   "source": [
    "b = [0.00022345, 0.04564275, 0.04497704, 0.04376311, 0.0033903 , 0.03373989,\n",
    " 0.04167013,0.04474843, 0.03991494, 0.013077 ,  0.04262159 ,0.01209769,\n",
    " 0.03196004, 0.01024975, 0.03971374 ,0.01291337, 0.00605673, 0.03494775,\n",
    " 0.01216985, 0.00211064, 0.00081961, 0.03155706, 0.01703879, 0.02700199,\n",
    " 0.00440683 ,0.01209849, 0.02187265, 0.03169752, 0.02678447 ,0.00618878,\n",
    " 0.0080071 , 0.03951205 ,0.01762882, 0.01950138, 0.00031214, 0.02950566,\n",
    " 0.04465236, 0.01634321 ,0.01039963, 0.00432588, 0.02807762, 0.00894588,\n",
    " 0.03424738, 0.0192949,  0.02379159]\n",
    "max(b)"
   ]
  },
  {
   "cell_type": "code",
   "execution_count": 6,
   "metadata": {},
   "outputs": [],
   "source": [
    "def print_stats(vec):\n",
    "    w = np.array(vec)\n",
    "    r = np.sum(w*rates)\n",
    "    print('rate',r)\n",
    "    v = np.sqrt(np.dot(w.T,np.dot(sigma,w)))\n",
    "    print('volatility:',v)\n",
    "    print('shapre ratio',r/v)"
   ]
  },
  {
   "cell_type": "code",
   "execution_count": 7,
   "metadata": {},
   "outputs": [
    {
     "name": "stdout",
     "output_type": "stream",
     "text": [
      "rate 0.4701581146929166\n",
      "volatility: 0.12546335975815912\n",
      "shapre ratio 3.747373859580875\n",
      "\n",
      "rate 0.542997231753761\n",
      "volatility: 0.1344691863204556\n",
      "shapre ratio 4.038079255270691\n"
     ]
    }
   ],
   "source": [
    "print_stats(a)\n",
    "print()\n",
    "print_stats(b)"
   ]
  },
  {
   "cell_type": "code",
   "execution_count": 22,
   "metadata": {},
   "outputs": [],
   "source": [
    "import statistics"
   ]
  },
  {
   "cell_type": "code",
   "execution_count": 177,
   "metadata": {},
   "outputs": [
    {
     "name": "stdout",
     "output_type": "stream",
     "text": [
      "[10, 13, 16, 19, 22]\n",
      "[[35, 37, 39, 38, 33, 32, 36, 38, 30, 28, 40, 38, 34, 32, 32, 35, 37, 32, 41, 38, 39, 37, 37, 41, 39, 32, 39, 37, 33, 34, 40, 38, 35, 39, 30, 31, 39, 35, 36, 40, 33, 37, 32, 38, 39, 33, 32, 35, 30, 36, 30, 35, 38, 34, 38, 27, 39, 36, 38, 37, 34, 40, 36, 41, 33, 41, 37, 39, 38, 40, 32, 36, 41, 38, 32, 38, 34, 41, 37, 36, 40, 40, 39, 36, 31, 32, 34, 35, 33, 34, 37, 40, 40, 38, 35, 41, 31, 32, 36, 38], [38, 39, 33, 37, 37, 36, 36, 39, 39, 31, 37, 39, 31, 37, 34, 35, 38, 37, 39, 33, 37, 33, 30, 39, 35, 41, 38, 36, 38, 39, 40, 39, 38, 33, 35, 37, 40, 39, 40, 29, 37, 33, 38, 28, 37, 40, 36, 37, 39, 36, 36, 39, 39, 38, 36, 38, 35, 37, 34, 39, 36, 38, 37, 36, 34, 40, 34, 36, 34, 34, 30, 35, 36, 30, 36, 36, 33, 38, 40, 37, 37, 34, 38, 35, 37, 35, 31, 35, 36, 40, 35, 32, 37, 38, 40, 41, 35, 39, 33, 34], [38, 35, 37, 37, 37, 34, 28, 36, 36, 38, 39, 38, 38, 35, 34, 38, 33, 34, 39, 36, 38, 33, 39, 40, 35, 34, 36, 39, 38, 33, 36, 37, 35, 34, 32, 36, 34, 32, 30, 35, 38, 34, 33, 37, 33, 34, 34, 38, 35, 38, 32, 37, 36, 37, 37, 39, 39, 39, 33, 39, 33, 39, 33, 39, 35, 40, 37, 39, 35, 39, 35, 35, 40, 35, 37, 33, 37, 31, 38, 34, 30, 37, 39, 33, 37, 35, 36, 35, 35, 36, 34, 34, 34, 36, 37, 35, 38, 38, 35, 35], [36, 36, 38, 38, 36, 31, 38, 36, 33, 36, 38, 37, 38, 38, 34, 34, 34, 37, 39, 38, 33, 35, 37, 37, 36, 37, 36, 38, 38, 32, 30, 36, 36, 36, 31, 32, 31, 38, 38, 33, 35, 37, 36, 33, 32, 36, 34, 29, 37, 36, 38, 36, 32, 35, 34, 32, 33, 37, 35, 36, 31, 28, 40, 35, 36, 38, 36, 38, 38, 37, 38, 40, 37, 33, 37, 34, 34, 33, 34, 39, 34, 36, 34, 35, 33, 36, 35, 35, 35, 34, 34, 36, 36, 37, 34, 34, 36, 34, 38, 37], [34, 31, 36, 37, 38, 38, 37, 40, 35, 36, 33, 38, 36, 36, 37, 37, 37, 35, 36, 37, 35, 35, 33, 37, 34, 35, 32, 38, 34, 37, 38, 36, 37, 37, 36, 35, 32, 34, 36, 32, 33, 37, 34, 34, 33, 37, 30, 36, 36, 36, 35, 32, 35, 38, 31, 37, 37, 37, 32, 34, 33, 34, 36, 36, 35, 34, 38, 35, 29, 34, 36, 36, 35, 32, 39, 35, 36, 33, 32, 36, 39, 36, 35, 36, 37, 36, 30, 38, 38, 35, 36, 35, 39, 38, 36, 36, 33, 37, 35, 34]]\n",
      "[[18, 15, 16, 13, 18, 13, 10, 14, 11, 14, 19, 16, 15, 14, 15, 15, 23, 17, 13, 16, 18, 17, 18, 18, 17, 14, 14, 13, 19, 23, 12, 14, 11, 18, 12, 15, 17, 15, 13, 18, 13, 18, 14, 12, 21, 14, 11, 15, 9, 18, 13, 14, 14, 16, 18, 11, 17, 13, 13, 13, 15, 12, 15, 18, 16, 20, 16, 19, 14, 25, 12, 16, 17, 18, 14, 13, 17, 17, 13, 12, 15, 25, 20, 15, 16, 15, 11, 17, 12, 13, 20, 16, 21, 19, 18, 21, 17, 18, 16, 11], [19, 18, 14, 12, 17, 15, 14, 20, 18, 13, 16, 13, 16, 12, 17, 18, 18, 17, 21, 19, 16, 13, 13, 16, 15, 18, 15, 17, 12, 15, 23, 18, 14, 16, 15, 18, 17, 17, 18, 16, 13, 17, 19, 14, 19, 14, 14, 17, 20, 20, 17, 19, 19, 17, 13, 18, 12, 21, 14, 16, 21, 14, 21, 17, 16, 22, 15, 17, 16, 17, 19, 16, 16, 14, 21, 17, 18, 15, 14, 19, 15, 16, 13, 14, 12, 16, 18, 16, 18, 18, 11, 15, 16, 14, 15, 19, 13, 13, 10, 16], [21, 15, 21, 14, 19, 19, 18, 16, 17, 17, 16, 17, 13, 18, 15, 17, 18, 17, 18, 25, 22, 17, 16, 19, 19, 16, 20, 17, 18, 16, 16, 26, 15, 15, 15, 15, 18, 13, 21, 19, 14, 15, 21, 18, 18, 19, 17, 17, 16, 17, 15, 21, 17, 17, 18, 21, 26, 19, 19, 26, 18, 21, 21, 21, 12, 17, 12, 18, 16, 16, 20, 19, 17, 14, 15, 15, 12, 16, 25, 18, 15, 24, 21, 13, 28, 17, 17, 14, 18, 18, 14, 18, 12, 19, 23, 13, 18, 24, 22, 13], [19, 18, 23, 16, 18, 15, 19, 19, 15, 21, 21, 22, 14, 18, 16, 18, 17, 19, 19, 24, 16, 21, 16, 20, 16, 14, 21, 21, 19, 13, 20, 17, 16, 14, 14, 14, 14, 25, 18, 15, 16, 23, 27, 18, 22, 16, 17, 17, 18, 22, 16, 24, 15, 19, 13, 17, 16, 21, 19, 22, 20, 17, 18, 16, 18, 21, 20, 20, 19, 18, 22, 25, 17, 19, 21, 15, 18, 15, 18, 22, 20, 23, 21, 19, 23, 24, 18, 19, 18, 19, 19, 22, 22, 19, 15, 19, 13, 15, 19, 17], [19, 21, 22, 20, 22, 17, 29, 17, 16, 19, 20, 19, 24, 17, 20, 19, 20, 18, 15, 20, 21, 20, 19, 19, 17, 18, 17, 23, 17, 14, 20, 23, 17, 20, 22, 17, 16, 18, 17, 16, 19, 15, 18, 21, 17, 25, 16, 19, 21, 15, 21, 17, 21, 14, 22, 16, 17, 19, 21, 18, 16, 17, 18, 22, 22, 18, 23, 23, 18, 18, 17, 17, 16, 17, 17, 19, 22, 18, 17, 22, 21, 18, 19, 24, 17, 19, 15, 20, 19, 21, 20, 22, 16, 23, 20, 17, 15, 22, 18, 16]]\n"
     ]
    },
    {
     "data": {
      "text/plain": [
       "\"\\nprint(best,best_fit)\\nprint('menej ako 1%', len(menej_ako_jedno_percenta))\\nprint('menej ako 3%', len(menej_ako_tri_percenta))\\n\""
      ]
     },
     "execution_count": 177,
     "metadata": {},
     "output_type": "execute_result"
    }
   ],
   "source": [
    "m_tri = []\n",
    "m_jeden = []\n",
    "for p in range(10, 25, 3):\n",
    "    tri, jeden  = [], []\n",
    "    for _ in range(100):\n",
    "        g = GenAlg(population_size=100, k_crossover=5, mutation_prob=0.01, rates=rates,sigma=sigma)\n",
    "        best,best_fit = g.solve(p,8)\n",
    "        menej_ako_jedno_percenta = [i for i in best if i < 0.01]\n",
    "        menej_ako_tri_percenta = [i for i in best if i < 0.03]\n",
    "        tri.append(len(menej_ako_tri_percenta))\n",
    "        jeden.append(len(menej_ako_jedno_percenta))\n",
    "    m_tri.append(tri)\n",
    "    m_jeden.append(jeden)\n",
    "print([i for i in range(10,25,3)])\n",
    "print(m_tri)\n",
    "print(m_jeden)\n",
    "'''\n",
    "print(best,best_fit)\n",
    "print('menej ako 1%', len(menej_ako_jedno_percenta))\n",
    "print('menej ako 3%', len(menej_ako_tri_percenta))\n",
    "'''\n"
   ]
  },
  {
   "cell_type": "code",
   "execution_count": 178,
   "metadata": {},
   "outputs": [
    {
     "data": {
      "text/html": [
       "<div>\n",
       "<style scoped>\n",
       "    .dataframe tbody tr th:only-of-type {\n",
       "        vertical-align: middle;\n",
       "    }\n",
       "\n",
       "    .dataframe tbody tr th {\n",
       "        vertical-align: top;\n",
       "    }\n",
       "\n",
       "    .dataframe thead th {\n",
       "        text-align: right;\n",
       "    }\n",
       "</style>\n",
       "<table border=\"1\" class=\"dataframe\">\n",
       "  <thead>\n",
       "    <tr style=\"text-align: right;\">\n",
       "      <th></th>\n",
       "      <th>index</th>\n",
       "      <th>0</th>\n",
       "      <th>1</th>\n",
       "      <th>2</th>\n",
       "      <th>3</th>\n",
       "      <th>4</th>\n",
       "      <th>5</th>\n",
       "      <th>6</th>\n",
       "      <th>7</th>\n",
       "      <th>8</th>\n",
       "      <th>...</th>\n",
       "      <th>90</th>\n",
       "      <th>91</th>\n",
       "      <th>92</th>\n",
       "      <th>93</th>\n",
       "      <th>94</th>\n",
       "      <th>95</th>\n",
       "      <th>96</th>\n",
       "      <th>97</th>\n",
       "      <th>98</th>\n",
       "      <th>99</th>\n",
       "    </tr>\n",
       "  </thead>\n",
       "  <tbody>\n",
       "    <tr>\n",
       "      <th>0</th>\n",
       "      <td>10</td>\n",
       "      <td>18</td>\n",
       "      <td>15</td>\n",
       "      <td>16</td>\n",
       "      <td>13</td>\n",
       "      <td>18</td>\n",
       "      <td>13</td>\n",
       "      <td>10</td>\n",
       "      <td>14</td>\n",
       "      <td>11</td>\n",
       "      <td>...</td>\n",
       "      <td>20</td>\n",
       "      <td>16</td>\n",
       "      <td>21</td>\n",
       "      <td>19</td>\n",
       "      <td>18</td>\n",
       "      <td>21</td>\n",
       "      <td>17</td>\n",
       "      <td>18</td>\n",
       "      <td>16</td>\n",
       "      <td>11</td>\n",
       "    </tr>\n",
       "    <tr>\n",
       "      <th>1</th>\n",
       "      <td>13</td>\n",
       "      <td>19</td>\n",
       "      <td>18</td>\n",
       "      <td>14</td>\n",
       "      <td>12</td>\n",
       "      <td>17</td>\n",
       "      <td>15</td>\n",
       "      <td>14</td>\n",
       "      <td>20</td>\n",
       "      <td>18</td>\n",
       "      <td>...</td>\n",
       "      <td>11</td>\n",
       "      <td>15</td>\n",
       "      <td>16</td>\n",
       "      <td>14</td>\n",
       "      <td>15</td>\n",
       "      <td>19</td>\n",
       "      <td>13</td>\n",
       "      <td>13</td>\n",
       "      <td>10</td>\n",
       "      <td>16</td>\n",
       "    </tr>\n",
       "    <tr>\n",
       "      <th>2</th>\n",
       "      <td>16</td>\n",
       "      <td>21</td>\n",
       "      <td>15</td>\n",
       "      <td>21</td>\n",
       "      <td>14</td>\n",
       "      <td>19</td>\n",
       "      <td>19</td>\n",
       "      <td>18</td>\n",
       "      <td>16</td>\n",
       "      <td>17</td>\n",
       "      <td>...</td>\n",
       "      <td>14</td>\n",
       "      <td>18</td>\n",
       "      <td>12</td>\n",
       "      <td>19</td>\n",
       "      <td>23</td>\n",
       "      <td>13</td>\n",
       "      <td>18</td>\n",
       "      <td>24</td>\n",
       "      <td>22</td>\n",
       "      <td>13</td>\n",
       "    </tr>\n",
       "    <tr>\n",
       "      <th>3</th>\n",
       "      <td>19</td>\n",
       "      <td>19</td>\n",
       "      <td>18</td>\n",
       "      <td>23</td>\n",
       "      <td>16</td>\n",
       "      <td>18</td>\n",
       "      <td>15</td>\n",
       "      <td>19</td>\n",
       "      <td>19</td>\n",
       "      <td>15</td>\n",
       "      <td>...</td>\n",
       "      <td>19</td>\n",
       "      <td>22</td>\n",
       "      <td>22</td>\n",
       "      <td>19</td>\n",
       "      <td>15</td>\n",
       "      <td>19</td>\n",
       "      <td>13</td>\n",
       "      <td>15</td>\n",
       "      <td>19</td>\n",
       "      <td>17</td>\n",
       "    </tr>\n",
       "    <tr>\n",
       "      <th>4</th>\n",
       "      <td>22</td>\n",
       "      <td>19</td>\n",
       "      <td>21</td>\n",
       "      <td>22</td>\n",
       "      <td>20</td>\n",
       "      <td>22</td>\n",
       "      <td>17</td>\n",
       "      <td>29</td>\n",
       "      <td>17</td>\n",
       "      <td>16</td>\n",
       "      <td>...</td>\n",
       "      <td>20</td>\n",
       "      <td>22</td>\n",
       "      <td>16</td>\n",
       "      <td>23</td>\n",
       "      <td>20</td>\n",
       "      <td>17</td>\n",
       "      <td>15</td>\n",
       "      <td>22</td>\n",
       "      <td>18</td>\n",
       "      <td>16</td>\n",
       "    </tr>\n",
       "  </tbody>\n",
       "</table>\n",
       "<p>5 rows × 101 columns</p>\n",
       "</div>"
      ],
      "text/plain": [
       "   index   0   1   2   3   4   5   6   7   8  ...  90  91  92  93  94  95  96  \\\n",
       "0     10  18  15  16  13  18  13  10  14  11  ...  20  16  21  19  18  21  17   \n",
       "1     13  19  18  14  12  17  15  14  20  18  ...  11  15  16  14  15  19  13   \n",
       "2     16  21  15  21  14  19  19  18  16  17  ...  14  18  12  19  23  13  18   \n",
       "3     19  19  18  23  16  18  15  19  19  15  ...  19  22  22  19  15  19  13   \n",
       "4     22  19  21  22  20  22  17  29  17  16  ...  20  22  16  23  20  17  15   \n",
       "\n",
       "   97  98  99  \n",
       "0  18  16  11  \n",
       "1  13  10  16  \n",
       "2  24  22  13  \n",
       "3  15  19  17  \n",
       "4  22  18  16  \n",
       "\n",
       "[5 rows x 101 columns]"
      ]
     },
     "execution_count": 178,
     "metadata": {},
     "output_type": "execute_result"
    }
   ],
   "source": [
    "df_menej_jeden = pd.DataFrame(m_jeden)\n",
    "df_menej_jeden['index'] = [i for i in range(10,25,3)]\n",
    "df_menej_jeden  = df_menej_jeden.set_index('index')\n",
    "df_menej_jeden = df_menej_jeden.reset_index()\n",
    "df_menej_jeden"
   ]
  },
  {
   "cell_type": "code",
   "execution_count": 179,
   "metadata": {},
   "outputs": [
    {
     "data": {
      "application/vnd.plotly.v1+json": {
       "config": {
        "plotlyServerURL": "https://plot.ly"
       },
       "data": [
        {
         "alignmentgroup": "True",
         "bingroup": "x",
         "hovertemplate": "index=10<br>value=%{x}<br>count=%{y}<extra></extra>",
         "legendgroup": "10",
         "marker": {
          "color": "#636efa",
          "opacity": 0.5
         },
         "name": "10",
         "offsetgroup": "10",
         "orientation": "v",
         "showlegend": true,
         "type": "histogram",
         "x": [
          18,
          15,
          16,
          13,
          18,
          13,
          10,
          14,
          11,
          14,
          19,
          16,
          15,
          14,
          15,
          15,
          23,
          17,
          13,
          16,
          18,
          17,
          18,
          18,
          17,
          14,
          14,
          13,
          19,
          23,
          12,
          14,
          11,
          18,
          12,
          15,
          17,
          15,
          13,
          18,
          13,
          18,
          14,
          12,
          21,
          14,
          11,
          15,
          9,
          18,
          13,
          14,
          14,
          16,
          18,
          11,
          17,
          13,
          13,
          13,
          15,
          12,
          15,
          18,
          16,
          20,
          16,
          19,
          14,
          25,
          12,
          16,
          17,
          18,
          14,
          13,
          17,
          17,
          13,
          12,
          15,
          25,
          20,
          15,
          16,
          15,
          11,
          17,
          12,
          13,
          20,
          16,
          21,
          19,
          18,
          21,
          17,
          18,
          16,
          11
         ],
         "xaxis": "x",
         "xbins": {
          "size": 1
         },
         "yaxis": "y"
        },
        {
         "alignmentgroup": "True",
         "bingroup": "x",
         "hovertemplate": "index=13<br>value=%{x}<br>count=%{y}<extra></extra>",
         "legendgroup": "13",
         "marker": {
          "color": "#EF553B",
          "opacity": 0.5
         },
         "name": "13",
         "offsetgroup": "13",
         "orientation": "v",
         "showlegend": true,
         "type": "histogram",
         "x": [
          19,
          18,
          14,
          12,
          17,
          15,
          14,
          20,
          18,
          13,
          16,
          13,
          16,
          12,
          17,
          18,
          18,
          17,
          21,
          19,
          16,
          13,
          13,
          16,
          15,
          18,
          15,
          17,
          12,
          15,
          23,
          18,
          14,
          16,
          15,
          18,
          17,
          17,
          18,
          16,
          13,
          17,
          19,
          14,
          19,
          14,
          14,
          17,
          20,
          20,
          17,
          19,
          19,
          17,
          13,
          18,
          12,
          21,
          14,
          16,
          21,
          14,
          21,
          17,
          16,
          22,
          15,
          17,
          16,
          17,
          19,
          16,
          16,
          14,
          21,
          17,
          18,
          15,
          14,
          19,
          15,
          16,
          13,
          14,
          12,
          16,
          18,
          16,
          18,
          18,
          11,
          15,
          16,
          14,
          15,
          19,
          13,
          13,
          10,
          16
         ],
         "xaxis": "x",
         "xbins": {
          "size": 1
         },
         "yaxis": "y"
        },
        {
         "alignmentgroup": "True",
         "bingroup": "x",
         "hovertemplate": "index=16<br>value=%{x}<br>count=%{y}<extra></extra>",
         "legendgroup": "16",
         "marker": {
          "color": "#00cc96",
          "opacity": 0.5
         },
         "name": "16",
         "offsetgroup": "16",
         "orientation": "v",
         "showlegend": true,
         "type": "histogram",
         "x": [
          21,
          15,
          21,
          14,
          19,
          19,
          18,
          16,
          17,
          17,
          16,
          17,
          13,
          18,
          15,
          17,
          18,
          17,
          18,
          25,
          22,
          17,
          16,
          19,
          19,
          16,
          20,
          17,
          18,
          16,
          16,
          26,
          15,
          15,
          15,
          15,
          18,
          13,
          21,
          19,
          14,
          15,
          21,
          18,
          18,
          19,
          17,
          17,
          16,
          17,
          15,
          21,
          17,
          17,
          18,
          21,
          26,
          19,
          19,
          26,
          18,
          21,
          21,
          21,
          12,
          17,
          12,
          18,
          16,
          16,
          20,
          19,
          17,
          14,
          15,
          15,
          12,
          16,
          25,
          18,
          15,
          24,
          21,
          13,
          28,
          17,
          17,
          14,
          18,
          18,
          14,
          18,
          12,
          19,
          23,
          13,
          18,
          24,
          22,
          13
         ],
         "xaxis": "x",
         "xbins": {
          "size": 1
         },
         "yaxis": "y"
        },
        {
         "alignmentgroup": "True",
         "bingroup": "x",
         "hovertemplate": "index=19<br>value=%{x}<br>count=%{y}<extra></extra>",
         "legendgroup": "19",
         "marker": {
          "color": "#ab63fa",
          "opacity": 0.5
         },
         "name": "19",
         "offsetgroup": "19",
         "orientation": "v",
         "showlegend": true,
         "type": "histogram",
         "x": [
          19,
          18,
          23,
          16,
          18,
          15,
          19,
          19,
          15,
          21,
          21,
          22,
          14,
          18,
          16,
          18,
          17,
          19,
          19,
          24,
          16,
          21,
          16,
          20,
          16,
          14,
          21,
          21,
          19,
          13,
          20,
          17,
          16,
          14,
          14,
          14,
          14,
          25,
          18,
          15,
          16,
          23,
          27,
          18,
          22,
          16,
          17,
          17,
          18,
          22,
          16,
          24,
          15,
          19,
          13,
          17,
          16,
          21,
          19,
          22,
          20,
          17,
          18,
          16,
          18,
          21,
          20,
          20,
          19,
          18,
          22,
          25,
          17,
          19,
          21,
          15,
          18,
          15,
          18,
          22,
          20,
          23,
          21,
          19,
          23,
          24,
          18,
          19,
          18,
          19,
          19,
          22,
          22,
          19,
          15,
          19,
          13,
          15,
          19,
          17
         ],
         "xaxis": "x",
         "xbins": {
          "size": 1
         },
         "yaxis": "y"
        },
        {
         "alignmentgroup": "True",
         "bingroup": "x",
         "hovertemplate": "index=22<br>value=%{x}<br>count=%{y}<extra></extra>",
         "legendgroup": "22",
         "marker": {
          "color": "#FFA15A",
          "opacity": 0.5
         },
         "name": "22",
         "offsetgroup": "22",
         "orientation": "v",
         "showlegend": true,
         "type": "histogram",
         "x": [
          19,
          21,
          22,
          20,
          22,
          17,
          29,
          17,
          16,
          19,
          20,
          19,
          24,
          17,
          20,
          19,
          20,
          18,
          15,
          20,
          21,
          20,
          19,
          19,
          17,
          18,
          17,
          23,
          17,
          14,
          20,
          23,
          17,
          20,
          22,
          17,
          16,
          18,
          17,
          16,
          19,
          15,
          18,
          21,
          17,
          25,
          16,
          19,
          21,
          15,
          21,
          17,
          21,
          14,
          22,
          16,
          17,
          19,
          21,
          18,
          16,
          17,
          18,
          22,
          22,
          18,
          23,
          23,
          18,
          18,
          17,
          17,
          16,
          17,
          17,
          19,
          22,
          18,
          17,
          22,
          21,
          18,
          19,
          24,
          17,
          19,
          15,
          20,
          19,
          21,
          20,
          22,
          16,
          23,
          20,
          17,
          15,
          22,
          18,
          16
         ],
         "xaxis": "x",
         "xbins": {
          "size": 1
         },
         "yaxis": "y"
        }
       ],
       "layout": {
        "barmode": "overlay",
        "legend": {
         "title": {
          "text": "index"
         },
         "tracegroupgap": 0
        },
        "margin": {
         "t": 60
        },
        "template": {
         "data": {
          "bar": [
           {
            "error_x": {
             "color": "#2a3f5f"
            },
            "error_y": {
             "color": "#2a3f5f"
            },
            "marker": {
             "line": {
              "color": "#E5ECF6",
              "width": 0.5
             }
            },
            "type": "bar"
           }
          ],
          "barpolar": [
           {
            "marker": {
             "line": {
              "color": "#E5ECF6",
              "width": 0.5
             }
            },
            "type": "barpolar"
           }
          ],
          "carpet": [
           {
            "aaxis": {
             "endlinecolor": "#2a3f5f",
             "gridcolor": "white",
             "linecolor": "white",
             "minorgridcolor": "white",
             "startlinecolor": "#2a3f5f"
            },
            "baxis": {
             "endlinecolor": "#2a3f5f",
             "gridcolor": "white",
             "linecolor": "white",
             "minorgridcolor": "white",
             "startlinecolor": "#2a3f5f"
            },
            "type": "carpet"
           }
          ],
          "choropleth": [
           {
            "colorbar": {
             "outlinewidth": 0,
             "ticks": ""
            },
            "type": "choropleth"
           }
          ],
          "contour": [
           {
            "colorbar": {
             "outlinewidth": 0,
             "ticks": ""
            },
            "colorscale": [
             [
              0,
              "#0d0887"
             ],
             [
              0.1111111111111111,
              "#46039f"
             ],
             [
              0.2222222222222222,
              "#7201a8"
             ],
             [
              0.3333333333333333,
              "#9c179e"
             ],
             [
              0.4444444444444444,
              "#bd3786"
             ],
             [
              0.5555555555555556,
              "#d8576b"
             ],
             [
              0.6666666666666666,
              "#ed7953"
             ],
             [
              0.7777777777777778,
              "#fb9f3a"
             ],
             [
              0.8888888888888888,
              "#fdca26"
             ],
             [
              1,
              "#f0f921"
             ]
            ],
            "type": "contour"
           }
          ],
          "contourcarpet": [
           {
            "colorbar": {
             "outlinewidth": 0,
             "ticks": ""
            },
            "type": "contourcarpet"
           }
          ],
          "heatmap": [
           {
            "colorbar": {
             "outlinewidth": 0,
             "ticks": ""
            },
            "colorscale": [
             [
              0,
              "#0d0887"
             ],
             [
              0.1111111111111111,
              "#46039f"
             ],
             [
              0.2222222222222222,
              "#7201a8"
             ],
             [
              0.3333333333333333,
              "#9c179e"
             ],
             [
              0.4444444444444444,
              "#bd3786"
             ],
             [
              0.5555555555555556,
              "#d8576b"
             ],
             [
              0.6666666666666666,
              "#ed7953"
             ],
             [
              0.7777777777777778,
              "#fb9f3a"
             ],
             [
              0.8888888888888888,
              "#fdca26"
             ],
             [
              1,
              "#f0f921"
             ]
            ],
            "type": "heatmap"
           }
          ],
          "heatmapgl": [
           {
            "colorbar": {
             "outlinewidth": 0,
             "ticks": ""
            },
            "colorscale": [
             [
              0,
              "#0d0887"
             ],
             [
              0.1111111111111111,
              "#46039f"
             ],
             [
              0.2222222222222222,
              "#7201a8"
             ],
             [
              0.3333333333333333,
              "#9c179e"
             ],
             [
              0.4444444444444444,
              "#bd3786"
             ],
             [
              0.5555555555555556,
              "#d8576b"
             ],
             [
              0.6666666666666666,
              "#ed7953"
             ],
             [
              0.7777777777777778,
              "#fb9f3a"
             ],
             [
              0.8888888888888888,
              "#fdca26"
             ],
             [
              1,
              "#f0f921"
             ]
            ],
            "type": "heatmapgl"
           }
          ],
          "histogram": [
           {
            "marker": {
             "colorbar": {
              "outlinewidth": 0,
              "ticks": ""
             }
            },
            "type": "histogram"
           }
          ],
          "histogram2d": [
           {
            "colorbar": {
             "outlinewidth": 0,
             "ticks": ""
            },
            "colorscale": [
             [
              0,
              "#0d0887"
             ],
             [
              0.1111111111111111,
              "#46039f"
             ],
             [
              0.2222222222222222,
              "#7201a8"
             ],
             [
              0.3333333333333333,
              "#9c179e"
             ],
             [
              0.4444444444444444,
              "#bd3786"
             ],
             [
              0.5555555555555556,
              "#d8576b"
             ],
             [
              0.6666666666666666,
              "#ed7953"
             ],
             [
              0.7777777777777778,
              "#fb9f3a"
             ],
             [
              0.8888888888888888,
              "#fdca26"
             ],
             [
              1,
              "#f0f921"
             ]
            ],
            "type": "histogram2d"
           }
          ],
          "histogram2dcontour": [
           {
            "colorbar": {
             "outlinewidth": 0,
             "ticks": ""
            },
            "colorscale": [
             [
              0,
              "#0d0887"
             ],
             [
              0.1111111111111111,
              "#46039f"
             ],
             [
              0.2222222222222222,
              "#7201a8"
             ],
             [
              0.3333333333333333,
              "#9c179e"
             ],
             [
              0.4444444444444444,
              "#bd3786"
             ],
             [
              0.5555555555555556,
              "#d8576b"
             ],
             [
              0.6666666666666666,
              "#ed7953"
             ],
             [
              0.7777777777777778,
              "#fb9f3a"
             ],
             [
              0.8888888888888888,
              "#fdca26"
             ],
             [
              1,
              "#f0f921"
             ]
            ],
            "type": "histogram2dcontour"
           }
          ],
          "mesh3d": [
           {
            "colorbar": {
             "outlinewidth": 0,
             "ticks": ""
            },
            "type": "mesh3d"
           }
          ],
          "parcoords": [
           {
            "line": {
             "colorbar": {
              "outlinewidth": 0,
              "ticks": ""
             }
            },
            "type": "parcoords"
           }
          ],
          "pie": [
           {
            "automargin": true,
            "type": "pie"
           }
          ],
          "scatter": [
           {
            "marker": {
             "colorbar": {
              "outlinewidth": 0,
              "ticks": ""
             }
            },
            "type": "scatter"
           }
          ],
          "scatter3d": [
           {
            "line": {
             "colorbar": {
              "outlinewidth": 0,
              "ticks": ""
             }
            },
            "marker": {
             "colorbar": {
              "outlinewidth": 0,
              "ticks": ""
             }
            },
            "type": "scatter3d"
           }
          ],
          "scattercarpet": [
           {
            "marker": {
             "colorbar": {
              "outlinewidth": 0,
              "ticks": ""
             }
            },
            "type": "scattercarpet"
           }
          ],
          "scattergeo": [
           {
            "marker": {
             "colorbar": {
              "outlinewidth": 0,
              "ticks": ""
             }
            },
            "type": "scattergeo"
           }
          ],
          "scattergl": [
           {
            "marker": {
             "colorbar": {
              "outlinewidth": 0,
              "ticks": ""
             }
            },
            "type": "scattergl"
           }
          ],
          "scattermapbox": [
           {
            "marker": {
             "colorbar": {
              "outlinewidth": 0,
              "ticks": ""
             }
            },
            "type": "scattermapbox"
           }
          ],
          "scatterpolar": [
           {
            "marker": {
             "colorbar": {
              "outlinewidth": 0,
              "ticks": ""
             }
            },
            "type": "scatterpolar"
           }
          ],
          "scatterpolargl": [
           {
            "marker": {
             "colorbar": {
              "outlinewidth": 0,
              "ticks": ""
             }
            },
            "type": "scatterpolargl"
           }
          ],
          "scatterternary": [
           {
            "marker": {
             "colorbar": {
              "outlinewidth": 0,
              "ticks": ""
             }
            },
            "type": "scatterternary"
           }
          ],
          "surface": [
           {
            "colorbar": {
             "outlinewidth": 0,
             "ticks": ""
            },
            "colorscale": [
             [
              0,
              "#0d0887"
             ],
             [
              0.1111111111111111,
              "#46039f"
             ],
             [
              0.2222222222222222,
              "#7201a8"
             ],
             [
              0.3333333333333333,
              "#9c179e"
             ],
             [
              0.4444444444444444,
              "#bd3786"
             ],
             [
              0.5555555555555556,
              "#d8576b"
             ],
             [
              0.6666666666666666,
              "#ed7953"
             ],
             [
              0.7777777777777778,
              "#fb9f3a"
             ],
             [
              0.8888888888888888,
              "#fdca26"
             ],
             [
              1,
              "#f0f921"
             ]
            ],
            "type": "surface"
           }
          ],
          "table": [
           {
            "cells": {
             "fill": {
              "color": "#EBF0F8"
             },
             "line": {
              "color": "white"
             }
            },
            "header": {
             "fill": {
              "color": "#C8D4E3"
             },
             "line": {
              "color": "white"
             }
            },
            "type": "table"
           }
          ]
         },
         "layout": {
          "annotationdefaults": {
           "arrowcolor": "#2a3f5f",
           "arrowhead": 0,
           "arrowwidth": 1
          },
          "autotypenumbers": "strict",
          "coloraxis": {
           "colorbar": {
            "outlinewidth": 0,
            "ticks": ""
           }
          },
          "colorscale": {
           "diverging": [
            [
             0,
             "#8e0152"
            ],
            [
             0.1,
             "#c51b7d"
            ],
            [
             0.2,
             "#de77ae"
            ],
            [
             0.3,
             "#f1b6da"
            ],
            [
             0.4,
             "#fde0ef"
            ],
            [
             0.5,
             "#f7f7f7"
            ],
            [
             0.6,
             "#e6f5d0"
            ],
            [
             0.7,
             "#b8e186"
            ],
            [
             0.8,
             "#7fbc41"
            ],
            [
             0.9,
             "#4d9221"
            ],
            [
             1,
             "#276419"
            ]
           ],
           "sequential": [
            [
             0,
             "#0d0887"
            ],
            [
             0.1111111111111111,
             "#46039f"
            ],
            [
             0.2222222222222222,
             "#7201a8"
            ],
            [
             0.3333333333333333,
             "#9c179e"
            ],
            [
             0.4444444444444444,
             "#bd3786"
            ],
            [
             0.5555555555555556,
             "#d8576b"
            ],
            [
             0.6666666666666666,
             "#ed7953"
            ],
            [
             0.7777777777777778,
             "#fb9f3a"
            ],
            [
             0.8888888888888888,
             "#fdca26"
            ],
            [
             1,
             "#f0f921"
            ]
           ],
           "sequentialminus": [
            [
             0,
             "#0d0887"
            ],
            [
             0.1111111111111111,
             "#46039f"
            ],
            [
             0.2222222222222222,
             "#7201a8"
            ],
            [
             0.3333333333333333,
             "#9c179e"
            ],
            [
             0.4444444444444444,
             "#bd3786"
            ],
            [
             0.5555555555555556,
             "#d8576b"
            ],
            [
             0.6666666666666666,
             "#ed7953"
            ],
            [
             0.7777777777777778,
             "#fb9f3a"
            ],
            [
             0.8888888888888888,
             "#fdca26"
            ],
            [
             1,
             "#f0f921"
            ]
           ]
          },
          "colorway": [
           "#636efa",
           "#EF553B",
           "#00cc96",
           "#ab63fa",
           "#FFA15A",
           "#19d3f3",
           "#FF6692",
           "#B6E880",
           "#FF97FF",
           "#FECB52"
          ],
          "font": {
           "color": "#2a3f5f"
          },
          "geo": {
           "bgcolor": "white",
           "lakecolor": "white",
           "landcolor": "#E5ECF6",
           "showlakes": true,
           "showland": true,
           "subunitcolor": "white"
          },
          "hoverlabel": {
           "align": "left"
          },
          "hovermode": "closest",
          "mapbox": {
           "style": "light"
          },
          "paper_bgcolor": "white",
          "plot_bgcolor": "#E5ECF6",
          "polar": {
           "angularaxis": {
            "gridcolor": "white",
            "linecolor": "white",
            "ticks": ""
           },
           "bgcolor": "#E5ECF6",
           "radialaxis": {
            "gridcolor": "white",
            "linecolor": "white",
            "ticks": ""
           }
          },
          "scene": {
           "xaxis": {
            "backgroundcolor": "#E5ECF6",
            "gridcolor": "white",
            "gridwidth": 2,
            "linecolor": "white",
            "showbackground": true,
            "ticks": "",
            "zerolinecolor": "white"
           },
           "yaxis": {
            "backgroundcolor": "#E5ECF6",
            "gridcolor": "white",
            "gridwidth": 2,
            "linecolor": "white",
            "showbackground": true,
            "ticks": "",
            "zerolinecolor": "white"
           },
           "zaxis": {
            "backgroundcolor": "#E5ECF6",
            "gridcolor": "white",
            "gridwidth": 2,
            "linecolor": "white",
            "showbackground": true,
            "ticks": "",
            "zerolinecolor": "white"
           }
          },
          "shapedefaults": {
           "line": {
            "color": "#2a3f5f"
           }
          },
          "ternary": {
           "aaxis": {
            "gridcolor": "white",
            "linecolor": "white",
            "ticks": ""
           },
           "baxis": {
            "gridcolor": "white",
            "linecolor": "white",
            "ticks": ""
           },
           "bgcolor": "#E5ECF6",
           "caxis": {
            "gridcolor": "white",
            "linecolor": "white",
            "ticks": ""
           }
          },
          "title": {
           "x": 0.05
          },
          "xaxis": {
           "automargin": true,
           "gridcolor": "white",
           "linecolor": "white",
           "ticks": "",
           "title": {
            "standoff": 15
           },
           "zerolinecolor": "white",
           "zerolinewidth": 2
          },
          "yaxis": {
           "automargin": true,
           "gridcolor": "white",
           "linecolor": "white",
           "ticks": "",
           "title": {
            "standoff": 15
           },
           "zerolinecolor": "white",
           "zerolinewidth": 2
          }
         }
        },
        "xaxis": {
         "anchor": "y",
         "domain": [
          0,
          1
         ],
         "title": {
          "text": "value"
         }
        },
        "yaxis": {
         "anchor": "x",
         "domain": [
          0,
          1
         ],
         "title": {
          "text": "count"
         }
        }
       }
      }
     },
     "metadata": {},
     "output_type": "display_data"
    }
   ],
   "source": [
    "fig = px.histogram(df_menej_jeden, color = 'index', opacity=0.5, barmode='overlay')\n",
    "fig.update_traces(xbins_size=1)\n",
    "fig.show()"
   ]
  },
  {
   "cell_type": "code",
   "execution_count": 180,
   "metadata": {},
   "outputs": [
    {
     "ename": "KeyboardInterrupt",
     "evalue": "",
     "output_type": "error",
     "traceback": [
      "\u001b[1;31m---------------------------------------------------------------------------\u001b[0m",
      "\u001b[1;31mKeyboardInterrupt\u001b[0m                         Traceback (most recent call last)",
      "\u001b[1;32m<ipython-input-180-ea6cbb2a5b95>\u001b[0m in \u001b[0;36m<module>\u001b[1;34m\u001b[0m\n\u001b[0;32m      6\u001b[0m     \u001b[1;32mfor\u001b[0m \u001b[0m_\u001b[0m \u001b[1;32min\u001b[0m \u001b[0mrange\u001b[0m\u001b[1;33m(\u001b[0m\u001b[1;36m50\u001b[0m\u001b[1;33m)\u001b[0m\u001b[1;33m:\u001b[0m\u001b[1;33m\u001b[0m\u001b[1;33m\u001b[0m\u001b[0m\n\u001b[0;32m      7\u001b[0m         \u001b[0mg\u001b[0m \u001b[1;33m=\u001b[0m \u001b[0mGenAlg\u001b[0m\u001b[1;33m(\u001b[0m\u001b[0mpopulation_size\u001b[0m\u001b[1;33m=\u001b[0m\u001b[1;36m100\u001b[0m\u001b[1;33m,\u001b[0m \u001b[0mk_crossover\u001b[0m\u001b[1;33m=\u001b[0m\u001b[0mk\u001b[0m\u001b[1;33m,\u001b[0m \u001b[0mmutation_prob\u001b[0m\u001b[1;33m=\u001b[0m\u001b[1;36m0.01\u001b[0m\u001b[1;33m,\u001b[0m \u001b[0mrates\u001b[0m\u001b[1;33m=\u001b[0m\u001b[0mrates\u001b[0m\u001b[1;33m,\u001b[0m\u001b[0msigma\u001b[0m\u001b[1;33m=\u001b[0m\u001b[0msigma\u001b[0m\u001b[1;33m)\u001b[0m\u001b[1;33m\u001b[0m\u001b[1;33m\u001b[0m\u001b[0m\n\u001b[1;32m----> 8\u001b[1;33m         \u001b[0mbest\u001b[0m\u001b[1;33m,\u001b[0m\u001b[0mbest_fit\u001b[0m \u001b[1;33m=\u001b[0m \u001b[0mg\u001b[0m\u001b[1;33m.\u001b[0m\u001b[0msolve\u001b[0m\u001b[1;33m(\u001b[0m\u001b[1;36m10\u001b[0m\u001b[1;33m,\u001b[0m\u001b[1;36m8\u001b[0m\u001b[1;33m)\u001b[0m\u001b[1;33m\u001b[0m\u001b[1;33m\u001b[0m\u001b[0m\n\u001b[0m\u001b[0;32m      9\u001b[0m         \u001b[0mbest_fit_list\u001b[0m\u001b[1;33m.\u001b[0m\u001b[0mappend\u001b[0m\u001b[1;33m(\u001b[0m\u001b[0mbest_fit\u001b[0m\u001b[1;33m)\u001b[0m\u001b[1;33m\u001b[0m\u001b[1;33m\u001b[0m\u001b[0m\n\u001b[0;32m     10\u001b[0m         \u001b[0mmenej_ako_jedno_percenta\u001b[0m \u001b[1;33m=\u001b[0m \u001b[1;33m[\u001b[0m\u001b[0mi\u001b[0m \u001b[1;32mfor\u001b[0m \u001b[0mi\u001b[0m \u001b[1;32min\u001b[0m \u001b[0mbest\u001b[0m \u001b[1;32mif\u001b[0m \u001b[0mi\u001b[0m \u001b[1;33m<\u001b[0m \u001b[1;36m0.01\u001b[0m\u001b[1;33m]\u001b[0m\u001b[1;33m\u001b[0m\u001b[1;33m\u001b[0m\u001b[0m\n",
      "\u001b[1;32m<ipython-input-32-1d3db5b4450f>\u001b[0m in \u001b[0;36msolve\u001b[1;34m(self, max_generations, goal)\u001b[0m\n\u001b[0;32m    140\u001b[0m                 \u001b[0mself\u001b[0m\u001b[1;33m.\u001b[0m\u001b[0mpopulation\u001b[0m \u001b[1;33m=\u001b[0m \u001b[0mnp\u001b[0m\u001b[1;33m.\u001b[0m\u001b[0mconcatenate\u001b[0m\u001b[1;33m(\u001b[0m\u001b[1;33m(\u001b[0m\u001b[0mparents\u001b[0m\u001b[1;33m,\u001b[0m\u001b[0mchildren\u001b[0m\u001b[1;33m)\u001b[0m\u001b[1;33m,\u001b[0m\u001b[0maxis\u001b[0m\u001b[1;33m=\u001b[0m\u001b[1;36m0\u001b[0m\u001b[1;33m)\u001b[0m\u001b[1;33m\u001b[0m\u001b[1;33m\u001b[0m\u001b[0m\n\u001b[0;32m    141\u001b[0m \u001b[1;33m\u001b[0m\u001b[0m\n\u001b[1;32m--> 142\u001b[1;33m             \u001b[0mbest_fit\u001b[0m\u001b[1;33m,\u001b[0m \u001b[0mbest\u001b[0m \u001b[1;33m=\u001b[0m \u001b[0mself\u001b[0m\u001b[1;33m.\u001b[0m\u001b[0mevaluate\u001b[0m\u001b[1;33m(\u001b[0m\u001b[1;33m)\u001b[0m\u001b[1;33m\u001b[0m\u001b[1;33m\u001b[0m\u001b[0m\n\u001b[0m\u001b[0;32m    143\u001b[0m             \u001b[1;31m#print('best ratio:',best_fit)\u001b[0m\u001b[1;33m\u001b[0m\u001b[1;33m\u001b[0m\u001b[1;33m\u001b[0m\u001b[0m\n\u001b[0;32m    144\u001b[0m         \u001b[1;31m#print('finnished')\u001b[0m\u001b[1;33m\u001b[0m\u001b[1;33m\u001b[0m\u001b[1;33m\u001b[0m\u001b[0m\n",
      "\u001b[1;32m<ipython-input-32-1d3db5b4450f>\u001b[0m in \u001b[0;36mevaluate\u001b[1;34m(self)\u001b[0m\n\u001b[0;32m     29\u001b[0m         \u001b[0mbest\u001b[0m \u001b[1;33m=\u001b[0m \u001b[1;32mNone\u001b[0m\u001b[1;33m\u001b[0m\u001b[1;33m\u001b[0m\u001b[0m\n\u001b[0;32m     30\u001b[0m         \u001b[1;32mfor\u001b[0m \u001b[0mvector\u001b[0m \u001b[1;32min\u001b[0m \u001b[0mself\u001b[0m\u001b[1;33m.\u001b[0m\u001b[0mpopulation\u001b[0m\u001b[1;33m:\u001b[0m\u001b[1;33m\u001b[0m\u001b[1;33m\u001b[0m\u001b[0m\n\u001b[1;32m---> 31\u001b[1;33m             \u001b[0mf\u001b[0m \u001b[1;33m=\u001b[0m \u001b[0mself\u001b[0m\u001b[1;33m.\u001b[0m\u001b[0mfitness\u001b[0m\u001b[1;33m(\u001b[0m\u001b[0mvector\u001b[0m\u001b[1;33m)\u001b[0m\u001b[1;33m\u001b[0m\u001b[1;33m\u001b[0m\u001b[0m\n\u001b[0m\u001b[0;32m     32\u001b[0m             \u001b[1;32mif\u001b[0m \u001b[0mbest\u001b[0m \u001b[1;32mis\u001b[0m \u001b[1;32mNone\u001b[0m \u001b[1;32mor\u001b[0m \u001b[0mf\u001b[0m \u001b[1;33m>\u001b[0m \u001b[0mbest_fitness\u001b[0m\u001b[1;33m:\u001b[0m\u001b[1;33m\u001b[0m\u001b[1;33m\u001b[0m\u001b[0m\n\u001b[0;32m     33\u001b[0m                 \u001b[0mbest\u001b[0m \u001b[1;33m=\u001b[0m \u001b[0mvector\u001b[0m\u001b[1;33m\u001b[0m\u001b[1;33m\u001b[0m\u001b[0m\n",
      "\u001b[1;32m<ipython-input-32-1d3db5b4450f>\u001b[0m in \u001b[0;36mfitness\u001b[1;34m(self, vector)\u001b[0m\n\u001b[0;32m     37\u001b[0m     \u001b[1;32mdef\u001b[0m \u001b[0mfitness\u001b[0m\u001b[1;33m(\u001b[0m\u001b[0mself\u001b[0m\u001b[1;33m,\u001b[0m\u001b[0mvector\u001b[0m\u001b[1;33m)\u001b[0m\u001b[1;33m:\u001b[0m\u001b[1;33m\u001b[0m\u001b[1;33m\u001b[0m\u001b[0m\n\u001b[0;32m     38\u001b[0m         \u001b[0mrate\u001b[0m \u001b[1;33m=\u001b[0m \u001b[0mnp\u001b[0m\u001b[1;33m.\u001b[0m\u001b[0msum\u001b[0m\u001b[1;33m(\u001b[0m\u001b[0mvector\u001b[0m \u001b[1;33m*\u001b[0m \u001b[0mself\u001b[0m\u001b[1;33m.\u001b[0m\u001b[0mrates\u001b[0m\u001b[1;33m)\u001b[0m\u001b[1;33m\u001b[0m\u001b[1;33m\u001b[0m\u001b[0m\n\u001b[1;32m---> 39\u001b[1;33m         \u001b[0mvolatility\u001b[0m \u001b[1;33m=\u001b[0m \u001b[0mnp\u001b[0m\u001b[1;33m.\u001b[0m\u001b[0msqrt\u001b[0m\u001b[1;33m(\u001b[0m\u001b[0mnp\u001b[0m\u001b[1;33m.\u001b[0m\u001b[0mdot\u001b[0m\u001b[1;33m(\u001b[0m\u001b[0mvector\u001b[0m\u001b[1;33m.\u001b[0m\u001b[0mT\u001b[0m\u001b[1;33m,\u001b[0m\u001b[0mnp\u001b[0m\u001b[1;33m.\u001b[0m\u001b[0mdot\u001b[0m\u001b[1;33m(\u001b[0m\u001b[0mself\u001b[0m\u001b[1;33m.\u001b[0m\u001b[0msigma\u001b[0m\u001b[1;33m,\u001b[0m\u001b[0mvector\u001b[0m\u001b[1;33m)\u001b[0m\u001b[1;33m)\u001b[0m\u001b[1;33m)\u001b[0m\u001b[1;33m\u001b[0m\u001b[1;33m\u001b[0m\u001b[0m\n\u001b[0m\u001b[0;32m     40\u001b[0m \u001b[1;33m\u001b[0m\u001b[0m\n\u001b[0;32m     41\u001b[0m         \u001b[1;32mreturn\u001b[0m \u001b[0mrate\u001b[0m\u001b[1;33m/\u001b[0m\u001b[0mvolatility\u001b[0m\u001b[1;33m\u001b[0m\u001b[1;33m\u001b[0m\u001b[0m\n",
      "\u001b[1;32m<__array_function__ internals>\u001b[0m in \u001b[0;36mdot\u001b[1;34m(*args, **kwargs)\u001b[0m\n",
      "\u001b[1;31mKeyboardInterrupt\u001b[0m: "
     ]
    }
   ],
   "source": [
    "the_best = []\n",
    "menej = []\n",
    "for k in range(2,25):\n",
    "    best_fit_list = []\n",
    "    menej_jedno = []\n",
    "    for _ in range(50):\n",
    "        g = GenAlg(population_size=100, k_crossover=k, mutation_prob=0.01, rates=rates,sigma=sigma)\n",
    "        best,best_fit = g.solve(10,8)\n",
    "        best_fit_list.append(best_fit)\n",
    "        menej_ako_jedno_percenta = [i for i in best if i < 0.01]\n",
    "        menej_jedno.append(len(menej_ako_jedno_percenta))\n",
    "    the_best.append(statistics.mean(best_fit_list))\n",
    "    menej.append(statistics.mean(menej_jedno))\n",
    "\n",
    "print(the_best)\n",
    "print(menej)\n"
   ]
  },
  {
   "cell_type": "code",
   "execution_count": null,
   "metadata": {},
   "outputs": [
    {
     "data": {
      "text/html": [
       "<div>\n",
       "<style scoped>\n",
       "    .dataframe tbody tr th:only-of-type {\n",
       "        vertical-align: middle;\n",
       "    }\n",
       "\n",
       "    .dataframe tbody tr th {\n",
       "        vertical-align: top;\n",
       "    }\n",
       "\n",
       "    .dataframe thead th {\n",
       "        text-align: right;\n",
       "    }\n",
       "</style>\n",
       "<table border=\"1\" class=\"dataframe\">\n",
       "  <thead>\n",
       "    <tr style=\"text-align: right;\">\n",
       "      <th></th>\n",
       "      <th>k</th>\n",
       "      <th>ratio</th>\n",
       "      <th>&gt; 1%</th>\n",
       "    </tr>\n",
       "  </thead>\n",
       "  <tbody>\n",
       "    <tr>\n",
       "      <th>0</th>\n",
       "      <td>2</td>\n",
       "      <td>4.209633</td>\n",
       "      <td>43</td>\n",
       "    </tr>\n",
       "    <tr>\n",
       "      <th>1</th>\n",
       "      <td>3</td>\n",
       "      <td>4.207521</td>\n",
       "      <td>43</td>\n",
       "    </tr>\n",
       "    <tr>\n",
       "      <th>2</th>\n",
       "      <td>4</td>\n",
       "      <td>4.233026</td>\n",
       "      <td>43</td>\n",
       "    </tr>\n",
       "    <tr>\n",
       "      <th>3</th>\n",
       "      <td>5</td>\n",
       "      <td>4.237508</td>\n",
       "      <td>43</td>\n",
       "    </tr>\n",
       "    <tr>\n",
       "      <th>4</th>\n",
       "      <td>6</td>\n",
       "      <td>4.232400</td>\n",
       "      <td>43</td>\n",
       "    </tr>\n",
       "    <tr>\n",
       "      <th>5</th>\n",
       "      <td>7</td>\n",
       "      <td>4.242764</td>\n",
       "      <td>43</td>\n",
       "    </tr>\n",
       "    <tr>\n",
       "      <th>6</th>\n",
       "      <td>8</td>\n",
       "      <td>4.258676</td>\n",
       "      <td>43</td>\n",
       "    </tr>\n",
       "    <tr>\n",
       "      <th>7</th>\n",
       "      <td>9</td>\n",
       "      <td>4.250918</td>\n",
       "      <td>43</td>\n",
       "    </tr>\n",
       "    <tr>\n",
       "      <th>8</th>\n",
       "      <td>10</td>\n",
       "      <td>4.238205</td>\n",
       "      <td>43</td>\n",
       "    </tr>\n",
       "    <tr>\n",
       "      <th>9</th>\n",
       "      <td>11</td>\n",
       "      <td>4.244309</td>\n",
       "      <td>43</td>\n",
       "    </tr>\n",
       "    <tr>\n",
       "      <th>10</th>\n",
       "      <td>12</td>\n",
       "      <td>4.255646</td>\n",
       "      <td>42</td>\n",
       "    </tr>\n",
       "    <tr>\n",
       "      <th>11</th>\n",
       "      <td>13</td>\n",
       "      <td>4.252694</td>\n",
       "      <td>42</td>\n",
       "    </tr>\n",
       "    <tr>\n",
       "      <th>12</th>\n",
       "      <td>14</td>\n",
       "      <td>4.249399</td>\n",
       "      <td>43</td>\n",
       "    </tr>\n",
       "    <tr>\n",
       "      <th>13</th>\n",
       "      <td>15</td>\n",
       "      <td>4.248179</td>\n",
       "      <td>43</td>\n",
       "    </tr>\n",
       "    <tr>\n",
       "      <th>14</th>\n",
       "      <td>16</td>\n",
       "      <td>4.246859</td>\n",
       "      <td>42</td>\n",
       "    </tr>\n",
       "    <tr>\n",
       "      <th>15</th>\n",
       "      <td>17</td>\n",
       "      <td>4.256425</td>\n",
       "      <td>43</td>\n",
       "    </tr>\n",
       "    <tr>\n",
       "      <th>16</th>\n",
       "      <td>18</td>\n",
       "      <td>4.252900</td>\n",
       "      <td>43</td>\n",
       "    </tr>\n",
       "    <tr>\n",
       "      <th>17</th>\n",
       "      <td>19</td>\n",
       "      <td>4.260742</td>\n",
       "      <td>43</td>\n",
       "    </tr>\n",
       "    <tr>\n",
       "      <th>18</th>\n",
       "      <td>20</td>\n",
       "      <td>4.250796</td>\n",
       "      <td>43</td>\n",
       "    </tr>\n",
       "    <tr>\n",
       "      <th>19</th>\n",
       "      <td>21</td>\n",
       "      <td>4.253387</td>\n",
       "      <td>43</td>\n",
       "    </tr>\n",
       "    <tr>\n",
       "      <th>20</th>\n",
       "      <td>22</td>\n",
       "      <td>4.256002</td>\n",
       "      <td>43</td>\n",
       "    </tr>\n",
       "    <tr>\n",
       "      <th>21</th>\n",
       "      <td>23</td>\n",
       "      <td>4.264490</td>\n",
       "      <td>43</td>\n",
       "    </tr>\n",
       "    <tr>\n",
       "      <th>22</th>\n",
       "      <td>24</td>\n",
       "      <td>4.258698</td>\n",
       "      <td>42</td>\n",
       "    </tr>\n",
       "  </tbody>\n",
       "</table>\n",
       "</div>"
      ],
      "text/plain": [
       "     k     ratio  > 1%\n",
       "0    2  4.209633    43\n",
       "1    3  4.207521    43\n",
       "2    4  4.233026    43\n",
       "3    5  4.237508    43\n",
       "4    6  4.232400    43\n",
       "5    7  4.242764    43\n",
       "6    8  4.258676    43\n",
       "7    9  4.250918    43\n",
       "8   10  4.238205    43\n",
       "9   11  4.244309    43\n",
       "10  12  4.255646    42\n",
       "11  13  4.252694    42\n",
       "12  14  4.249399    43\n",
       "13  15  4.248179    43\n",
       "14  16  4.246859    42\n",
       "15  17  4.256425    43\n",
       "16  18  4.252900    43\n",
       "17  19  4.260742    43\n",
       "18  20  4.250796    43\n",
       "19  21  4.253387    43\n",
       "20  22  4.256002    43\n",
       "21  23  4.264490    43\n",
       "22  24  4.258698    42"
      ]
     },
     "execution_count": 113,
     "metadata": {},
     "output_type": "execute_result"
    }
   ],
   "source": [
    "viac = [int(45-i) for i in menej]\n",
    "df_k = pd.DataFrame({\"k\":[i for i in range(2,25)],\"ratio\": the_best, \"> 1%\":viac})\n",
    "df_k"
   ]
  },
  {
   "cell_type": "code",
   "execution_count": null,
   "metadata": {},
   "outputs": [
    {
     "data": {
      "application/vnd.plotly.v1+json": {
       "config": {
        "plotlyServerURL": "https://plot.ly"
       },
       "data": [
        {
         "name": "ratio",
         "type": "scatter",
         "x": [
          2,
          3,
          4,
          5,
          6,
          7,
          8,
          9,
          10,
          11,
          12,
          13,
          14,
          15,
          16,
          17,
          18,
          19,
          20,
          21,
          22,
          23,
          24
         ],
         "y": [
          4.209633347819442,
          4.207521240979838,
          4.2330264562541515,
          4.237507679403257,
          4.2324000726268,
          4.242764145463341,
          4.258675700626237,
          4.250918179811217,
          4.238204801111822,
          4.244309392778689,
          4.255645920874167,
          4.252694226803787,
          4.249399419165289,
          4.2481788027596705,
          4.246858683372168,
          4.256424853929634,
          4.25290041313347,
          4.260742110889264,
          4.250795648675304,
          4.253387225597409,
          4.2560020751236065,
          4.264489899052613,
          4.258698317127958
         ],
         "yaxis": "y"
        },
        {
         "name": "> 1%",
         "type": "scatter",
         "x": [
          2,
          3,
          4,
          5,
          6,
          7,
          8,
          9,
          10,
          11,
          12,
          13,
          14,
          15,
          16,
          17,
          18,
          19,
          20,
          21,
          22,
          23,
          24
         ],
         "y": [
          43,
          43,
          43,
          43,
          43,
          43,
          43,
          43,
          43,
          43,
          42,
          42,
          43,
          43,
          42,
          43,
          43,
          43,
          43,
          43,
          43,
          43,
          42
         ],
         "yaxis": "y2"
        }
       ],
       "layout": {
        "template": {
         "data": {
          "bar": [
           {
            "error_x": {
             "color": "#2a3f5f"
            },
            "error_y": {
             "color": "#2a3f5f"
            },
            "marker": {
             "line": {
              "color": "#E5ECF6",
              "width": 0.5
             }
            },
            "type": "bar"
           }
          ],
          "barpolar": [
           {
            "marker": {
             "line": {
              "color": "#E5ECF6",
              "width": 0.5
             }
            },
            "type": "barpolar"
           }
          ],
          "carpet": [
           {
            "aaxis": {
             "endlinecolor": "#2a3f5f",
             "gridcolor": "white",
             "linecolor": "white",
             "minorgridcolor": "white",
             "startlinecolor": "#2a3f5f"
            },
            "baxis": {
             "endlinecolor": "#2a3f5f",
             "gridcolor": "white",
             "linecolor": "white",
             "minorgridcolor": "white",
             "startlinecolor": "#2a3f5f"
            },
            "type": "carpet"
           }
          ],
          "choropleth": [
           {
            "colorbar": {
             "outlinewidth": 0,
             "ticks": ""
            },
            "type": "choropleth"
           }
          ],
          "contour": [
           {
            "colorbar": {
             "outlinewidth": 0,
             "ticks": ""
            },
            "colorscale": [
             [
              0,
              "#0d0887"
             ],
             [
              0.1111111111111111,
              "#46039f"
             ],
             [
              0.2222222222222222,
              "#7201a8"
             ],
             [
              0.3333333333333333,
              "#9c179e"
             ],
             [
              0.4444444444444444,
              "#bd3786"
             ],
             [
              0.5555555555555556,
              "#d8576b"
             ],
             [
              0.6666666666666666,
              "#ed7953"
             ],
             [
              0.7777777777777778,
              "#fb9f3a"
             ],
             [
              0.8888888888888888,
              "#fdca26"
             ],
             [
              1,
              "#f0f921"
             ]
            ],
            "type": "contour"
           }
          ],
          "contourcarpet": [
           {
            "colorbar": {
             "outlinewidth": 0,
             "ticks": ""
            },
            "type": "contourcarpet"
           }
          ],
          "heatmap": [
           {
            "colorbar": {
             "outlinewidth": 0,
             "ticks": ""
            },
            "colorscale": [
             [
              0,
              "#0d0887"
             ],
             [
              0.1111111111111111,
              "#46039f"
             ],
             [
              0.2222222222222222,
              "#7201a8"
             ],
             [
              0.3333333333333333,
              "#9c179e"
             ],
             [
              0.4444444444444444,
              "#bd3786"
             ],
             [
              0.5555555555555556,
              "#d8576b"
             ],
             [
              0.6666666666666666,
              "#ed7953"
             ],
             [
              0.7777777777777778,
              "#fb9f3a"
             ],
             [
              0.8888888888888888,
              "#fdca26"
             ],
             [
              1,
              "#f0f921"
             ]
            ],
            "type": "heatmap"
           }
          ],
          "heatmapgl": [
           {
            "colorbar": {
             "outlinewidth": 0,
             "ticks": ""
            },
            "colorscale": [
             [
              0,
              "#0d0887"
             ],
             [
              0.1111111111111111,
              "#46039f"
             ],
             [
              0.2222222222222222,
              "#7201a8"
             ],
             [
              0.3333333333333333,
              "#9c179e"
             ],
             [
              0.4444444444444444,
              "#bd3786"
             ],
             [
              0.5555555555555556,
              "#d8576b"
             ],
             [
              0.6666666666666666,
              "#ed7953"
             ],
             [
              0.7777777777777778,
              "#fb9f3a"
             ],
             [
              0.8888888888888888,
              "#fdca26"
             ],
             [
              1,
              "#f0f921"
             ]
            ],
            "type": "heatmapgl"
           }
          ],
          "histogram": [
           {
            "marker": {
             "colorbar": {
              "outlinewidth": 0,
              "ticks": ""
             }
            },
            "type": "histogram"
           }
          ],
          "histogram2d": [
           {
            "colorbar": {
             "outlinewidth": 0,
             "ticks": ""
            },
            "colorscale": [
             [
              0,
              "#0d0887"
             ],
             [
              0.1111111111111111,
              "#46039f"
             ],
             [
              0.2222222222222222,
              "#7201a8"
             ],
             [
              0.3333333333333333,
              "#9c179e"
             ],
             [
              0.4444444444444444,
              "#bd3786"
             ],
             [
              0.5555555555555556,
              "#d8576b"
             ],
             [
              0.6666666666666666,
              "#ed7953"
             ],
             [
              0.7777777777777778,
              "#fb9f3a"
             ],
             [
              0.8888888888888888,
              "#fdca26"
             ],
             [
              1,
              "#f0f921"
             ]
            ],
            "type": "histogram2d"
           }
          ],
          "histogram2dcontour": [
           {
            "colorbar": {
             "outlinewidth": 0,
             "ticks": ""
            },
            "colorscale": [
             [
              0,
              "#0d0887"
             ],
             [
              0.1111111111111111,
              "#46039f"
             ],
             [
              0.2222222222222222,
              "#7201a8"
             ],
             [
              0.3333333333333333,
              "#9c179e"
             ],
             [
              0.4444444444444444,
              "#bd3786"
             ],
             [
              0.5555555555555556,
              "#d8576b"
             ],
             [
              0.6666666666666666,
              "#ed7953"
             ],
             [
              0.7777777777777778,
              "#fb9f3a"
             ],
             [
              0.8888888888888888,
              "#fdca26"
             ],
             [
              1,
              "#f0f921"
             ]
            ],
            "type": "histogram2dcontour"
           }
          ],
          "mesh3d": [
           {
            "colorbar": {
             "outlinewidth": 0,
             "ticks": ""
            },
            "type": "mesh3d"
           }
          ],
          "parcoords": [
           {
            "line": {
             "colorbar": {
              "outlinewidth": 0,
              "ticks": ""
             }
            },
            "type": "parcoords"
           }
          ],
          "pie": [
           {
            "automargin": true,
            "type": "pie"
           }
          ],
          "scatter": [
           {
            "marker": {
             "colorbar": {
              "outlinewidth": 0,
              "ticks": ""
             }
            },
            "type": "scatter"
           }
          ],
          "scatter3d": [
           {
            "line": {
             "colorbar": {
              "outlinewidth": 0,
              "ticks": ""
             }
            },
            "marker": {
             "colorbar": {
              "outlinewidth": 0,
              "ticks": ""
             }
            },
            "type": "scatter3d"
           }
          ],
          "scattercarpet": [
           {
            "marker": {
             "colorbar": {
              "outlinewidth": 0,
              "ticks": ""
             }
            },
            "type": "scattercarpet"
           }
          ],
          "scattergeo": [
           {
            "marker": {
             "colorbar": {
              "outlinewidth": 0,
              "ticks": ""
             }
            },
            "type": "scattergeo"
           }
          ],
          "scattergl": [
           {
            "marker": {
             "colorbar": {
              "outlinewidth": 0,
              "ticks": ""
             }
            },
            "type": "scattergl"
           }
          ],
          "scattermapbox": [
           {
            "marker": {
             "colorbar": {
              "outlinewidth": 0,
              "ticks": ""
             }
            },
            "type": "scattermapbox"
           }
          ],
          "scatterpolar": [
           {
            "marker": {
             "colorbar": {
              "outlinewidth": 0,
              "ticks": ""
             }
            },
            "type": "scatterpolar"
           }
          ],
          "scatterpolargl": [
           {
            "marker": {
             "colorbar": {
              "outlinewidth": 0,
              "ticks": ""
             }
            },
            "type": "scatterpolargl"
           }
          ],
          "scatterternary": [
           {
            "marker": {
             "colorbar": {
              "outlinewidth": 0,
              "ticks": ""
             }
            },
            "type": "scatterternary"
           }
          ],
          "surface": [
           {
            "colorbar": {
             "outlinewidth": 0,
             "ticks": ""
            },
            "colorscale": [
             [
              0,
              "#0d0887"
             ],
             [
              0.1111111111111111,
              "#46039f"
             ],
             [
              0.2222222222222222,
              "#7201a8"
             ],
             [
              0.3333333333333333,
              "#9c179e"
             ],
             [
              0.4444444444444444,
              "#bd3786"
             ],
             [
              0.5555555555555556,
              "#d8576b"
             ],
             [
              0.6666666666666666,
              "#ed7953"
             ],
             [
              0.7777777777777778,
              "#fb9f3a"
             ],
             [
              0.8888888888888888,
              "#fdca26"
             ],
             [
              1,
              "#f0f921"
             ]
            ],
            "type": "surface"
           }
          ],
          "table": [
           {
            "cells": {
             "fill": {
              "color": "#EBF0F8"
             },
             "line": {
              "color": "white"
             }
            },
            "header": {
             "fill": {
              "color": "#C8D4E3"
             },
             "line": {
              "color": "white"
             }
            },
            "type": "table"
           }
          ]
         },
         "layout": {
          "annotationdefaults": {
           "arrowcolor": "#2a3f5f",
           "arrowhead": 0,
           "arrowwidth": 1
          },
          "autotypenumbers": "strict",
          "coloraxis": {
           "colorbar": {
            "outlinewidth": 0,
            "ticks": ""
           }
          },
          "colorscale": {
           "diverging": [
            [
             0,
             "#8e0152"
            ],
            [
             0.1,
             "#c51b7d"
            ],
            [
             0.2,
             "#de77ae"
            ],
            [
             0.3,
             "#f1b6da"
            ],
            [
             0.4,
             "#fde0ef"
            ],
            [
             0.5,
             "#f7f7f7"
            ],
            [
             0.6,
             "#e6f5d0"
            ],
            [
             0.7,
             "#b8e186"
            ],
            [
             0.8,
             "#7fbc41"
            ],
            [
             0.9,
             "#4d9221"
            ],
            [
             1,
             "#276419"
            ]
           ],
           "sequential": [
            [
             0,
             "#0d0887"
            ],
            [
             0.1111111111111111,
             "#46039f"
            ],
            [
             0.2222222222222222,
             "#7201a8"
            ],
            [
             0.3333333333333333,
             "#9c179e"
            ],
            [
             0.4444444444444444,
             "#bd3786"
            ],
            [
             0.5555555555555556,
             "#d8576b"
            ],
            [
             0.6666666666666666,
             "#ed7953"
            ],
            [
             0.7777777777777778,
             "#fb9f3a"
            ],
            [
             0.8888888888888888,
             "#fdca26"
            ],
            [
             1,
             "#f0f921"
            ]
           ],
           "sequentialminus": [
            [
             0,
             "#0d0887"
            ],
            [
             0.1111111111111111,
             "#46039f"
            ],
            [
             0.2222222222222222,
             "#7201a8"
            ],
            [
             0.3333333333333333,
             "#9c179e"
            ],
            [
             0.4444444444444444,
             "#bd3786"
            ],
            [
             0.5555555555555556,
             "#d8576b"
            ],
            [
             0.6666666666666666,
             "#ed7953"
            ],
            [
             0.7777777777777778,
             "#fb9f3a"
            ],
            [
             0.8888888888888888,
             "#fdca26"
            ],
            [
             1,
             "#f0f921"
            ]
           ]
          },
          "colorway": [
           "#636efa",
           "#EF553B",
           "#00cc96",
           "#ab63fa",
           "#FFA15A",
           "#19d3f3",
           "#FF6692",
           "#B6E880",
           "#FF97FF",
           "#FECB52"
          ],
          "font": {
           "color": "#2a3f5f"
          },
          "geo": {
           "bgcolor": "white",
           "lakecolor": "white",
           "landcolor": "#E5ECF6",
           "showlakes": true,
           "showland": true,
           "subunitcolor": "white"
          },
          "hoverlabel": {
           "align": "left"
          },
          "hovermode": "closest",
          "mapbox": {
           "style": "light"
          },
          "paper_bgcolor": "white",
          "plot_bgcolor": "#E5ECF6",
          "polar": {
           "angularaxis": {
            "gridcolor": "white",
            "linecolor": "white",
            "ticks": ""
           },
           "bgcolor": "#E5ECF6",
           "radialaxis": {
            "gridcolor": "white",
            "linecolor": "white",
            "ticks": ""
           }
          },
          "scene": {
           "xaxis": {
            "backgroundcolor": "#E5ECF6",
            "gridcolor": "white",
            "gridwidth": 2,
            "linecolor": "white",
            "showbackground": true,
            "ticks": "",
            "zerolinecolor": "white"
           },
           "yaxis": {
            "backgroundcolor": "#E5ECF6",
            "gridcolor": "white",
            "gridwidth": 2,
            "linecolor": "white",
            "showbackground": true,
            "ticks": "",
            "zerolinecolor": "white"
           },
           "zaxis": {
            "backgroundcolor": "#E5ECF6",
            "gridcolor": "white",
            "gridwidth": 2,
            "linecolor": "white",
            "showbackground": true,
            "ticks": "",
            "zerolinecolor": "white"
           }
          },
          "shapedefaults": {
           "line": {
            "color": "#2a3f5f"
           }
          },
          "ternary": {
           "aaxis": {
            "gridcolor": "white",
            "linecolor": "white",
            "ticks": ""
           },
           "baxis": {
            "gridcolor": "white",
            "linecolor": "white",
            "ticks": ""
           },
           "bgcolor": "#E5ECF6",
           "caxis": {
            "gridcolor": "white",
            "linecolor": "white",
            "ticks": ""
           }
          },
          "title": {
           "x": 0.05
          },
          "xaxis": {
           "automargin": true,
           "gridcolor": "white",
           "linecolor": "white",
           "ticks": "",
           "title": {
            "standoff": 15
           },
           "zerolinecolor": "white",
           "zerolinewidth": 2
          },
          "yaxis": {
           "automargin": true,
           "gridcolor": "white",
           "linecolor": "white",
           "ticks": "",
           "title": {
            "standoff": 15
           },
           "zerolinecolor": "white",
           "zerolinewidth": 2
          }
         }
        },
        "xaxis": {
         "title": {
          "text": "k"
         }
        },
        "yaxis": {
         "tickfont": {
          "color": "#1f77b4"
         },
         "title": {
          "font": {
           "color": "#1f77b4"
          },
          "text": "ratio"
         }
        },
        "yaxis2": {
         "anchor": "free",
         "overlaying": "y",
         "position": 1,
         "side": "right",
         "tickfont": {
          "color": "red"
         },
         "title": {
          "font": {
           "color": "red"
          },
          "text": "> 1%"
         }
        }
       }
      }
     },
     "metadata": {},
     "output_type": "display_data"
    }
   ],
   "source": [
    "fig = go.Figure()\n",
    "#mutation prob = 0.1, pop size 100\n",
    "fig.add_trace(go.Scatter(x=df_k['k'], y=df_k['ratio'], name=\"ratio\", yaxis=\"y1\"))\n",
    "fig.add_trace(go.Scatter(x=df_k['k'], y=df_k['> 1%'], name=\"> 1%\", yaxis=\"y2\"))\n",
    "fig.update_layout(\n",
    "    xaxis=dict(title='k'),\n",
    "    yaxis=dict(\n",
    "        title=\"ratio\",\n",
    "        titlefont=dict(\n",
    "            color=\"#1f77b4\"\n",
    "        ),\n",
    "        tickfont=dict(\n",
    "            color=\"#1f77b4\"\n",
    "        )\n",
    "    ),\n",
    "    yaxis2=dict(\n",
    "        title=\"> 1%\",\n",
    "        titlefont=dict(\n",
    "            color=\"red\"\n",
    "        ),\n",
    "        tickfont=dict(\n",
    "            color=\"red\"\n",
    "        ),\n",
    "        anchor=\"free\",\n",
    "        overlaying=\"y\",\n",
    "        side=\"right\",\n",
    "        position=1\n",
    "    ))\n",
    "fig.show()"
   ]
  },
  {
   "cell_type": "code",
   "execution_count": null,
   "metadata": {},
   "outputs": [
    {
     "name": "stdout",
     "output_type": "stream",
     "text": [
      "[4.253402391404574, 4.240468755728645, 4.244981346974212, 4.236227869169, 4.237263834299535, 4.238344474144795, 4.226049139489052, 4.221051678145077, 4.2218181264829004, 4.227376505191429]\n",
      "[1.84, 1.6, 1.9, 2.09, 2.38, 1.83, 2.39, 2.83, 3.15, 3.3]\n"
     ]
    }
   ],
   "source": [
    "the_best = []\n",
    "menej = []\n",
    "for p in [0.005, 0.010, 0.015, 0.020, 0.025, 0.030, 0.035, 0.040, 0.045, 0.050]:\n",
    "    best_fit_list = []\n",
    "    menej_jedno = []\n",
    "    for _ in range(100):\n",
    "        g = GenAlg(population_size=100, k_crossover=8, mutation_prob=p, rates=rates,sigma=sigma)\n",
    "        best,best_fit = g.solve(10,8)\n",
    "        best_fit_list.append(best_fit)\n",
    "        menej_ako_jedno_percenta = [i for i in best if i < 0.01]\n",
    "        menej_jedno.append(len(menej_ako_jedno_percenta))\n",
    "    the_best.append(statistics.mean(best_fit_list))\n",
    "    menej.append(statistics.mean(menej_jedno))\n",
    "\n",
    "print(the_best)\n",
    "print(menej)"
   ]
  },
  {
   "cell_type": "code",
   "execution_count": null,
   "metadata": {},
   "outputs": [
    {
     "data": {
      "text/html": [
       "<div>\n",
       "<style scoped>\n",
       "    .dataframe tbody tr th:only-of-type {\n",
       "        vertical-align: middle;\n",
       "    }\n",
       "\n",
       "    .dataframe tbody tr th {\n",
       "        vertical-align: top;\n",
       "    }\n",
       "\n",
       "    .dataframe thead th {\n",
       "        text-align: right;\n",
       "    }\n",
       "</style>\n",
       "<table border=\"1\" class=\"dataframe\">\n",
       "  <thead>\n",
       "    <tr style=\"text-align: right;\">\n",
       "      <th></th>\n",
       "      <th>p</th>\n",
       "      <th>ratio</th>\n",
       "      <th>&gt; 1%</th>\n",
       "    </tr>\n",
       "  </thead>\n",
       "  <tbody>\n",
       "    <tr>\n",
       "      <th>0</th>\n",
       "      <td>0.005</td>\n",
       "      <td>4.253402</td>\n",
       "      <td>43</td>\n",
       "    </tr>\n",
       "    <tr>\n",
       "      <th>1</th>\n",
       "      <td>0.010</td>\n",
       "      <td>4.240469</td>\n",
       "      <td>43</td>\n",
       "    </tr>\n",
       "    <tr>\n",
       "      <th>2</th>\n",
       "      <td>0.015</td>\n",
       "      <td>4.244981</td>\n",
       "      <td>43</td>\n",
       "    </tr>\n",
       "    <tr>\n",
       "      <th>3</th>\n",
       "      <td>0.020</td>\n",
       "      <td>4.236228</td>\n",
       "      <td>42</td>\n",
       "    </tr>\n",
       "    <tr>\n",
       "      <th>4</th>\n",
       "      <td>0.025</td>\n",
       "      <td>4.237264</td>\n",
       "      <td>42</td>\n",
       "    </tr>\n",
       "    <tr>\n",
       "      <th>5</th>\n",
       "      <td>0.030</td>\n",
       "      <td>4.238344</td>\n",
       "      <td>43</td>\n",
       "    </tr>\n",
       "    <tr>\n",
       "      <th>6</th>\n",
       "      <td>0.035</td>\n",
       "      <td>4.226049</td>\n",
       "      <td>42</td>\n",
       "    </tr>\n",
       "    <tr>\n",
       "      <th>7</th>\n",
       "      <td>0.040</td>\n",
       "      <td>4.221052</td>\n",
       "      <td>42</td>\n",
       "    </tr>\n",
       "    <tr>\n",
       "      <th>8</th>\n",
       "      <td>0.045</td>\n",
       "      <td>4.221818</td>\n",
       "      <td>41</td>\n",
       "    </tr>\n",
       "    <tr>\n",
       "      <th>9</th>\n",
       "      <td>0.050</td>\n",
       "      <td>4.227377</td>\n",
       "      <td>41</td>\n",
       "    </tr>\n",
       "  </tbody>\n",
       "</table>\n",
       "</div>"
      ],
      "text/plain": [
       "       p     ratio  > 1%\n",
       "0  0.005  4.253402    43\n",
       "1  0.010  4.240469    43\n",
       "2  0.015  4.244981    43\n",
       "3  0.020  4.236228    42\n",
       "4  0.025  4.237264    42\n",
       "5  0.030  4.238344    43\n",
       "6  0.035  4.226049    42\n",
       "7  0.040  4.221052    42\n",
       "8  0.045  4.221818    41\n",
       "9  0.050  4.227377    41"
      ]
     },
     "execution_count": 118,
     "metadata": {},
     "output_type": "execute_result"
    }
   ],
   "source": [
    "viac = [int(45-i) for i in menej]\n",
    "df_p = pd.DataFrame({\"p\":[0.005, 0.010, 0.015, 0.020, 0.025, 0.030, 0.035, 0.040, 0.045, 0.050],\"ratio\": the_best, \"> 1%\":viac})\n",
    "df_p"
   ]
  },
  {
   "cell_type": "code",
   "execution_count": null,
   "metadata": {},
   "outputs": [
    {
     "data": {
      "application/vnd.plotly.v1+json": {
       "config": {
        "plotlyServerURL": "https://plot.ly"
       },
       "data": [
        {
         "name": "ratio",
         "type": "scatter",
         "x": [
          0.005,
          0.01,
          0.015,
          0.02,
          0.025,
          0.03,
          0.035,
          0.04,
          0.045,
          0.05
         ],
         "y": [
          4.253402391404574,
          4.240468755728645,
          4.244981346974212,
          4.236227869169,
          4.237263834299535,
          4.238344474144795,
          4.226049139489052,
          4.221051678145077,
          4.2218181264829004,
          4.227376505191429
         ],
         "yaxis": "y"
        },
        {
         "name": "> 1%",
         "type": "scatter",
         "x": [
          0.005,
          0.01,
          0.015,
          0.02,
          0.025,
          0.03,
          0.035,
          0.04,
          0.045,
          0.05
         ],
         "y": [
          43,
          43,
          43,
          42,
          42,
          43,
          42,
          42,
          41,
          41
         ],
         "yaxis": "y2"
        }
       ],
       "layout": {
        "template": {
         "data": {
          "bar": [
           {
            "error_x": {
             "color": "#2a3f5f"
            },
            "error_y": {
             "color": "#2a3f5f"
            },
            "marker": {
             "line": {
              "color": "#E5ECF6",
              "width": 0.5
             }
            },
            "type": "bar"
           }
          ],
          "barpolar": [
           {
            "marker": {
             "line": {
              "color": "#E5ECF6",
              "width": 0.5
             }
            },
            "type": "barpolar"
           }
          ],
          "carpet": [
           {
            "aaxis": {
             "endlinecolor": "#2a3f5f",
             "gridcolor": "white",
             "linecolor": "white",
             "minorgridcolor": "white",
             "startlinecolor": "#2a3f5f"
            },
            "baxis": {
             "endlinecolor": "#2a3f5f",
             "gridcolor": "white",
             "linecolor": "white",
             "minorgridcolor": "white",
             "startlinecolor": "#2a3f5f"
            },
            "type": "carpet"
           }
          ],
          "choropleth": [
           {
            "colorbar": {
             "outlinewidth": 0,
             "ticks": ""
            },
            "type": "choropleth"
           }
          ],
          "contour": [
           {
            "colorbar": {
             "outlinewidth": 0,
             "ticks": ""
            },
            "colorscale": [
             [
              0,
              "#0d0887"
             ],
             [
              0.1111111111111111,
              "#46039f"
             ],
             [
              0.2222222222222222,
              "#7201a8"
             ],
             [
              0.3333333333333333,
              "#9c179e"
             ],
             [
              0.4444444444444444,
              "#bd3786"
             ],
             [
              0.5555555555555556,
              "#d8576b"
             ],
             [
              0.6666666666666666,
              "#ed7953"
             ],
             [
              0.7777777777777778,
              "#fb9f3a"
             ],
             [
              0.8888888888888888,
              "#fdca26"
             ],
             [
              1,
              "#f0f921"
             ]
            ],
            "type": "contour"
           }
          ],
          "contourcarpet": [
           {
            "colorbar": {
             "outlinewidth": 0,
             "ticks": ""
            },
            "type": "contourcarpet"
           }
          ],
          "heatmap": [
           {
            "colorbar": {
             "outlinewidth": 0,
             "ticks": ""
            },
            "colorscale": [
             [
              0,
              "#0d0887"
             ],
             [
              0.1111111111111111,
              "#46039f"
             ],
             [
              0.2222222222222222,
              "#7201a8"
             ],
             [
              0.3333333333333333,
              "#9c179e"
             ],
             [
              0.4444444444444444,
              "#bd3786"
             ],
             [
              0.5555555555555556,
              "#d8576b"
             ],
             [
              0.6666666666666666,
              "#ed7953"
             ],
             [
              0.7777777777777778,
              "#fb9f3a"
             ],
             [
              0.8888888888888888,
              "#fdca26"
             ],
             [
              1,
              "#f0f921"
             ]
            ],
            "type": "heatmap"
           }
          ],
          "heatmapgl": [
           {
            "colorbar": {
             "outlinewidth": 0,
             "ticks": ""
            },
            "colorscale": [
             [
              0,
              "#0d0887"
             ],
             [
              0.1111111111111111,
              "#46039f"
             ],
             [
              0.2222222222222222,
              "#7201a8"
             ],
             [
              0.3333333333333333,
              "#9c179e"
             ],
             [
              0.4444444444444444,
              "#bd3786"
             ],
             [
              0.5555555555555556,
              "#d8576b"
             ],
             [
              0.6666666666666666,
              "#ed7953"
             ],
             [
              0.7777777777777778,
              "#fb9f3a"
             ],
             [
              0.8888888888888888,
              "#fdca26"
             ],
             [
              1,
              "#f0f921"
             ]
            ],
            "type": "heatmapgl"
           }
          ],
          "histogram": [
           {
            "marker": {
             "colorbar": {
              "outlinewidth": 0,
              "ticks": ""
             }
            },
            "type": "histogram"
           }
          ],
          "histogram2d": [
           {
            "colorbar": {
             "outlinewidth": 0,
             "ticks": ""
            },
            "colorscale": [
             [
              0,
              "#0d0887"
             ],
             [
              0.1111111111111111,
              "#46039f"
             ],
             [
              0.2222222222222222,
              "#7201a8"
             ],
             [
              0.3333333333333333,
              "#9c179e"
             ],
             [
              0.4444444444444444,
              "#bd3786"
             ],
             [
              0.5555555555555556,
              "#d8576b"
             ],
             [
              0.6666666666666666,
              "#ed7953"
             ],
             [
              0.7777777777777778,
              "#fb9f3a"
             ],
             [
              0.8888888888888888,
              "#fdca26"
             ],
             [
              1,
              "#f0f921"
             ]
            ],
            "type": "histogram2d"
           }
          ],
          "histogram2dcontour": [
           {
            "colorbar": {
             "outlinewidth": 0,
             "ticks": ""
            },
            "colorscale": [
             [
              0,
              "#0d0887"
             ],
             [
              0.1111111111111111,
              "#46039f"
             ],
             [
              0.2222222222222222,
              "#7201a8"
             ],
             [
              0.3333333333333333,
              "#9c179e"
             ],
             [
              0.4444444444444444,
              "#bd3786"
             ],
             [
              0.5555555555555556,
              "#d8576b"
             ],
             [
              0.6666666666666666,
              "#ed7953"
             ],
             [
              0.7777777777777778,
              "#fb9f3a"
             ],
             [
              0.8888888888888888,
              "#fdca26"
             ],
             [
              1,
              "#f0f921"
             ]
            ],
            "type": "histogram2dcontour"
           }
          ],
          "mesh3d": [
           {
            "colorbar": {
             "outlinewidth": 0,
             "ticks": ""
            },
            "type": "mesh3d"
           }
          ],
          "parcoords": [
           {
            "line": {
             "colorbar": {
              "outlinewidth": 0,
              "ticks": ""
             }
            },
            "type": "parcoords"
           }
          ],
          "pie": [
           {
            "automargin": true,
            "type": "pie"
           }
          ],
          "scatter": [
           {
            "marker": {
             "colorbar": {
              "outlinewidth": 0,
              "ticks": ""
             }
            },
            "type": "scatter"
           }
          ],
          "scatter3d": [
           {
            "line": {
             "colorbar": {
              "outlinewidth": 0,
              "ticks": ""
             }
            },
            "marker": {
             "colorbar": {
              "outlinewidth": 0,
              "ticks": ""
             }
            },
            "type": "scatter3d"
           }
          ],
          "scattercarpet": [
           {
            "marker": {
             "colorbar": {
              "outlinewidth": 0,
              "ticks": ""
             }
            },
            "type": "scattercarpet"
           }
          ],
          "scattergeo": [
           {
            "marker": {
             "colorbar": {
              "outlinewidth": 0,
              "ticks": ""
             }
            },
            "type": "scattergeo"
           }
          ],
          "scattergl": [
           {
            "marker": {
             "colorbar": {
              "outlinewidth": 0,
              "ticks": ""
             }
            },
            "type": "scattergl"
           }
          ],
          "scattermapbox": [
           {
            "marker": {
             "colorbar": {
              "outlinewidth": 0,
              "ticks": ""
             }
            },
            "type": "scattermapbox"
           }
          ],
          "scatterpolar": [
           {
            "marker": {
             "colorbar": {
              "outlinewidth": 0,
              "ticks": ""
             }
            },
            "type": "scatterpolar"
           }
          ],
          "scatterpolargl": [
           {
            "marker": {
             "colorbar": {
              "outlinewidth": 0,
              "ticks": ""
             }
            },
            "type": "scatterpolargl"
           }
          ],
          "scatterternary": [
           {
            "marker": {
             "colorbar": {
              "outlinewidth": 0,
              "ticks": ""
             }
            },
            "type": "scatterternary"
           }
          ],
          "surface": [
           {
            "colorbar": {
             "outlinewidth": 0,
             "ticks": ""
            },
            "colorscale": [
             [
              0,
              "#0d0887"
             ],
             [
              0.1111111111111111,
              "#46039f"
             ],
             [
              0.2222222222222222,
              "#7201a8"
             ],
             [
              0.3333333333333333,
              "#9c179e"
             ],
             [
              0.4444444444444444,
              "#bd3786"
             ],
             [
              0.5555555555555556,
              "#d8576b"
             ],
             [
              0.6666666666666666,
              "#ed7953"
             ],
             [
              0.7777777777777778,
              "#fb9f3a"
             ],
             [
              0.8888888888888888,
              "#fdca26"
             ],
             [
              1,
              "#f0f921"
             ]
            ],
            "type": "surface"
           }
          ],
          "table": [
           {
            "cells": {
             "fill": {
              "color": "#EBF0F8"
             },
             "line": {
              "color": "white"
             }
            },
            "header": {
             "fill": {
              "color": "#C8D4E3"
             },
             "line": {
              "color": "white"
             }
            },
            "type": "table"
           }
          ]
         },
         "layout": {
          "annotationdefaults": {
           "arrowcolor": "#2a3f5f",
           "arrowhead": 0,
           "arrowwidth": 1
          },
          "autotypenumbers": "strict",
          "coloraxis": {
           "colorbar": {
            "outlinewidth": 0,
            "ticks": ""
           }
          },
          "colorscale": {
           "diverging": [
            [
             0,
             "#8e0152"
            ],
            [
             0.1,
             "#c51b7d"
            ],
            [
             0.2,
             "#de77ae"
            ],
            [
             0.3,
             "#f1b6da"
            ],
            [
             0.4,
             "#fde0ef"
            ],
            [
             0.5,
             "#f7f7f7"
            ],
            [
             0.6,
             "#e6f5d0"
            ],
            [
             0.7,
             "#b8e186"
            ],
            [
             0.8,
             "#7fbc41"
            ],
            [
             0.9,
             "#4d9221"
            ],
            [
             1,
             "#276419"
            ]
           ],
           "sequential": [
            [
             0,
             "#0d0887"
            ],
            [
             0.1111111111111111,
             "#46039f"
            ],
            [
             0.2222222222222222,
             "#7201a8"
            ],
            [
             0.3333333333333333,
             "#9c179e"
            ],
            [
             0.4444444444444444,
             "#bd3786"
            ],
            [
             0.5555555555555556,
             "#d8576b"
            ],
            [
             0.6666666666666666,
             "#ed7953"
            ],
            [
             0.7777777777777778,
             "#fb9f3a"
            ],
            [
             0.8888888888888888,
             "#fdca26"
            ],
            [
             1,
             "#f0f921"
            ]
           ],
           "sequentialminus": [
            [
             0,
             "#0d0887"
            ],
            [
             0.1111111111111111,
             "#46039f"
            ],
            [
             0.2222222222222222,
             "#7201a8"
            ],
            [
             0.3333333333333333,
             "#9c179e"
            ],
            [
             0.4444444444444444,
             "#bd3786"
            ],
            [
             0.5555555555555556,
             "#d8576b"
            ],
            [
             0.6666666666666666,
             "#ed7953"
            ],
            [
             0.7777777777777778,
             "#fb9f3a"
            ],
            [
             0.8888888888888888,
             "#fdca26"
            ],
            [
             1,
             "#f0f921"
            ]
           ]
          },
          "colorway": [
           "#636efa",
           "#EF553B",
           "#00cc96",
           "#ab63fa",
           "#FFA15A",
           "#19d3f3",
           "#FF6692",
           "#B6E880",
           "#FF97FF",
           "#FECB52"
          ],
          "font": {
           "color": "#2a3f5f"
          },
          "geo": {
           "bgcolor": "white",
           "lakecolor": "white",
           "landcolor": "#E5ECF6",
           "showlakes": true,
           "showland": true,
           "subunitcolor": "white"
          },
          "hoverlabel": {
           "align": "left"
          },
          "hovermode": "closest",
          "mapbox": {
           "style": "light"
          },
          "paper_bgcolor": "white",
          "plot_bgcolor": "#E5ECF6",
          "polar": {
           "angularaxis": {
            "gridcolor": "white",
            "linecolor": "white",
            "ticks": ""
           },
           "bgcolor": "#E5ECF6",
           "radialaxis": {
            "gridcolor": "white",
            "linecolor": "white",
            "ticks": ""
           }
          },
          "scene": {
           "xaxis": {
            "backgroundcolor": "#E5ECF6",
            "gridcolor": "white",
            "gridwidth": 2,
            "linecolor": "white",
            "showbackground": true,
            "ticks": "",
            "zerolinecolor": "white"
           },
           "yaxis": {
            "backgroundcolor": "#E5ECF6",
            "gridcolor": "white",
            "gridwidth": 2,
            "linecolor": "white",
            "showbackground": true,
            "ticks": "",
            "zerolinecolor": "white"
           },
           "zaxis": {
            "backgroundcolor": "#E5ECF6",
            "gridcolor": "white",
            "gridwidth": 2,
            "linecolor": "white",
            "showbackground": true,
            "ticks": "",
            "zerolinecolor": "white"
           }
          },
          "shapedefaults": {
           "line": {
            "color": "#2a3f5f"
           }
          },
          "ternary": {
           "aaxis": {
            "gridcolor": "white",
            "linecolor": "white",
            "ticks": ""
           },
           "baxis": {
            "gridcolor": "white",
            "linecolor": "white",
            "ticks": ""
           },
           "bgcolor": "#E5ECF6",
           "caxis": {
            "gridcolor": "white",
            "linecolor": "white",
            "ticks": ""
           }
          },
          "title": {
           "x": 0.05
          },
          "xaxis": {
           "automargin": true,
           "gridcolor": "white",
           "linecolor": "white",
           "ticks": "",
           "title": {
            "standoff": 15
           },
           "zerolinecolor": "white",
           "zerolinewidth": 2
          },
          "yaxis": {
           "automargin": true,
           "gridcolor": "white",
           "linecolor": "white",
           "ticks": "",
           "title": {
            "standoff": 15
           },
           "zerolinecolor": "white",
           "zerolinewidth": 2
          }
         }
        },
        "xaxis": {
         "title": {
          "text": "p"
         }
        },
        "yaxis": {
         "tickfont": {
          "color": "#1f77b4"
         },
         "title": {
          "font": {
           "color": "#1f77b4"
          },
          "text": "ratio"
         }
        },
        "yaxis2": {
         "anchor": "free",
         "overlaying": "y",
         "position": 1,
         "side": "right",
         "tickfont": {
          "color": "red"
         },
         "title": {
          "font": {
           "color": "red"
          },
          "text": "> 1%"
         }
        }
       }
      }
     },
     "metadata": {},
     "output_type": "display_data"
    }
   ],
   "source": [
    "fig = go.Figure()\n",
    "#k = 8, pop size 100\n",
    "fig.add_trace(go.Scatter(x=df_p['p'], y=df_p['ratio'], name=\"ratio\", yaxis=\"y1\"))\n",
    "fig.add_trace(go.Scatter(x=df_p['p'], y=df_p['> 1%'], name=\"> 1%\", yaxis=\"y2\"))\n",
    "fig.update_layout(\n",
    "    xaxis=dict(title='p'),\n",
    "    yaxis=dict(\n",
    "        title=\"ratio\",\n",
    "        titlefont=dict(\n",
    "            color=\"#1f77b4\"\n",
    "        ),\n",
    "        tickfont=dict(\n",
    "            color=\"#1f77b4\"\n",
    "        )\n",
    "    ),\n",
    "    yaxis2=dict(\n",
    "        title=\"> 1%\",\n",
    "        titlefont=dict(\n",
    "            color=\"red\"\n",
    "        ),\n",
    "        tickfont=dict(\n",
    "            color=\"red\"\n",
    "        ),\n",
    "        anchor=\"free\",\n",
    "        overlaying=\"y\",\n",
    "        side=\"right\",\n",
    "        position=1\n",
    "    ))\n",
    "fig.show()"
   ]
  },
  {
   "cell_type": "code",
   "execution_count": null,
   "metadata": {},
   "outputs": [
    {
     "name": "stdout",
     "output_type": "stream",
     "text": [
      "[0.03845245 0.00087674 0.03496243 0.02453384 0.00711184 0.03044989\n",
      " 0.00143412 0.10335219 0.00203175 0.01902237 0.04109037 0.03976671\n",
      " 0.00100643 0.00339921 0.15215102 0.00298171 0.00875201 0.03468123\n",
      " 0.0109422  0.00418775 0.00616967 0.00326929 0.01239119 0.01409109\n",
      " 0.00228115 0.01087108 0.03132437 0.03722236 0.02566128 0.0005705\n",
      " 0.00476897 0.0740307  0.03228559 0.00252054 0.00207925 0.04259115\n",
      " 0.03511779 0.01664765 0.02536945 0.00670688 0.01183224 0.00071782\n",
      " 0.01645228 0.01502736 0.0088141 ] 4.23576802043203\n"
     ]
    }
   ],
   "source": [
    "g = GenAlg(population_size=100, k_crossover=8, mutation_prob=0.01, rates=rates,sigma=sigma)\n",
    "\n",
    "best,best_fit = g.solve(10,8)\n",
    "print(best,best_fit)"
   ]
  }
 ],
 "metadata": {
  "interpreter": {
   "hash": "d153afc154f55f63edb29ab3b8e0ef98f4223ee04c2a602f3a0cf8c8ffe67f14"
  },
  "kernelspec": {
   "display_name": "Python 3.9.1 64-bit",
   "language": "python",
   "name": "python3"
  },
  "language_info": {
   "codemirror_mode": {
    "name": "ipython",
    "version": 3
   },
   "file_extension": ".py",
   "mimetype": "text/x-python",
   "name": "python",
   "nbconvert_exporter": "python",
   "pygments_lexer": "ipython3",
   "version": "3.8.10"
  },
  "orig_nbformat": 4
 },
 "nbformat": 4,
 "nbformat_minor": 2
}
