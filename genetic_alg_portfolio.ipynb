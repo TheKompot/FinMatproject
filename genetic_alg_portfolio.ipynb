{
 "cells": [
  {
   "cell_type": "code",
   "execution_count": 5,
   "metadata": {},
   "outputs": [],
   "source": [
    "import numpy as np\n",
    "import random\n",
    "import pandas as pd"
   ]
  },
  {
   "cell_type": "code",
   "execution_count": 73,
   "metadata": {},
   "outputs": [],
   "source": [
    "class GenAlg:\n",
    "\n",
    "    def __init__(self, population_size, k_crossover, mutation_prob, rates, sigma):\n",
    "        self.population_size = population_size\n",
    "        self.k = k_crossover\n",
    "        self.mutation_prob = mutation_prob\n",
    "        self.number_of_stocks = len(rates)\n",
    "\n",
    "        self.rates = rates.copy()\n",
    "        self.sigma = sigma.copy()\n",
    "\n",
    "        self.random_pop()\n",
    "    \n",
    "\n",
    "\n",
    "    def random_pop(self):\n",
    "        self.population = np.random.rand(self.population_size,self.number_of_stocks)\n",
    "        for  i in range(self.population.shape[0]):\n",
    "            self.population[i,] = self.normalize(self.population[i,])\n",
    "    \n",
    "    def normalize(self,vector):\n",
    "        sum_of_vector = sum(vector)\n",
    "        for i in range(len(vector)):\n",
    "            vector[i] =  vector[i]/sum_of_vector\n",
    "        return vector\n",
    "    \n",
    "    def evaluate(self):\n",
    "        best_fitness = None\n",
    "        best = None\n",
    "        for vector in self.population:\n",
    "            f = self.fitness(vector)\n",
    "            if best is None or f > best_fitness:\n",
    "                best = vector\n",
    "                best_fitness = f\n",
    "        return best_fitness,best\n",
    "\n",
    "    def fitness(self,vector):\n",
    "        rate = np.sum(vector * self.rates)\n",
    "        volatility = np.sqrt(np.dot(vector.T,np.dot(self.sigma,vector)))\n",
    "\n",
    "        return rate/volatility\n",
    "\n",
    "    def get_lucky_one(self):\n",
    "        random_num = random.randrange(len(self.population))\n",
    "        return self.population[random_num,:]\n",
    "    \n",
    "    def select_parents(self,lucky_one):\n",
    "        # if lucky_one exists then remove him\n",
    "        if lucky_one is not None:\n",
    "            pop = np.ones(shape=(self.population_size-1,self.number_of_stocks))\n",
    "            i = 0\n",
    "            for vec in self.population:\n",
    "                if not (vec == lucky_one).all():\n",
    "                    pop[i,:] = vec\n",
    "                    i+=1\n",
    "        else:\n",
    "            pop = self.population.copy()\n",
    "        \n",
    "        new_pop = np.array(sorted(pop,key=self.fitness,reverse=True))\n",
    "\n",
    "        return new_pop[:len(new_pop)//2,:]\n",
    "\n",
    "    def create_children(self,parents):\n",
    "        \n",
    "        children = np.zeros(shape=(self.population_size//2,self.number_of_stocks))\n",
    "        np.random.shuffle(parents)\n",
    "        first_p, second_p = map(list,np.split(parents,2))\n",
    "        for i in range(len(parents)//2):\n",
    "            parent1 = first_p.pop(0)\n",
    "            parent2 = second_p.pop(0)\n",
    "\n",
    "            child1, child2 = self.k_crossover(parent1,parent2)\n",
    "\n",
    "            child1 = self.mutation(child1)\n",
    "            child2 = self.mutation(child2)\n",
    "\n",
    "            child1 = self.normalize(child1)\n",
    "            child2 = self.normalize(child2)\n",
    "\n",
    "            children[i,:] = child1\n",
    "            children[i+len(parents)//2,:] = child2\n",
    "\n",
    "        return children \n",
    "    \n",
    "    def k_crossover(self,x,y):\n",
    "\n",
    "        slices = set()\n",
    "        while len(slices) < self.k-1:\n",
    "            slice_index = random.choice([i for i in range(1,len(x)) if i not in slices])\n",
    "            if slice_index not in slices:\n",
    "                slices.add(slice_index)\n",
    "\n",
    "        slices = sorted(list(slices))\n",
    "        slices.append(self.number_of_stocks)\n",
    "\n",
    "        new_x = np.zeros(self.number_of_stocks)\n",
    "        new_y = np.zeros(self.number_of_stocks)\n",
    "\n",
    "        first = 0\n",
    "        switch = True\n",
    "        for second in slices:\n",
    "            if switch:\n",
    "                new_x[first:second] = x[first:second]\n",
    "                new_y[first:second] = y[first:second]\n",
    "            else:\n",
    "                new_x[first:second] = y[first:second]\n",
    "                new_y[first:second] = x[first:second]\n",
    "            first = second\n",
    "            switch = not switch\n",
    "\n",
    "        return new_x,new_y\n",
    "\n",
    "    def mutation(self,child):\n",
    "        for i in range(len(child)):\n",
    "            if random.random() < self.mutation_prob:\n",
    "                child[i] += random.gauss(0.25,0.1)\n",
    "        return child\n",
    "\n",
    "    def solve(self,max_generations, goal):\n",
    "        \n",
    "        best_fit, best = self.evaluate()\n",
    "        \n",
    "        for iteration in range(max_generations):\n",
    "            print(iteration,'iteration',end=' ')\n",
    "            if best_fit > goal:\n",
    "                break\n",
    "\n",
    "            lucky_one = None\n",
    "            if len(self.population)%2 == 1:\n",
    "                lucky_one = self.get_lucky_one()\n",
    "\n",
    "            parents = self.select_parents(lucky_one)\n",
    "\n",
    "            children = self.create_children(parents)\n",
    "\n",
    "            if lucky_one is not None:\n",
    "                lucky_one = lucky_one.reshape((1,len(lucky_one)))\n",
    "                self.population = np.concatenate((lucky_one,parents,children),axis=0)\n",
    "            else:\n",
    "                self.population = np.concatenate((parents,children),axis=0)\n",
    "\n",
    "            best_fit, best = self.evaluate()\n",
    "            print('best ratio:',best_fit)\n",
    "        print('finnished')\n",
    "        return best,best_fit"
   ]
  },
  {
   "cell_type": "code",
   "execution_count": 76,
   "metadata": {},
   "outputs": [
    {
     "name": "stdout",
     "output_type": "stream",
     "text": [
      "0 iteration best ratio: 3.970766100108268\n",
      "1 iteration best ratio: 4.035070654199677\n",
      "2 iteration best ratio: 4.035070654199677\n",
      "3 iteration best ratio: 4.035070654199677\n",
      "4 iteration best ratio: 4.035070654199677\n",
      "5 iteration best ratio: 4.172105168772014\n",
      "6 iteration best ratio: 4.172105168772014\n",
      "7 iteration best ratio: 4.220619096166176\n",
      "8 iteration best ratio: 4.236353419035512\n",
      "9 iteration best ratio: 4.236353419035512\n",
      "finnished\n",
      "[0.0222503  0.00618242 0.14101715 0.02416286 0.0116305  0.00506194\n",
      " 0.01631985 0.10946576 0.01015295 0.02883629 0.04509702 0.00778493\n",
      " 0.01378228 0.00226218 0.1263806  0.01668174 0.02242732 0.01481387\n",
      " 0.01794995 0.02539556 0.03376344 0.02541969 0.00233631 0.0148258\n",
      " 0.00453587 0.02219779 0.01576228 0.02310145 0.02741787 0.00115135\n",
      " 0.00111051 0.02453937 0.00353399 0.00867403 0.00756338 0.01400409\n",
      " 0.024363   0.01353728 0.01197047 0.00415943 0.01186025 0.01791658\n",
      " 0.00983458 0.00607907 0.00268668] 4.236353419035512\n"
     ]
    }
   ],
   "source": [
    "wanted_stocks = ['GOOG', 'SPG', 'GOOGL', 'MSFT', 'GD', 'ACN', 'COP', 'F', 'BAC', 'GS',\n",
    "                'NVDA', 'AIG', 'MS', 'WFC', 'ORCL', 'XOM', 'TGT', 'LOW', 'EXC', 'COST',\n",
    "                'AXP', 'BK', 'JPM', 'COF', 'CSCO', 'DHR', 'UNH', 'CVS', 'LLY', 'CVX',\n",
    "                'MET', 'AMT', 'CRM', 'BLK', 'RTX', 'MCD', 'TMO', 'LIN', 'ADBE', 'EMR',\n",
    "                'USB', 'UPS', 'TSLA', 'PFE', 'PM']\n",
    "stocks = pd.read_csv('data/sap100_data_08112021.csv',index_col=0).loc[:,wanted_stocks]\n",
    "returns = stocks/stocks.shift(1)-1\n",
    "rates = returns.mean() * 252\n",
    "sigma = returns.cov() * 252\n",
    "g = GenAlg(population_size=100, k_crossover=5, mutation_prob=0.01, rates=rates,sigma=sigma)\n",
    "\n",
    "best,best_fit = g.solve(10,8)\n",
    "print(best,best_fit)\n",
    "# print(g.population[0,:],'\\n',g.population[1,:])\n",
    "\n",
    "# g.k_crossover(g.population[0,:],g.population[1,:])\n",
    "\n",
    "# test_pop = np.zeros(shape=(5,45))\n",
    "# for i in range(5):\n",
    "#     test_pop[i,i] = 1\n",
    "# print(test_pop)\n",
    "# for i in range(5):\n",
    "#     print(g.fitness(test_pop[i,:]))\n",
    "# g.population = test_pop\n",
    "# v = g.get_lucky_one()\n",
    "# print('lucky one: ',v)\n",
    "# print('paretns')\n",
    "# print(g.select_parents(v))"
   ]
  },
  {
   "cell_type": "code",
   "execution_count": 47,
   "metadata": {},
   "outputs": [
    {
     "data": {
      "text/plain": [
       "0.04158689"
      ]
     },
     "execution_count": 47,
     "metadata": {},
     "output_type": "execute_result"
    }
   ],
   "source": [
    "a = [0.01114155, 0.02112081, 0.0026389 , 0.04158689 ,0.02911615 ,0.00810653,\n",
    " 0.00953936, 0.01291289, 0.03460458, 0.0172124,  0.02812051, 0.00615008,\n",
    " 0.03882499, 0.01603352 ,0.03222546, 0.02002055, 0.01096212, 0.00879385,\n",
    " 0.02504149, 0.02297195, 0.04096784, 0.04078883, 0.00404298 ,0.00336519,\n",
    " 0.02037814, 0.0395612 , 0.041175,   0.03722034, 0.01283837, 0.02809674,\n",
    " 0.0232359 , 0.03603028 ,0.04134022, 0.00582411, 0.01888116, 0.03858949,\n",
    " 0.00809903, 0.03437509, 0.03463708 ,0.00438613 ,0.02915961, 0.01188739,\n",
    " 0.00890677, 0.02284441, 0.01624411]\n",
    "max(a)"
   ]
  },
  {
   "cell_type": "code",
   "execution_count": 65,
   "metadata": {},
   "outputs": [
    {
     "data": {
      "text/plain": [
       "0.04564275"
      ]
     },
     "execution_count": 65,
     "metadata": {},
     "output_type": "execute_result"
    }
   ],
   "source": [
    "b = [0.00022345, 0.04564275, 0.04497704, 0.04376311, 0.0033903 , 0.03373989,\n",
    " 0.04167013,0.04474843, 0.03991494, 0.013077 ,  0.04262159 ,0.01209769,\n",
    " 0.03196004, 0.01024975, 0.03971374 ,0.01291337, 0.00605673, 0.03494775,\n",
    " 0.01216985, 0.00211064, 0.00081961, 0.03155706, 0.01703879, 0.02700199,\n",
    " 0.00440683 ,0.01209849, 0.02187265, 0.03169752, 0.02678447 ,0.00618878,\n",
    " 0.0080071 , 0.03951205 ,0.01762882, 0.01950138, 0.00031214, 0.02950566,\n",
    " 0.04465236, 0.01634321 ,0.01039963, 0.00432588, 0.02807762, 0.00894588,\n",
    " 0.03424738, 0.0192949,  0.02379159]\n",
    "max(b)"
   ]
  },
  {
   "cell_type": "code",
   "execution_count": 70,
   "metadata": {},
   "outputs": [],
   "source": [
    "def print_stats(vec):\n",
    "    w = np.array(vec)\n",
    "    r = np.sum(w*rates)\n",
    "    print('rate',r)\n",
    "    v = np.sqrt(np.dot(w.T,np.dot(sigma,w)))\n",
    "    print('volatility:',v)\n",
    "    print('shapre ratio',r/v)"
   ]
  },
  {
   "cell_type": "code",
   "execution_count": 72,
   "metadata": {},
   "outputs": [
    {
     "name": "stdout",
     "output_type": "stream",
     "text": [
      "rate 0.4701581146929166\n",
      "volatility: 0.12546335975815912\n",
      "shapre ratio 3.747373859580875\n",
      "\n",
      "rate 0.542997231753761\n",
      "volatility: 0.1344691863204556\n",
      "shapre ratio 4.038079255270691\n"
     ]
    }
   ],
   "source": [
    "print_stats(a)\n",
    "print()\n",
    "print_stats(b)"
   ]
  }
 ],
 "metadata": {
  "interpreter": {
   "hash": "d153afc154f55f63edb29ab3b8e0ef98f4223ee04c2a602f3a0cf8c8ffe67f14"
  },
  "kernelspec": {
   "display_name": "Python 3.9.1 64-bit",
   "language": "python",
   "name": "python3"
  },
  "language_info": {
   "codemirror_mode": {
    "name": "ipython",
    "version": 3
   },
   "file_extension": ".py",
   "mimetype": "text/x-python",
   "name": "python",
   "nbconvert_exporter": "python",
   "pygments_lexer": "ipython3",
   "version": "3.9.1"
  },
  "orig_nbformat": 4
 },
 "nbformat": 4,
 "nbformat_minor": 2
}
